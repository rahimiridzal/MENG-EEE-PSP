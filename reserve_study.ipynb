{
 "cells": [
  {
   "cell_type": "code",
   "execution_count": 6,
   "metadata": {},
   "outputs": [],
   "source": [
    "using CSV, DataFrames, JuMP, HiGHS\n",
    "include(\"CEM.jl\")\n",
    "\n",
    "storageinfo = CSV.read(joinpath(\"cleaned\",\"storageinfo.csv\"), DataFrame)\n",
    "generatorinfo = CSV.read(joinpath(\"cleaned\",\"generatorinfo.csv\"), DataFrame)\n",
    "vreinfo = CSV.read(joinpath(\"cleaned\",\"vreinfo.csv\"), DataFrame)\n",
    "halfhourlydemand = CSV.read(joinpath(\"cleaned\",\"halfhourlydemand.csv\"), DataFrame)\n",
    "halfhourlyvrecf = CSV.read(joinpath(\"cleaned\",\"halfhourlyvrecf.csv\"), DataFrame)\n",
    "halfhourlydemand = halfhourlydemand[1:1488,:];"
   ]
  },
  {
   "cell_type": "code",
   "execution_count": 7,
   "metadata": {},
   "outputs": [],
   "source": [
    "res_results = Dict()\n",
    "reserve_requirements = [\"none\", \"fixed\", \"spinning\", \"flexible\", \"all\"]\n",
    "for requirement in reserve_requirements\n",
    "    res_results[requirement] = CEM(vreinfo, generatorinfo, storageinfo, halfhourlydemand, halfhourlyvrecf; \n",
    "    budget=30e9, voll=100e3, cd_rho=10, reserve=requirement, silent=true)\n",
    "end"
   ]
  },
  {
   "cell_type": "code",
   "execution_count": null,
   "metadata": {},
   "outputs": [],
   "source": []
  }
 ],
 "metadata": {
  "kernelspec": {
   "display_name": "Julia 1.9.3",
   "language": "julia",
   "name": "julia-1.9"
  },
  "language_info": {
   "file_extension": ".jl",
   "mimetype": "application/julia",
   "name": "julia",
   "version": "1.9.3"
  }
 },
 "nbformat": 4,
 "nbformat_minor": 2
}
