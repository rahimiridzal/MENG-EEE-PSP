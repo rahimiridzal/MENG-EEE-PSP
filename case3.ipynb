{
 "cells": [
  {
   "cell_type": "markdown",
   "metadata": {},
   "source": [
    "# Case 3: No LDES to compare with Case 2"
   ]
  },
  {
   "cell_type": "markdown",
   "metadata": {},
   "source": [
    "## Scheme 1 (c1s1b20 - No reserve requirements)"
   ]
  },
  {
   "cell_type": "code",
   "execution_count": 1,
   "metadata": {},
   "outputs": [],
   "source": [
    "using CSV, DataFrames, JuMP, HiGHS, SCIP, Clp\n",
    "\n",
    "storageinfo = CSV.read(joinpath(\"cleaned\",\"storageinfo.csv\"), DataFrame)\n",
    "generatorinfo = CSV.read(joinpath(\"cleaned\",\"generatorinfo.csv\"), DataFrame)\n",
    "vreinfo = CSV.read(joinpath(\"cleaned\",\"vreinfo.csv\"), DataFrame)\n",
    "halfhourlydemand = CSV.read(joinpath(\"cleaned\",\"halfhourlydemand.csv\"), DataFrame)\n",
    "halfhourlyvrecf = CSV.read(joinpath(\"cleaned\",\"halfhourlyvrecf.csv\"), DataFrame)\n",
    "halfhourlydemand = halfhourlydemand[1:1440,:];"
   ]
  },
  {
   "cell_type": "markdown",
   "metadata": {},
   "source": [
    "## Scheme 2 Fixed reserve requirements (2000MW)"
   ]
  },
  {
   "cell_type": "code",
   "execution_count": 2,
   "metadata": {},
   "outputs": [
    {
     "data": {
      "text/plain": [
       "case3scheme2 (generic function with 1 method)"
      ]
     },
     "metadata": {},
     "output_type": "display_data"
    }
   ],
   "source": [
    "function case3scheme2(vreinfo, generatorinfo, storageinfo, halfhourlydemand, halfhourlyvrecf; \n",
    "    budget, voll, bigm, epsilon)\n",
    "\n",
    "    # SETS\n",
    "    V = vreinfo.id\n",
    "    G = generatorinfo.id\n",
    "    S = storageinfo.id\n",
    "    T = halfhourlydemand.hh\n",
    "    T1 = T[2:end]\n",
    "\n",
    "    # INITIATE MODEL\n",
    "    model = Model()\n",
    "    set_optimizer(model, HiGHS.Optimizer)\n",
    "\n",
    "    # DECISION VARIABLES\n",
    "    @variables(model, begin\n",
    "        CAPG[G] >= 0\n",
    "        GEN[G,T] >= 0\n",
    "        R_GEN[G,T] >= 0\n",
    "        CURTAIL[V,T] >= 0\n",
    "        NSE[T] >= 0\n",
    "    end)\n",
    "\n",
    "    # BUDGET CONSTRAINT\n",
    "    @expression(model, GenInvCost, sum(generatorinfo[generatorinfo.id.==g,:fixedCost][1] * CAPG[g] for g in G))\n",
    "    @expression(model, TIC, GenInvCost)\n",
    "    @constraint(model, cBudget, TIC <= budget)\n",
    "\n",
    "    # OBJECTIVE FUNCTION\n",
    "    @expression(model, EnergyProvisionCost, \n",
    "        sum(0.5 * generatorinfo[generatorinfo.id.==g,:varCost][1] * GEN[g,t] for g in G for t in T))\n",
    "    @expression(model, ReserveProvisionCost,\n",
    "        sum(0.5 * generatorinfo[generatorinfo.id.==g,:varCost][1] * R_GEN[g,t] for g in G for t in T))\n",
    "    @expression(model, UnservedEnergyCost, \n",
    "        sum(0.5 * voll * NSE[t] for t in T))\n",
    "    @expression(model, CurtailedVreCost,\n",
    "        sum(0.5 * vreinfo[vreinfo.id.==v,:varCost][1] * CURTAIL[v,t] for v in V for t in T))\n",
    "    @objective(model, Min, EnergyProvisionCost + ReserveProvisionCost + UnservedEnergyCost + CurtailedVreCost)\n",
    "\n",
    "    # POWER BALANCE CONSTRAINT\n",
    "    @constraint(model, c01[t in T], sum(GEN[g,t] for g in G) + NSE[t] - sum(CURTAIL[v,t] for v in V) +\n",
    "        sum(vreinfo[vreinfo.id.==v,:installedMW][1] * \n",
    "        halfhourlyvrecf[(halfhourlyvrecf.hh.==t) .& (halfhourlyvrecf.vre_id.==v),:cf][1] for v in V) == \n",
    "        halfhourlydemand[halfhourlydemand.hh.==t,:load][1])\n",
    "    \n",
    "    # GENERATOR LIMIT CONSTRAINT\n",
    "    @constraint(model, c90[g in G, t in T], GEN[g,t] + R_GEN[g,t] <= CAPG[g])\n",
    "\n",
    "    # GENERATOR RAMP UP CONSTRAINT\n",
    "    @constraint(model, c11[g in G, t in T1], \n",
    "        GEN[g,t] - GEN[g,t-1] <= generatorinfo[generatorinfo.id.==g,:rampupRate][1] * CAPG[g])\n",
    "    \n",
    "    # GENERATOR RAMP DOWN CONSTRAINT\n",
    "    @constraint(model, c12[g in G, t in T1],\n",
    "        GEN[g,t-1] - GEN[g,t] <= generatorinfo[generatorinfo.id.==g,:rampdownRate][1] * CAPG[g])\n",
    "    \n",
    "    # VRE CURTAIL CONSTRAINT\n",
    "    @constraint(model, c13[v in V, t in T], CURTAIL[v,t] <= \n",
    "        vreinfo[vreinfo.id.==v,:installedMW][1] * \n",
    "        halfhourlyvrecf[(halfhourlyvrecf.hh.==t) .& (halfhourlyvrecf.vre_id.==v),:cf][1])\n",
    "\n",
    "    # VRE RESERVE REQUIREMENT CONSTRAINT\n",
    "    @constraint(model, c24[t in T], \n",
    "        sum(R_GEN[g,t] for g in G) >= 2000)\n",
    "\n",
    "    optimize!(model)\n",
    "\n",
    "    return(\n",
    "        CAPG = value.(CAPG).data,\n",
    "        GEN = value.(GEN).data,\n",
    "        R_GEN = value.(R_GEN).data,\n",
    "        CURTAIL = value.(CURTAIL).data,\n",
    "        NSE = value.(NSE).data,\n",
    "        GenInvCost = value(GenInvCost),\n",
    "        TIC = value(TIC),\n",
    "        EnergyProvisionCost = value(EnergyProvisionCost),\n",
    "        ReserveProvisionCost = value(ReserveProvisionCost),\n",
    "        UnservedEnergyCost = value(UnservedEnergyCost),\n",
    "        CurtailedVreCost = value(CurtailedVreCost),\n",
    "        OV = objective_value(model),\n",
    "    )\n",
    "end"
   ]
  },
  {
   "cell_type": "code",
   "execution_count": 3,
   "metadata": {},
   "outputs": [
    {
     "name": "stdout",
     "output_type": "stream",
     "text": [
      "Running HiGHS 1.6.0: Copyright (c) 2023 HiGHS under MIT licence terms\n",
      "Presolving model\n",
      "11517 rows, 10134 cols, 36042 nonzeros\n",
      "11516 rows, 10021 cols, 35928 nonzeros\n",
      "Presolve : Reductions: rows 11516(-4321); columns 10021(-1501); elements 35928(-5822)\n",
      "Solving the presolved LP\n",
      "Using EKK dual simplex solver - serial\n",
      "  Iteration        Objective     Infeasibilities num(sum)\n",
      "          0     2.5399500000e+05 Pr: 2880(2.65584e+07) 0s\n",
      "       2881     1.1309001594e+09 Pr: 0(0) 0s\n",
      "Solving the original LP from the solution after postsolve\n",
      "Model   status      : Optimal\n",
      "Simplex   iterations: 2881\n",
      "Objective value     :  1.1309001594e+09\n",
      "HiGHS run time      :          0.03\n"
     ]
    },
    {
     "data": {
      "text/plain": [
       "(CAPG = [9554.923076923076, 51819.4], GEN = [0.0 0.0 … 0.0 0.0; 0.0 0.0 … 0.0 0.0], R_GEN = [0.0 0.0 … 0.0 0.0; 2000.0 2000.0 … 2000.0 2000.0], CURTAIL = [-0.0 -0.0 … -0.0 -0.0; 0.0 0.0 … 0.0 0.0; 17712.800000000003 17067.800000000003 … 202.59999999999854 1117.5999999999985], NSE = [0.0, 0.0, 0.0, 0.0, 0.0, 0.0, 0.0, 0.0, 0.0, 0.0  …  0.0, 0.0, 0.0, 0.0, 0.0, 0.0, 0.0, 0.0, 0.0, 0.0], GenInvCost = 2.0e10, TIC = 2.0e10, EnergyProvisionCost = 9.16729056e8, ReserveProvisionCost = 1.944e8, UnservedEnergyCost = 0.0, CurtailedVreCost = 1.9771103400000032e7, OV = 1.1309001594000006e9)"
      ]
     },
     "metadata": {},
     "output_type": "display_data"
    }
   ],
   "source": [
    "c3s2 = case3scheme2(vreinfo, generatorinfo, storageinfo, halfhourlydemand, halfhourlyvrecf; \n",
    "budget=20e9, voll=1e6, bigm=100e3, epsilon=0.05)"
   ]
  },
  {
   "cell_type": "markdown",
   "metadata": {},
   "source": [
    "## Scheme 3 Dynamic (Demand-based) Requirements (3% of Demand)"
   ]
  },
  {
   "cell_type": "code",
   "execution_count": 10,
   "metadata": {},
   "outputs": [
    {
     "data": {
      "text/plain": [
       "case3scheme3 (generic function with 1 method)"
      ]
     },
     "metadata": {},
     "output_type": "display_data"
    }
   ],
   "source": [
    "function case3scheme3(vreinfo, generatorinfo, storageinfo, halfhourlydemand, halfhourlyvrecf; \n",
    "    budget, voll, bigm, epsilon)\n",
    "\n",
    "    # SETS\n",
    "    V = vreinfo.id\n",
    "    G = generatorinfo.id\n",
    "    S = storageinfo.id\n",
    "    T = halfhourlydemand.hh\n",
    "    T1 = T[2:end]\n",
    "\n",
    "    # INITIATE MODEL\n",
    "    model = Model()\n",
    "    set_optimizer(model, HiGHS.Optimizer)\n",
    "\n",
    "    # DECISION VARIABLES\n",
    "    @variables(model, begin\n",
    "        CAPG[G] >= 0\n",
    "        GEN[G,T] >= 0\n",
    "        R_GEN[G,T] >= 0\n",
    "        CURTAIL[V,T] >= 0\n",
    "        NSE[T] >= 0\n",
    "    end)\n",
    "\n",
    "    # BUDGET CONSTRAINT\n",
    "    @expression(model, GenInvCost, sum(generatorinfo[generatorinfo.id.==g,:fixedCost][1] * CAPG[g] for g in G))\n",
    "    @expression(model, TIC, GenInvCost)\n",
    "    @constraint(model, cBudget, TIC <= budget)\n",
    "\n",
    "    # OBJECTIVE FUNCTION\n",
    "    @expression(model, EnergyProvisionCost, \n",
    "        sum(0.5 * generatorinfo[generatorinfo.id.==g,:varCost][1] * GEN[g,t] for g in G for t in T))\n",
    "    @expression(model, ReserveProvisionCost,\n",
    "        sum(0.5 * generatorinfo[generatorinfo.id.==g,:varCost][1] * R_GEN[g,t] for g in G for t in T))\n",
    "    @expression(model, UnservedEnergyCost, \n",
    "        sum(0.5 * voll * NSE[t] for t in T))\n",
    "    @expression(model, CurtailedVreCost,\n",
    "        sum(0.5 * vreinfo[vreinfo.id.==v,:varCost][1] * CURTAIL[v,t] for v in V for t in T))\n",
    "    @objective(model, Min, EnergyProvisionCost + ReserveProvisionCost + UnservedEnergyCost + CurtailedVreCost)\n",
    "\n",
    "    # POWER BALANCE CONSTRAINT\n",
    "    @constraint(model, c01[t in T], sum(GEN[g,t] for g in G) + NSE[t] - sum(CURTAIL[v,t] for v in V) +\n",
    "        sum(vreinfo[vreinfo.id.==v,:installedMW][1] * \n",
    "        halfhourlyvrecf[(halfhourlyvrecf.hh.==t) .& (halfhourlyvrecf.vre_id.==v),:cf][1] for v in V) == \n",
    "        halfhourlydemand[halfhourlydemand.hh.==t,:load][1])\n",
    "    \n",
    "    # GENERATOR LIMIT CONSTRAINT\n",
    "    @constraint(model, c90[g in G, t in T], GEN[g,t] + R_GEN[g,t] <= CAPG[g])\n",
    "\n",
    "    # GENERATOR RAMP UP CONSTRAINT\n",
    "    @constraint(model, c11[g in G, t in T1], \n",
    "        GEN[g,t] - GEN[g,t-1] <= generatorinfo[generatorinfo.id.==g,:rampupRate][1] * CAPG[g])\n",
    "    \n",
    "    # GENERATOR RAMP DOWN CONSTRAINT\n",
    "    @constraint(model, c12[g in G, t in T1],\n",
    "        GEN[g,t-1] - GEN[g,t] <= generatorinfo[generatorinfo.id.==g,:rampdownRate][1] * CAPG[g])\n",
    "    \n",
    "    # VRE CURTAIL CONSTRAINT\n",
    "    @constraint(model, c13[v in V, t in T], CURTAIL[v,t] <= \n",
    "        vreinfo[vreinfo.id.==v,:installedMW][1] * \n",
    "        halfhourlyvrecf[(halfhourlyvrecf.hh.==t) .& (halfhourlyvrecf.vre_id.==v),:cf][1])\n",
    "\n",
    "    # VRE RESERVE REQUIREMENT CONSTRAINT\n",
    "    @constraint(model, c24[t in T], \n",
    "        sum(R_GEN[g,t] for g in G) >= 0.03 * halfhourlydemand[halfhourlydemand.hh.==t,:load][1])\n",
    "\n",
    "    optimize!(model)\n",
    "\n",
    "    return(\n",
    "        CAPG = value.(CAPG).data,\n",
    "        GEN = value.(GEN).data,\n",
    "        R_GEN = value.(R_GEN).data,\n",
    "        CURTAIL = value.(CURTAIL).data,\n",
    "        NSE = value.(NSE).data,\n",
    "        GenInvCost = value(GenInvCost),\n",
    "        TIC = value(TIC),\n",
    "        EnergyProvisionCost = value(EnergyProvisionCost),\n",
    "        ReserveProvisionCost = value(ReserveProvisionCost),\n",
    "        UnservedEnergyCost = value(UnservedEnergyCost),\n",
    "        CurtailedVreCost = value(CurtailedVreCost),\n",
    "        OV = objective_value(model),\n",
    "    )\n",
    "end"
   ]
  },
  {
   "cell_type": "code",
   "execution_count": 11,
   "metadata": {},
   "outputs": [
    {
     "name": "stdout",
     "output_type": "stream",
     "text": [
      "Running HiGHS 1.6.0: Copyright (c) 2023 HiGHS under MIT licence terms\n",
      "Presolving model\n",
      "11517 rows, 10134 cols, 36042 nonzeros\n",
      "11516 rows, 10021 cols, 35928 nonzeros\n",
      "Presolve : Reductions: rows 11516(-4321); columns 10021(-1501); elements 35928(-5822)\n",
      "Solving the presolved LP\n",
      "Using EKK dual simplex solver - serial\n",
      "  Iteration        Objective     Infeasibilities num(sum)\n",
      "          0     2.5399500000e+05 Pr: 2880(2.53784e+07) 0s\n",
      "       2881     1.0512484894e+09 Pr: 0(0) 0s\n",
      "Solving the original LP from the solution after postsolve\n",
      "Model   status      : Optimal\n",
      "Simplex   iterations: 2881\n",
      "Objective value     :  1.0512484894e+09\n",
      "HiGHS run time      :          0.03\n"
     ]
    },
    {
     "data": {
      "text/plain": [
       "(CAPG = [10245.966666666667, 51434.39], GEN = [0.0 0.0 … 0.0 0.0; 0.0 0.0 … 0.0 0.0], R_GEN = [0.0 0.0 … 0.0 0.0; 884.6999999999999 904.05 … 1020.06 992.61], CURTAIL = [-0.0 -0.0 … -0.0 -0.0; 0.0 0.0 … 0.0 0.0; 17712.800000000003 17067.800000000003 … 202.59999999999854 1117.5999999999985], NSE = [0.0, 0.0, 0.0, 0.0, 0.0, 0.0, 0.0, 0.0, 0.0, 0.0  …  0.0, 0.0, 0.0, 0.0, 0.0, 0.0, 0.0, 0.0, 0.0, 0.0], GenInvCost = 2.0e10, TIC = 2.0e10, EnergyProvisionCost = 9.16729056e8, ReserveProvisionCost = 1.1474833004999977e8, UnservedEnergyCost = 0.0, CurtailedVreCost = 1.9771103400000032e7, OV = 1.0512484894499998e9)"
      ]
     },
     "metadata": {},
     "output_type": "display_data"
    }
   ],
   "source": [
    "c3s3 = case3scheme3(vreinfo, generatorinfo, storageinfo, halfhourlydemand, halfhourlyvrecf; \n",
    "budget=20e9, voll=1e6, bigm=100e3, epsilon=0.05)"
   ]
  },
  {
   "cell_type": "code",
   "execution_count": 21,
   "metadata": {},
   "outputs": [
    {
     "data": {
      "text/plain": [
       "case3scheme4 (generic function with 1 method)"
      ]
     },
     "metadata": {},
     "output_type": "display_data"
    }
   ],
   "source": [
    "## Scheme 4 Dynamic (VRE-based) Requirements (10% Wind 4% Solar)\n",
    "function case3scheme4(vreinfo, generatorinfo, storageinfo, halfhourlydemand, halfhourlyvrecf; \n",
    "    budget, voll, bigm, epsilon)\n",
    "\n",
    "    # SETS\n",
    "    V = vreinfo.id\n",
    "    G = generatorinfo.id\n",
    "    S = storageinfo.id\n",
    "    T = halfhourlydemand.hh\n",
    "    T1 = T[2:end]\n",
    "\n",
    "    # INITIATE MODEL\n",
    "    model = Model()\n",
    "    set_optimizer(model, HiGHS.Optimizer)\n",
    "\n",
    "    # DECISION VARIABLES\n",
    "    @variables(model, begin\n",
    "        CAPG[G] >= 0\n",
    "        GEN[G,T] >= 0\n",
    "        R_GEN[G,T] >= 0\n",
    "        CURTAIL[V,T] >= 0\n",
    "        NSE[T] >= 0\n",
    "    end)\n",
    "\n",
    "    # BUDGET CONSTRAINT\n",
    "    @expression(model, GenInvCost, sum(generatorinfo[generatorinfo.id.==g,:fixedCost][1] * CAPG[g] for g in G))\n",
    "    @expression(model, TIC, GenInvCost)\n",
    "    @constraint(model, cBudget, TIC <= budget)\n",
    "\n",
    "    # OBJECTIVE FUNCTION\n",
    "    @expression(model, EnergyProvisionCost, \n",
    "        sum(0.5 * generatorinfo[generatorinfo.id.==g,:varCost][1] * GEN[g,t] for g in G for t in T))\n",
    "    @expression(model, ReserveProvisionCost,\n",
    "        sum(0.5 * generatorinfo[generatorinfo.id.==g,:varCost][1] * R_GEN[g,t] for g in G for t in T))\n",
    "    @expression(model, UnservedEnergyCost, \n",
    "        sum(0.5 * voll * NSE[t] for t in T))\n",
    "    @expression(model, CurtailedVreCost,\n",
    "        sum(0.5 * vreinfo[vreinfo.id.==v,:varCost][1] * CURTAIL[v,t] for v in V for t in T))\n",
    "    @objective(model, Min, EnergyProvisionCost + ReserveProvisionCost + UnservedEnergyCost + CurtailedVreCost)\n",
    "\n",
    "    # POWER BALANCE CONSTRAINT\n",
    "    @constraint(model, c01[t in T], sum(GEN[g,t] for g in G) + NSE[t] - sum(CURTAIL[v,t] for v in V) +\n",
    "        sum(vreinfo[vreinfo.id.==v,:installedMW][1] * \n",
    "        halfhourlyvrecf[(halfhourlyvrecf.hh.==t) .& (halfhourlyvrecf.vre_id.==v),:cf][1] for v in V) == \n",
    "        halfhourlydemand[halfhourlydemand.hh.==t,:load][1])\n",
    "    \n",
    "    # GENERATOR LIMIT CONSTRAINT\n",
    "    @constraint(model, c90[g in G, t in T], GEN[g,t] + R_GEN[g,t] <= CAPG[g])\n",
    "\n",
    "    # GENERATOR RAMP UP CONSTRAINT\n",
    "    @constraint(model, c11[g in G, t in T1], \n",
    "        GEN[g,t] - GEN[g,t-1] <= generatorinfo[generatorinfo.id.==g,:rampupRate][1] * CAPG[g])\n",
    "    \n",
    "    # GENERATOR RAMP DOWN CONSTRAINT\n",
    "    @constraint(model, c12[g in G, t in T1],\n",
    "        GEN[g,t-1] - GEN[g,t] <= generatorinfo[generatorinfo.id.==g,:rampdownRate][1] * CAPG[g])\n",
    "    \n",
    "    # VRE CURTAIL CONSTRAINT\n",
    "    @constraint(model, c13[v in V, t in T], CURTAIL[v,t] <= \n",
    "        vreinfo[vreinfo.id.==v,:installedMW][1] * \n",
    "        halfhourlyvrecf[(halfhourlyvrecf.hh.==t) .& (halfhourlyvrecf.vre_id.==v),:cf][1])\n",
    "\n",
    "    # VRE RESERVE REQUIREMENT CONSTRAINT\n",
    "    @constraint(model, c24[t in T], \n",
    "        sum(R_GEN[g,t] for g in G) >= 0.04 * halfhourlyvrecf[halfhourlyvrecf.vre_id.==1,:cf][1] * vreinfo[vreinfo.id.==1,:installedMW][1] + 0.1 * (halfhourlyvrecf[halfhourlyvrecf.vre_id.==2,:cf][1] * vreinfo[vreinfo.id.==2,:installedMW][1] + halfhourlyvrecf[halfhourlyvrecf.vre_id.==3,:cf][1] * vreinfo[vreinfo.id.==3,:installedMW][1]))\n",
    "\n",
    "    optimize!(model)\n",
    "\n",
    "    return(\n",
    "        CAPG = value.(CAPG).data,\n",
    "        GEN = value.(GEN).data,\n",
    "        R_GEN = value.(R_GEN).data,\n",
    "        CURTAIL = value.(CURTAIL).data,\n",
    "        NSE = value.(NSE).data,\n",
    "        GenInvCost = value(GenInvCost),\n",
    "        TIC = value(TIC),\n",
    "        EnergyProvisionCost = value(EnergyProvisionCost),\n",
    "        ReserveProvisionCost = value(ReserveProvisionCost),\n",
    "        UnservedEnergyCost = value(UnservedEnergyCost),\n",
    "        CurtailedVreCost = value(CurtailedVreCost),\n",
    "        OV = objective_value(model),\n",
    "    )\n",
    "end"
   ]
  },
  {
   "cell_type": "code",
   "execution_count": 22,
   "metadata": {},
   "outputs": [
    {
     "name": "stdout",
     "output_type": "stream",
     "text": [
      "Running HiGHS 1.6.0: Copyright (c) 2023 HiGHS under MIT licence terms\n",
      "Presolving model\n",
      "11517 rows, 10134 cols, 36042 nonzeros\n",
      "11516 rows, 10021 cols, 35928 nonzeros\n",
      "Presolve : Reductions: rows 11516(-4321); columns 10021(-1501); elements 35928(-5822)\n",
      "Solving the presolved LP\n",
      "Using EKK dual simplex solver - serial\n",
      "  Iteration        Objective     Infeasibilities num(sum)\n",
      "          0     2.5399500000e+05 Pr: 2880(3.04756e+07) 0s\n",
      "       2881     1.3953113754e+09 Pr: 0(0) 0s\n",
      "Solving the original LP from the solution after postsolve\n",
      "Model   status      : Optimal\n",
      "Simplex   iterations: 2881\n",
      "Objective value     :  1.3953113754e+09\n",
      "HiGHS run time      :          0.03\n"
     ]
    },
    {
     "data": {
      "text/plain": [
       "(CAPG = [4672.369230769231, 54539.68], GEN = [0.0 0.0 … 0.0 0.0; 0.0 0.0 … 0.0 0.0], R_GEN = [0.0 0.0 … 0.0 0.0; 4720.280000000001 4720.280000000001 … 4720.280000000001 4720.280000000001], CURTAIL = [-0.0 -0.0 … -0.0 -0.0; 0.0 0.0 … 0.0 0.0; 17712.800000000003 17067.800000000003 … 202.59999999999854 1117.5999999999985], NSE = [0.0, 0.0, 0.0, 0.0, 0.0, 0.0, 0.0, 0.0, 0.0, 0.0  …  0.0, 0.0, 0.0, 0.0, 0.0, 0.0, 0.0, 0.0, 0.0, 0.0], GenInvCost = 2.0e10, TIC = 2.0e10, EnergyProvisionCost = 9.16729056e8, ReserveProvisionCost = 4.588112159999893e8, UnservedEnergyCost = 0.0, CurtailedVreCost = 1.9771103400000032e7, OV = 1.3953113754000864e9)"
      ]
     },
     "metadata": {},
     "output_type": "display_data"
    }
   ],
   "source": [
    "c3s4 = case3scheme4(vreinfo, generatorinfo, storageinfo, halfhourlydemand, halfhourlyvrecf; \n",
    "budget=20e9, voll=1e6, bigm=100e3, epsilon=0.05)"
   ]
  },
  {
   "cell_type": "code",
   "execution_count": 29,
   "metadata": {},
   "outputs": [
    {
     "data": {
      "text/plain": [
       "case3scheme5 (generic function with 1 method)"
      ]
     },
     "metadata": {},
     "output_type": "display_data"
    }
   ],
   "source": [
    "## Scheme 5 ALL\n",
    "function case3scheme5(vreinfo, generatorinfo, storageinfo, halfhourlydemand, halfhourlyvrecf; \n",
    "    budget, voll, bigm, epsilon)\n",
    "\n",
    "    # SETS\n",
    "    V = vreinfo.id\n",
    "    G = generatorinfo.id\n",
    "    S = storageinfo.id\n",
    "    T = halfhourlydemand.hh\n",
    "    T1 = T[2:end]\n",
    "\n",
    "    # INITIATE MODEL\n",
    "    model = Model()\n",
    "    set_optimizer(model, HiGHS.Optimizer)\n",
    "\n",
    "    # DECISION VARIABLES\n",
    "    @variables(model, begin\n",
    "        CAPG[G] >= 0\n",
    "        GEN[G,T] >= 0\n",
    "        R_GEN[G,T] >= 0\n",
    "        CURTAIL[V,T] >= 0\n",
    "        NSE[T] >= 0\n",
    "    end)\n",
    "\n",
    "    # BUDGET CONSTRAINT\n",
    "    @expression(model, GenInvCost, sum(generatorinfo[generatorinfo.id.==g,:fixedCost][1] * CAPG[g] for g in G))\n",
    "    @expression(model, TIC, GenInvCost)\n",
    "    @constraint(model, cBudget, TIC <= budget)\n",
    "\n",
    "    # OBJECTIVE FUNCTION\n",
    "    @expression(model, EnergyProvisionCost, \n",
    "        sum(0.5 * generatorinfo[generatorinfo.id.==g,:varCost][1] * GEN[g,t] for g in G for t in T))\n",
    "    @expression(model, ReserveProvisionCost,\n",
    "        sum(0.5 * generatorinfo[generatorinfo.id.==g,:varCost][1] * R_GEN[g,t] for g in G for t in T))\n",
    "    @expression(model, UnservedEnergyCost, \n",
    "        sum(0.5 * voll * NSE[t] for t in T))\n",
    "    @expression(model, CurtailedVreCost,\n",
    "        sum(0.5 * vreinfo[vreinfo.id.==v,:varCost][1] * CURTAIL[v,t] for v in V for t in T))\n",
    "    @objective(model, Min, EnergyProvisionCost + ReserveProvisionCost + UnservedEnergyCost + CurtailedVreCost)\n",
    "\n",
    "    # POWER BALANCE CONSTRAINT\n",
    "    @constraint(model, c01[t in T], sum(GEN[g,t] for g in G) + NSE[t] - sum(CURTAIL[v,t] for v in V) +\n",
    "        sum(vreinfo[vreinfo.id.==v,:installedMW][1] * \n",
    "        halfhourlyvrecf[(halfhourlyvrecf.hh.==t) .& (halfhourlyvrecf.vre_id.==v),:cf][1] for v in V) == \n",
    "        halfhourlydemand[halfhourlydemand.hh.==t,:load][1])\n",
    "    \n",
    "    # GENERATOR LIMIT CONSTRAINT\n",
    "    @constraint(model, c90[g in G, t in T], GEN[g,t] + R_GEN[g,t] <= CAPG[g])\n",
    "\n",
    "    # GENERATOR RAMP UP CONSTRAINT\n",
    "    @constraint(model, c11[g in G, t in T1], \n",
    "        GEN[g,t] - GEN[g,t-1] <= generatorinfo[generatorinfo.id.==g,:rampupRate][1] * CAPG[g])\n",
    "    \n",
    "    # GENERATOR RAMP DOWN CONSTRAINT\n",
    "    @constraint(model, c12[g in G, t in T1],\n",
    "        GEN[g,t-1] - GEN[g,t] <= generatorinfo[generatorinfo.id.==g,:rampdownRate][1] * CAPG[g])\n",
    "    \n",
    "    # VRE CURTAIL CONSTRAINT\n",
    "    @constraint(model, c13[v in V, t in T], CURTAIL[v,t] <= \n",
    "        vreinfo[vreinfo.id.==v,:installedMW][1] * \n",
    "        halfhourlyvrecf[(halfhourlyvrecf.hh.==t) .& (halfhourlyvrecf.vre_id.==v),:cf][1])\n",
    "\n",
    "    # VRE RESERVE REQUIREMENT CONSTRAINT\n",
    "    @constraint(model, c24[t in T], \n",
    "        sum(R_GEN[g,t] for g in G) >= 2000 + 0.03 * halfhourlydemand[halfhourlydemand.hh.==t,:load][1] + 0.04 * halfhourlyvrecf[halfhourlyvrecf.vre_id.==1,:cf][1] * vreinfo[vreinfo.id.==1,:installedMW][1] + 0.1 * (halfhourlyvrecf[halfhourlyvrecf.vre_id.==2,:cf][1] * vreinfo[vreinfo.id.==2,:installedMW][1] + halfhourlyvrecf[halfhourlyvrecf.vre_id.==3,:cf][1] * vreinfo[vreinfo.id.==3,:installedMW][1]))\n",
    "\n",
    "    optimize!(model)\n",
    "\n",
    "    return(\n",
    "        CAPG = value.(CAPG).data,\n",
    "        GEN = value.(GEN).data,\n",
    "        R_GEN = value.(R_GEN).data,\n",
    "        CURTAIL = value.(CURTAIL).data,\n",
    "        NSE = value.(NSE).data,\n",
    "        GenInvCost = value(GenInvCost),\n",
    "        TIC = value(TIC),\n",
    "        EnergyProvisionCost = value(EnergyProvisionCost),\n",
    "        ReserveProvisionCost = value(ReserveProvisionCost),\n",
    "        UnservedEnergyCost = value(UnservedEnergyCost),\n",
    "        CurtailedVreCost = value(CurtailedVreCost),\n",
    "        OV = objective_value(model),\n",
    "    )\n",
    "end"
   ]
  },
  {
   "cell_type": "code",
   "execution_count": 30,
   "metadata": {},
   "outputs": [
    {
     "name": "stdout",
     "output_type": "stream",
     "text": [
      "Running HiGHS 1.6.0: Copyright (c) 2023 HiGHS under MIT licence terms\n",
      "Presolving model\n",
      "11517 rows, 10134 cols, 36042 nonzeros\n",
      "11516 rows, 10021 cols, 35928 nonzeros\n",
      "Presolve : Reductions: rows 11516(-4321); columns 10021(-1501); elements 35928(-5822)\n",
      "Solving the presolved LP\n",
      "Using EKK dual simplex solver - serial\n",
      "  Iteration        Objective     Infeasibilities num(sum)\n",
      "          0     2.5399500000e+05 Pr: 2880(3.50556e+07) 0s\n",
      "       2888     1.7047172012e+09 Pr: 0(0) 0s\n",
      "Solving the original LP from the solution after postsolve\n",
      "Model   status      : Optimal\n",
      "Simplex   iterations: 2888\n",
      "Objective value     :  1.7047172012e+09\n",
      "HiGHS run time      :          0.03\n"
     ]
    },
    {
     "data": {
      "text/plain": [
       "(CAPG = [2284.738709677411, 55869.93129032258], GEN = [0.0 0.0 … 0.0 0.0; 0.0 0.0 … 0.0 0.0], R_GEN = [0.0 0.0 … 0.0 0.0; 7604.9800000000005 7624.330000000001 … 7740.34 7712.890000000001], CURTAIL = [-0.0 -0.0 … -0.0 -0.0; 0.0 0.0 … 0.0 0.0; 17712.800000000003 17067.800000000003 … 202.59999999999854 1117.5999999999985], NSE = [0.0, 0.0, 0.0, 0.0, 0.0, 0.0, 0.0, 0.0, 0.0, 0.0  …  0.0, 0.0, 0.0, 0.0, 0.0, 0.0, 0.0, 0.0, 0.0, 0.0], GenInvCost = 2.0e10, TIC = 2.0e10, EnergyProvisionCost = 9.169180096064516e8, ReserveProvisionCost = 7.680280882112911e8, UnservedEnergyCost = 0.0, CurtailedVreCost = 1.9771103400000032e7, OV = 1.7047172012177446e9)"
      ]
     },
     "metadata": {},
     "output_type": "display_data"
    }
   ],
   "source": [
    "c3s5 = case3scheme5(vreinfo, generatorinfo, storageinfo, halfhourlydemand, halfhourlyvrecf; \n",
    "budget=20e9, voll=1e6, bigm=100e3, epsilon=0.05)"
   ]
  },
  {
   "cell_type": "code",
   "execution_count": null,
   "metadata": {},
   "outputs": [],
   "source": []
  }
 ],
 "metadata": {
  "kernelspec": {
   "display_name": "Julia 1.9.3",
   "language": "julia",
   "name": "julia-1.9"
  },
  "language_info": {
   "file_extension": ".jl",
   "mimetype": "application/julia",
   "name": "julia",
   "version": "1.9.3"
  }
 },
 "nbformat": 4,
 "nbformat_minor": 2
}
