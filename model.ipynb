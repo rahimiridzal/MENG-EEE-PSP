{
 "cells": [
  {
   "cell_type": "markdown",
   "metadata": {},
   "source": [
    "# Power System Planning Project"
   ]
  },
  {
   "cell_type": "markdown",
   "metadata": {},
   "source": [
    "## 1. Generation Expansion and Long-Term Storage Planning"
   ]
  },
  {
   "cell_type": "markdown",
   "metadata": {},
   "source": [
    "### 1.1. Mathematical Formulation"
   ]
  },
  {
   "cell_type": "markdown",
   "metadata": {},
   "source": [
    "$\\begin{align}\n",
    "\\min \\quad &\\sum_{g\\in G} C^{G,F} CAP_g + \\sum_{r\\in R} C^{R,F} CAP_r + \\sum_{s\\in S} (C^{S,P} CAP_s + C^{S,E} SOCmax_s) + \\\\\n",
    "&\\sum_{t\\in T} \\left(\\sum_{g\\in G} C^{G,V} GEN_{g,t} + C^{G,S} START_{g,t} + \\sum_{r\\in R} C^{R,V} REN_{r,t}+VoLL\\times NSE_t\\right)\\\\\n",
    "\\text{s.t. } \\quad &\\sum_{g\\in G} GEN_{g,t} + \\sum_{r\\in R} REN_{r,t} + \\sum_{s\\in S} \\left(DISCHARGE_{s,t} - CHARGE_{s,t} \\right) + NSE_t = L_t &\\forall t\\in T \\\\\n",
    "&0 \\leq GEN_{g,t} \\leq CAP_g \\times COMMIT_{g,t} &\\forall g\\in G, \\forall t\\in T \\\\\n",
    "&COMMIT_{g,t} >= \\sum^{t}_{t'\\geq t - MinUp_g} START_{g,t} &\\forall g\\in G, \\forall t\\in T \\\\\n",
    "&1 - COMMIT_{g,t} >= \\sum^{t}_{t'\\geq t - MinDown_g} SHUT_{g,t} &\\forall g\\in G, \\forall t\\in T \\\\\n",
    "&COMMIT_{g,t+1} - COMMIT_{g,t} = START_{g,t+1} - SHUT_{g,t+1} &\\forall g\\in G, t = 1..T-1\\\\\n",
    "&GEN_{g,t+1} - GEN_{g,t} \\leq RampUp_g &\\forall g\\in G, t = 1..T-1 \\\\\n",
    "&GEN_{g,t} - GEN_{g,t+1} \\leq RampDown_g &\\forall g\\in G, t = 1..T-1 \\\\\n",
    "&0 \\leq REN_{r,t}    \\leq CAP_r \\times cf_{r,t} &\\forall r\\in R, \\forall t\\in T \\\\\n",
    "&REN_{r,t+1} - REN_{r,t} \\leq RampUp_r &\\forall r\\in R, t = 1..T-1 \\\\\n",
    "&REN_{r,t} - REN_{r,t+1} \\leq RampDown_r &\\forall r\\in R, t = 1..T-1 \\\\\n",
    "&0 \\leq CHARGE_{s,t} \\leq CAP_s &\\forall s\\in S, \\forall t\\in T \\\\\n",
    "&0 \\leq DISCHARGE_{s,t} \\leq CAP_s &\\forall s\\in S, \\forall t\\in T \\\\\n",
    "&0 \\leq SOC_{s,t} \\leq SOCmax_s &\\forall s\\in S, \\forall t\\in T \\\\\n",
    "&SOC_{s,t+1} = SOC_{s,t} + CHARGE_{s,t+1} \\times Eff_s - DISCHARGE_{s,t+1}/Eff_s &\\forall s\\in S, t = 1..T-1 \\\\\n",
    "&SOC_{s,min(T)} = SOC_{s,max(T)} = 0.5 \\times SOCmax_s &\\forall s\\in S \\\\\n",
    "&NSE_t \\geq 0 &\\forall t\\in T \\\\\n",
    "\\end{align}$"
   ]
  },
  {
   "cell_type": "markdown",
   "metadata": {},
   "source": [
    "### 1.2. Modelling with JuMP"
   ]
  },
  {
   "cell_type": "code",
   "execution_count": 51,
   "metadata": {},
   "outputs": [],
   "source": [
    "using JuMP, HiGHS\n",
    "using DataFrames, CSV, XLSX\n",
    "\n",
    "stor_info = DataFrame(CSV.File(\"data/sample/stor_info.csv\"))\n",
    "ther_info = DataFrame(CSV.File(\"data/sample/ther_info.csv\"))\n",
    "ren_info = DataFrame(CSV.File(\"data/sample/ren_info.csv\"))\n",
    "load_forecast = DataFrame(CSV.File(\"data/sample/load_forecast.csv\"))\n",
    "capacity_factor = DataFrame(CSV.File(\"data/sample/capacity_factor.csv\"))\n",
    "\n",
    "stor_info = stor_info[:,[:id, :name, :power_cost, :energy_cost, :eff]]\n",
    "ther_info = ther_info[:,[:id, :name, :fixed_cost, :var_cost, :start_up_cost, :ramp_up_rate, :ramp_dn_rate, :min_up_time, :min_dn_time]]\n",
    "ren_info = ren_info[:,[:id, :name, :fixed_cost, :var_cost, :ramp_up_rate, :ramp_dn_rate]]\n",
    "load_forecast = load_forecast[:,[:hour, :load]]\n",
    "capacity_factor = capacity_factor[:,[:hour, :r_id, :cf]];\n"
   ]
  },
  {
   "cell_type": "code",
   "execution_count": 52,
   "metadata": {},
   "outputs": [
    {
     "data": {
      "text/plain": [
       "GESP (generic function with 4 methods)"
      ]
     },
     "metadata": {},
     "output_type": "display_data"
    }
   ],
   "source": [
    "# stor_info = id, name, power_cost, energy_cost, eff\n",
    "# ther_info = id, name, fixed_cost, var_cost, start_up_cost, ramp_up_rate, ramp_dn_rate, min_up_time, min_dn_time\n",
    "# ren_info = id, name, fixed_cost, var_cost, ramp_up_rate, ramp_dn_rate\n",
    "# load_forecast = hour, load\n",
    "# capacity_factor = hour, r_id, cf\n",
    "\n",
    "function GESP(stor_info, ther_info, ren_info, load_forecast, capacity_factor, VoLL=30000, bigM = 10000, mip_gap=0.01)\n",
    "\n",
    "    # SETS\n",
    "    G = ther_info.id\n",
    "    R = ren_info.id\n",
    "    S = stor_info.id\n",
    "    T = load_forecast.hour\n",
    "    T1 = T[2:end]\n",
    "\n",
    "    # INIT\n",
    "    model = Model()\n",
    "    set_optimizer(model, HiGHS.Optimizer)\n",
    "    set_optimizer_attribute(model, \"mip_rel_gap\", mip_gap)\n",
    "\n",
    "    # VARIABLES\n",
    "    @variables(model, begin\n",
    "        CAPG[G] >= 0\n",
    "        CAPG_COMMIT[G,T] >= 0\n",
    "        CAPR[R] >= 0\n",
    "        CAPS[S] >= 0\n",
    "        SOCM[S] >= 0\n",
    "        GEN[G,T] >= 0\n",
    "        REN[R,T] >= 0\n",
    "        CHARGE[S,T] >= 0\n",
    "        DISCHARGE[S,T] >= 0\n",
    "        SOC[S,T] >= 0\n",
    "        COMMIT[G,T], Bin\n",
    "        START[G,T], Bin\n",
    "        SHUT[G,T], Bin\n",
    "        NSE[T] >= 0\n",
    "    end)\n",
    "\n",
    "    # INVESTMENT COSTS\n",
    "    @expression(model, ThermalIC, sum(ther_info[ther_info.id .== g, :fixed_cost][1] * CAPG[g] for g in G))\n",
    "    @expression(model, RenewableIC, sum(ren_info[ren_info.id .== r, :fixed_cost][1] * CAPR[r] for r in R))\n",
    "    @expression(model, StoragePowIC, sum(stor_info[stor_info.id .== s, :power_cost][1] * CAPS[s] for s in S))\n",
    "    @expression(model, StorageEnIC, sum(stor_info[stor_info.id .== s, :energy_cost][1] * SOCM[s] for s in S))\n",
    "    @expression(model, TIC, ThermalIC + RenewableIC + StoragePowIC + StorageEnIC)\n",
    "\n",
    "    # OPERATION COSTS\n",
    "    @expression(model, ThermalOC, sum(ther_info[ther_info.id .== g, :var_cost][1] * GEN[g,t] for g in G for t in T))\n",
    "    @expression(model, RenewableOC, sum(ren_info[ren_info.id .== r, :var_cost][1] * REN[r,t] for r in R for t in T))\n",
    "    @expression(model, StartupOC, sum(ther_info[ther_info.id .== g, :start_up_cost][1] * START[g,t] for g in G for t in T))\n",
    "    @expression(model, NSE_C, sum(VoLL * NSE[t] for t in T))\n",
    "    @expression(model, TOC, ThermalOC + RenewableOC + StartupOC + NSE_C)\n",
    "\n",
    "    # OBJECTIVE FUNCTION\n",
    "    @objective(model, Min, TIC + TOC)\n",
    "\n",
    "    # POWER BALANCE CONSTRAINT\n",
    "    @constraint(model, PowerBalanceC[t in T], sum(GEN[g,t] for g in G) + sum(REN[r,t] for r in R) + sum(DISCHARGE[s,t] for s in S) - sum(CHARGE[s,t] for s in S) + NSE[t] == load_forecast[load_forecast.hour.==t,:load][1])\n",
    "\n",
    "    # THERMAL GENERATION LIMIT CONSTRAINT\n",
    "    @constraint(model, LessThanMC[g in G, t in T], CAPG_COMMIT[g,t] <= bigM * COMMIT[g,t])\n",
    "    @constraint(model, LessThanCapC[g in G, t in T], CAPG_COMMIT[g,t] <= CAPG[g])\n",
    "    @constraint(model, AuxIsRealC[g in G, t in T], CAPG_COMMIT[g,t] >= CAPG[g] - (1- COMMIT[g,t]) * bigM)\n",
    "    @constraint(model, ThermalLimC[g in G, t in T], GEN[g,t] <= CAPG_COMMIT[g,t])\n",
    "\n",
    "    # START CONSTRAINT\n",
    "    @constraint(model, StartC[g in G, t in T], \n",
    "        COMMIT[g,t] >= sum(START[g,i] for i in max(1,t-ther_info[ther_info.id.==g,:min_up_time][1]):t))\n",
    "\n",
    "    # SHUT CONSTRAINT\n",
    "    @constraint(model, ShutC[g in G, t in T], \n",
    "        1 - COMMIT[g,t] >= sum(SHUT[g,i] for i in max(1,t-ther_info[ther_info.id.==g,:min_dn_time][1]):t))\n",
    "\n",
    "    # COMMIT CONSTRAINT\n",
    "    @constraint(model, CommitC[g in G, t in T1], COMMIT[g,t] - COMMIT[g,t-1] == START[g,t] - SHUT[g,t])\n",
    "\n",
    "    # THERMAL RAMP UP CONSTRAINT\n",
    "    @constraint(model, TherRampUpC[g in G, t in T1], \n",
    "        GEN[g,t] - GEN[g,t-1] <= ther_info[ther_info.id.==g,:ramp_up_rate][1] * CAPG[g])\n",
    "    \n",
    "    # THERMAL RAMP DOWN CONSTRAINT\n",
    "    @constraint(model, TherRampDnC[g in G, t in T1], \n",
    "        GEN[g,t-1] - GEN[g,t] <= ther_info[ther_info.id.==g,:ramp_dn_rate][1] * CAPG[g])\n",
    "\n",
    "    # VRE LIMIT CONSTRAINT\n",
    "    @constraint(model, VreC[r in R, t in T], \n",
    "        # REN[r,t] <= CAPR[r] * capacity_factor[(capacity_factor.r_id.==r) .& (capacity_factor.hour.==t), :cf][1])\n",
    "        REN[r,t] <= 500 * capacity_factor[(capacity_factor.r_id.==r) .& (capacity_factor.hour.==t), :cf][1])\n",
    "    \n",
    "    # VRE RAMP UP CONSTRAINT\n",
    "    @constraint(model, VreRampUpC[r in R, t in T1], \n",
    "        REN[r,t] - REN[r,t-1] <= ren_info[ren_info.id.==r,:ramp_up_rate][1] * CAPR[r])\n",
    "    \n",
    "    # VRE RAMP DOWN CONSTRAINT\n",
    "    @constraint(model, VreRampDnC[r in R, t in T1], \n",
    "        REN[r,t-1] - REN[r,t] <= ren_info[ren_info.id.==r,:ramp_dn_rate][1] * CAPR[r])\n",
    "    \n",
    "    # CHARGE LIMIT CONSTRAINT\n",
    "    @constraint(model, ChargeC[s in S, t in T], CHARGE[s,t] <= CAPS[s])\n",
    "\n",
    "    # DISCHARGE LIMIT CONSTRAINT\n",
    "    @constraint(model, DischargeC[s in S, t in T], DISCHARGE[s,t] <= CAPS[s])\n",
    "\n",
    "    # SOC LIMIT CONSTRAINT\n",
    "    @constraint(model, SocLimitC[s in S, t in T], SOC[s,t] <= SOCM[s])\n",
    "\n",
    "    # SOC UPDATE CONSTRAINT\n",
    "    @constraint(model, SocUpdateC[s in S, t in T1],\n",
    "        SOC[s, t] == SOC[s,t-1] + (CHARGE[s,t] * stor_info[stor_info.id.==s,:eff][1]) - \n",
    "            (DISCHARGE[s,t] / stor_info[stor_info.id.==s,:eff][1]))\n",
    "    \n",
    "    # SOC INI CONSTRAINT\n",
    "    @constraint(model, SocIniC[s in S], SOC[s,1] == 0.5 * CAPS[s])\n",
    "\n",
    "    # SOC END CONSTRAINT\n",
    "    @constraint(model, SocEndC[s in S], SOC[s,length(T)] == 0.5 * CAPS[s])\n",
    "\n",
    "    # SOLVE GESP\n",
    "    optimize!(model)\n",
    "\n",
    "    return(\n",
    "        capg = value.(CAPG).data, \n",
    "        capr = value.(CAPR).data, \n",
    "        caps = value.(CAPS).data,\n",
    "        gen = value.(GEN).data,\n",
    "        ren = value.(REN).data,\n",
    "        socm = value.(SOCM).data\n",
    "    )\n",
    "\n",
    "end\n",
    "    \n",
    "\n"
   ]
  },
  {
   "cell_type": "code",
   "execution_count": 53,
   "metadata": {},
   "outputs": [
    {
     "name": "stdout",
     "output_type": "stream",
     "text": [
      "Running HiGHS 1.6.0: Copyright (c) 2023 HiGHS under MIT licence terms\n",
      "Presolving model\n",
      "316 rows, 237 cols, 908 nonzeros\n",
      "296 rows, 231 cols, 890 nonzeros\n",
      "\n",
      "Solving MIP model with:\n",
      "   296 rows\n",
      "   231 cols (24 binary, 0 integer, 0 implied int., 207 continuous)\n",
      "   890 nonzeros\n",
      "\n",
      "        Nodes      |    B&B Tree     |            Objective Bounds              |  Dynamic Constraints |       Work      \n",
      "     Proc. InQueue |  Leaves   Expl. | BestBound       BestSol              Gap |   Cuts   InLp Confl. | LpIters     Time\n",
      "\n",
      "         0       0         0   0.00%   0               inf                  inf        0      0      0         0     0.0s\n",
      " R       0       0         0   0.00%   675541.317719   695241.587097      2.83%        0      0      0       162     0.0s\n",
      " L       0       0         0   0.00%   675541.317719   675541.317719      0.00%       10      1      0       166     0.0s\n",
      " T       0       0         0   0.00%   675541.317719   675541.317719      0.00%       10      1      0       310     0.0s\n",
      "\n",
      "Solving report\n",
      "  Status            Optimal\n",
      "  Primal bound      675541.317719\n",
      "  Dual bound        675541.317719\n",
      "  Gap               0% (tolerance: 1%)\n",
      "  Solution status   feasible\n",
      "                    675541.317719 (objective)\n",
      "                    0 (bound viol.)\n",
      "                    2.22044604925e-16 (int. viol.)\n",
      "                    0 (row viol.)\n",
      "  Timing            0.01 (total)\n",
      "                    0.00 (presolve)\n",
      "                    0.00 (postsolve)\n",
      "  Nodes             1\n",
      "  LP iterations     310 (total)\n",
      "                    0 (strong br.)\n",
      "                    4 (separation)\n",
      "                    144 (heuristics)\n"
     ]
    },
    {
     "data": {
      "text/plain": [
       "(capg = [-0.0, -0.0, 289.5748800887451], capr = [0.0, 412.8650565], caps = [0.0, 0.0, 0.0, 0.0, 0.0, 0.0, 0.0, 0.0, 0.0, 0.0, 1487.3812127799424, 0.0, 0.0, 0.0], gen = [-0.0 -0.0 -0.0 -0.0; -0.0 -0.0 -0.0 -0.0; 0.0 57.914976017749 173.74492805324704 289.5748800887451], ren = [0.0 0.0 -0.0 0.0; 0.0 0.0 206.43252825 412.8650565], socm = [0.0, 0.0, 0.0, 0.0, 0.0, 0.0, 0.0, 0.0, 0.0, 0.0, 743.6906063899712, 0.0, 0.0, 0.0])"
      ]
     },
     "metadata": {},
     "output_type": "display_data"
    }
   ],
   "source": [
    "sol = GESP(stor_info, ther_info, ren_info, load_forecast, capacity_factor,30000, 10000, 0.01)"
   ]
  },
  {
   "cell_type": "code",
   "execution_count": 54,
   "metadata": {},
   "outputs": [
    {
     "data": {
      "text/plain": [
       "3-element Vector{Float64}:\n",
       "  -0.0\n",
       "  -0.0\n",
       " 289.5748800887451"
      ]
     },
     "metadata": {},
     "output_type": "display_data"
    }
   ],
   "source": [
    "sol.capg"
   ]
  },
  {
   "cell_type": "code",
   "execution_count": 55,
   "metadata": {},
   "outputs": [
    {
     "data": {
      "text/plain": [
       "2-element Vector{Float64}:\n",
       "   0.0\n",
       " 412.8650565"
      ]
     },
     "metadata": {},
     "output_type": "display_data"
    }
   ],
   "source": [
    "sol.capr"
   ]
  },
  {
   "cell_type": "code",
   "execution_count": 56,
   "metadata": {},
   "outputs": [
    {
     "data": {
      "text/plain": [
       "14-element Vector{Float64}:\n",
       "    0.0\n",
       "    0.0\n",
       "    0.0\n",
       "    0.0\n",
       "    0.0\n",
       "    0.0\n",
       "    0.0\n",
       "    0.0\n",
       "    0.0\n",
       "    0.0\n",
       " 1487.3812127799424\n",
       "    0.0\n",
       "    0.0\n",
       "    0.0"
      ]
     },
     "metadata": {},
     "output_type": "display_data"
    }
   ],
   "source": [
    "sol.caps"
   ]
  },
  {
   "cell_type": "code",
   "execution_count": 57,
   "metadata": {},
   "outputs": [
    {
     "data": {
      "text/plain": [
       "3×4 Matrix{Float64}:\n",
       " -0.0  -0.0     -0.0     -0.0\n",
       " -0.0  -0.0     -0.0     -0.0\n",
       "  0.0  57.915  173.745  289.575"
      ]
     },
     "metadata": {},
     "output_type": "display_data"
    }
   ],
   "source": [
    "sol.gen"
   ]
  },
  {
   "cell_type": "code",
   "execution_count": 58,
   "metadata": {},
   "outputs": [
    {
     "data": {
      "text/plain": [
       "2×4 Matrix{Float64}:\n",
       " 0.0  0.0   -0.0      0.0\n",
       " 0.0  0.0  206.433  412.865"
      ]
     },
     "metadata": {},
     "output_type": "display_data"
    }
   ],
   "source": [
    "sol.ren"
   ]
  },
  {
   "cell_type": "code",
   "execution_count": 59,
   "metadata": {},
   "outputs": [
    {
     "data": {
      "text/plain": [
       "14-element Vector{Float64}:\n",
       "   0.0\n",
       "   0.0\n",
       "   0.0\n",
       "   0.0\n",
       "   0.0\n",
       "   0.0\n",
       "   0.0\n",
       "   0.0\n",
       "   0.0\n",
       "   0.0\n",
       " 743.6906063899712\n",
       "   0.0\n",
       "   0.0\n",
       "   0.0"
      ]
     },
     "metadata": {},
     "output_type": "display_data"
    }
   ],
   "source": [
    "sol.socm"
   ]
  },
  {
   "cell_type": "markdown",
   "metadata": {},
   "source": [
    "## 2. Sensitivity Analysis of Storage Efficiencies"
   ]
  },
  {
   "cell_type": "code",
   "execution_count": 33,
   "metadata": {},
   "outputs": [],
   "source": []
  },
  {
   "cell_type": "code",
   "execution_count": 34,
   "metadata": {},
   "outputs": [],
   "source": []
  },
  {
   "cell_type": "markdown",
   "metadata": {},
   "source": [
    "$\\begin{align}"
   ]
  }
 ],
 "metadata": {
  "kernelspec": {
   "display_name": "Julia 1.9.3",
   "language": "julia",
   "name": "julia-1.9"
  },
  "language_info": {
   "file_extension": ".jl",
   "mimetype": "application/julia",
   "name": "julia",
   "version": "1.9.3"
  }
 },
 "nbformat": 4,
 "nbformat_minor": 2
}
