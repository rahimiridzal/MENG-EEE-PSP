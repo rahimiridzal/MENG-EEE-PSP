{
 "cells": [
  {
   "cell_type": "markdown",
   "metadata": {},
   "source": [
    "# Operation Cost under different Reserve Requirements"
   ]
  },
  {
   "cell_type": "markdown",
   "metadata": {},
   "source": [
    "## 1. Import relevant modules and CEM.jl"
   ]
  },
  {
   "cell_type": "code",
   "execution_count": 2,
   "metadata": {},
   "outputs": [],
   "source": [
    "using CSV, DataFrames, JuMP, HiGHS\n",
    "include(\"CEM.jl\");"
   ]
  },
  {
   "cell_type": "markdown",
   "metadata": {},
   "source": [
    "## 2. Load data"
   ]
  },
  {
   "cell_type": "code",
   "execution_count": 27,
   "metadata": {},
   "outputs": [],
   "source": [
    "storageinfo = CSV.read(joinpath(\"data\",\"storageinfo.csv\"), DataFrame)\n",
    "generatorinfo = CSV.read(joinpath(\"data\",\"generatorinfo.csv\"), DataFrame)\n",
    "vreinfo = CSV.read(joinpath(\"data\",\"vreinfo.csv\"), DataFrame)\n",
    "halfhourlydemand = CSV.read(joinpath(\"data\",\"halfhourlydemand.csv\"), DataFrame)\n",
    "halfhourlyvrecf = CSV.read(joinpath(\"data\",\"halfhourlyvrecf.csv\"), DataFrame)\n",
    "halfhourlydemand = halfhourlydemand[1:1488,:]; # 1 - 31 January 2015"
   ]
  },
  {
   "cell_type": "markdown",
   "metadata": {},
   "source": [
    "## 3. Simulation"
   ]
  },
  {
   "cell_type": "markdown",
   "metadata": {},
   "source": [
    "### Case 1: No Storage - using CEMnoLDES()"
   ]
  },
  {
   "cell_type": "code",
   "execution_count": 38,
   "metadata": {},
   "outputs": [],
   "source": [
    "no_ldes_res_results = Dict()\n",
    "reserve_requirements = [\"none\", \"fixed\", \"spinning\", \"flexible\", \"all\"]\n",
    "for requirement in reserve_requirements\n",
    "    no_ldes_res_results[requirement] = CEMnoLDES(\n",
    "        vreinfo, generatorinfo, halfhourlydemand, halfhourlyvrecf; \n",
    "        budget=30e9, voll=100e3, reserve=requirement, silent=true)\n",
    "end"
   ]
  },
  {
   "cell_type": "code",
   "execution_count": 39,
   "metadata": {},
   "outputs": [
    {
     "data": {
      "text/plain": [
       "Dict{Any, Any} with 5 entries:\n",
       "  \"spinning\" => (CAPG = [61528.0, 51434.4], GEN = [0.0 0.0 … 0.0 0.0; 0.0 0.0 ……\n",
       "  \"none\"     => (CAPG = [64426.7, 49819.4], GEN = [0.0 0.0 … 0.0 0.0; 0.0 0.0 ……\n",
       "  \"fixed\"    => (CAPG = [61195.9, 51619.4], GEN = [0.0 0.0 … 0.0 0.0; 0.0 0.0 ……\n",
       "  \"flexible\" => (CAPG = [55954.4, 54539.7], GEN = [0.0 0.0 … 0.0 0.0; 0.0 0.0 ……\n",
       "  \"all\"      => (CAPG = [49825.0, 57954.7], GEN = [0.0 0.0 … 0.0 0.0; 0.0 0.0 ……"
      ]
     },
     "metadata": {},
     "output_type": "display_data"
    }
   ],
   "source": [
    "no_ldes_res_results"
   ]
  },
  {
   "cell_type": "markdown",
   "metadata": {},
   "source": [
    "### Case 2: With Storage - using CEM()"
   ]
  },
  {
   "cell_type": "code",
   "execution_count": 7,
   "metadata": {},
   "outputs": [],
   "source": [
    "res_results = Dict()\n",
    "reserve_requirements = [\"none\", \"fixed\", \"spinning\", \"flexible\", \"all\"]\n",
    "for requirement in reserve_requirements\n",
    "    res_results[requirement] = CEM(vreinfo, generatorinfo, storageinfo, halfhourlydemand, halfhourlyvrecf; \n",
    "    budget=30e9, voll=100e3, cd_rho=10, reserve=requirement, silent=true)\n",
    "end"
   ]
  },
  {
   "cell_type": "code",
   "execution_count": 41,
   "metadata": {},
   "outputs": [
    {
     "data": {
      "text/plain": [
       "Dict{Any, Any} with 5 entries:\n",
       "  \"spinning\" => (CAPG = [0.0, 19550.8], CAPS = [-0.0, 7390.3, -0.0, 0.0, -0.0, …\n",
       "  \"none\"     => (CAPG = [0.0, 19424.4], CAPS = [-0.0, 7103.86, 0.0, -0.0, -0.0,…\n",
       "  \"fixed\"    => (CAPG = [0.0, 19563.9], CAPS = [-0.0, 7424.13, -0.0, 0.0, -0.0,…\n",
       "  \"flexible\" => (CAPG = [0.0, 19829.1], CAPS = [-0.0, 8019.04, -0.0, 0.0, -0.0,…\n",
       "  \"all\"      => (CAPG = [632.57, 20118.7], CAPS = [-0.0, 8556.01, -0.0, 0.0, -0…"
      ]
     },
     "metadata": {},
     "output_type": "display_data"
    }
   ],
   "source": [
    "res_results"
   ]
  },
  {
   "cell_type": "code",
   "execution_count": null,
   "metadata": {},
   "outputs": [],
   "source": []
  }
 ],
 "metadata": {
  "kernelspec": {
   "display_name": "Julia 1.9.3",
   "language": "julia",
   "name": "julia-1.9"
  },
  "language_info": {
   "file_extension": ".jl",
   "mimetype": "application/julia",
   "name": "julia",
   "version": "1.9.3"
  }
 },
 "nbformat": 4,
 "nbformat_minor": 2
}
