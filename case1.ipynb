{
 "cells": [
  {
   "cell_type": "markdown",
   "metadata": {},
   "source": [
    "# Case 1: No reserve requirements"
   ]
  },
  {
   "cell_type": "code",
   "execution_count": 1,
   "metadata": {},
   "outputs": [],
   "source": [
    "using CSV, DataFrames, JuMP, HiGHS, SCIP, Clp\n",
    "\n",
    "storageinfo = CSV.read(joinpath(\"cleaned\",\"storageinfo.csv\"), DataFrame)\n",
    "generatorinfo = CSV.read(joinpath(\"cleaned\",\"generatorinfo.csv\"), DataFrame)\n",
    "vreinfo = CSV.read(joinpath(\"cleaned\",\"vreinfo.csv\"), DataFrame)\n",
    "halfhourlydemand = CSV.read(joinpath(\"cleaned\",\"halfhourlydemand.csv\"), DataFrame)\n",
    "halfhourlyvrecf = CSV.read(joinpath(\"cleaned\",\"halfhourlyvrecf.csv\"), DataFrame)\n",
    "halfhourlydemand = halfhourlydemand[1:1440,:];"
   ]
  },
  {
   "cell_type": "markdown",
   "metadata": {},
   "source": [
    "## Scheme 1 (No storage)"
   ]
  },
  {
   "cell_type": "code",
   "execution_count": 2,
   "metadata": {},
   "outputs": [
    {
     "data": {
      "text/plain": [
       "case1scheme1 (generic function with 1 method)"
      ]
     },
     "metadata": {},
     "output_type": "display_data"
    }
   ],
   "source": [
    "function case1scheme1(vreinfo, generatorinfo, storageinfo, halfhourlydemand, halfhourlyvrecf; \n",
    "    budget, voll, bigm, epsilon)\n",
    "\n",
    "    # SETS\n",
    "    V = vreinfo.id\n",
    "    G = generatorinfo.id\n",
    "    S = storageinfo.id\n",
    "    T = halfhourlydemand.hh\n",
    "    T1 = T[2:end]\n",
    "\n",
    "    # INITIATE MODEL\n",
    "    model = Model()\n",
    "    set_optimizer(model, HiGHS.Optimizer)\n",
    "\n",
    "    # DECISION VARIABLES\n",
    "    @variables(model, begin\n",
    "        CAPG[G] >= 0\n",
    "        GEN[G,T] >= 0\n",
    "        CURTAIL[V,T] >= 0\n",
    "        NSE[T] >= 0\n",
    "    end)\n",
    "\n",
    "    # BUDGET CONSTRAINT\n",
    "    @expression(model, GenInvCost, sum(generatorinfo[generatorinfo.id.==g,:fixedCost][1] * CAPG[g] for g in G))\n",
    "    @expression(model, TIC, GenInvCost)\n",
    "    @constraint(model, cBudget, TIC <= budget)\n",
    "\n",
    "    # OBJECTIVE FUNCTION\n",
    "    @expression(model, EnergyProvisionCost, \n",
    "        sum(0.5 * generatorinfo[generatorinfo.id.==g,:varCost][1] * GEN[g,t] for g in G for t in T))\n",
    "    @expression(model, UnservedEnergyCost, \n",
    "        sum(0.5 * voll * NSE[t] for t in T))\n",
    "    @expression(model, CurtailedVreCost,\n",
    "        sum(0.5 * vreinfo[vreinfo.id.==v,:varCost][1] * CURTAIL[v,t] for v in V for t in T))\n",
    "    @objective(model, Min, \n",
    "        EnergyProvisionCost + UnservedEnergyCost + CurtailedVreCost)\n",
    "\n",
    "    # POWER BALANCE CONSTRAINT\n",
    "    @constraint(model, c01[t in T], sum(GEN[g,t] for g in G) + NSE[t] - sum(CURTAIL[v,t] for v in V) +\n",
    "        sum(vreinfo[vreinfo.id.==v,:installedMW][1] * \n",
    "        halfhourlyvrecf[(halfhourlyvrecf.hh.==t) .& (halfhourlyvrecf.vre_id.==v),:cf][1] for v in V) == \n",
    "        halfhourlydemand[halfhourlydemand.hh.==t,:load][1])\n",
    "    \n",
    "    # GENERATOR LIMIT CONSTRAINT\n",
    "    @constraint(model, c90[g in G, t in T], GEN[g,t] <= CAPG[g])\n",
    "\n",
    "    # GENERATOR RAMP UP CONSTRAINT\n",
    "    @constraint(model, c11[g in G, t in T1], \n",
    "        GEN[g,t] - GEN[g,t-1] <= generatorinfo[generatorinfo.id.==g,:rampupRate][1] * CAPG[g])\n",
    "    \n",
    "    # GENERATOR RAMP DOWN CONSTRAINT\n",
    "    @constraint(model, c12[g in G, t in T1],\n",
    "        GEN[g,t-1] - GEN[g,t] <= generatorinfo[generatorinfo.id.==g,:rampdownRate][1] * CAPG[g])\n",
    "    \n",
    "    # VRE CURTAIL CONSTRAINT\n",
    "    @constraint(model, c13[v in V, t in T], CURTAIL[v,t] <= \n",
    "        vreinfo[vreinfo.id.==v,:installedMW][1] * \n",
    "        halfhourlyvrecf[(halfhourlyvrecf.hh.==t) .& (halfhourlyvrecf.vre_id.==v),:cf][1])\n",
    "\n",
    "    optimize!(model)\n",
    "\n",
    "    return(\n",
    "        CAPG = value.(CAPG).data,\n",
    "        GEN = value.(GEN).data,\n",
    "        CURTAIL = value.(CURTAIL).data,\n",
    "        NSE = value.(NSE).data,\n",
    "        GenInvCost = value(GenInvCost),\n",
    "        TIC = value(TIC),\n",
    "        EnergyProvisionCost = value(EnergyProvisionCost),\n",
    "        UnservedEnergyCost = value(UnservedEnergyCost),\n",
    "        CurtailedVreCost = value(CurtailedVreCost),\n",
    "        OV = objective_value(model),\n",
    "    )\n",
    "end"
   ]
  },
  {
   "cell_type": "code",
   "execution_count": 3,
   "metadata": {},
   "outputs": [
    {
     "name": "stdout",
     "output_type": "stream",
     "text": [
      "Running HiGHS 1.6.0: Copyright (c) 2023 HiGHS under MIT licence terms\n",
      "Presolving model\n",
      "10077 rows, 7254 cols, 30282 nonzeros\n",
      "10076 rows, 7141 cols, 30168 nonzeros\n",
      "Presolve : Reductions: rows 10076(-4321); columns 7141(-1501); elements 30168(-5822)\n",
      "Solving the presolved LP\n",
      "Using EKK dual simplex solver - serial\n",
      "  Iteration        Objective     Infeasibilities num(sum)\n",
      "          0     2.5399500000e+05 Pr: 1440(2.36784e+07) 0s\n",
      "       2285     1.3001426396e+09 Pr: 0(0) 0s\n",
      "Solving the original LP from the solution after postsolve\n",
      "Model   status      : Optimal\n",
      "Simplex   iterations: 2285\n",
      "Objective value     :  1.3001426396e+09\n",
      "HiGHS run time      :          0.06\n"
     ]
    },
    {
     "data": {
      "text/plain": [
       "(CAPG = [47979.29032258065, 1840.1096774193518], GEN = [0.0 0.0 … 0.0 0.0; 0.0 0.0 … 0.0 0.0], CURTAIL = [-0.0 -0.0 … -0.0 -0.0; 0.0 0.0 … 0.0 0.0; 17712.800000000003 17067.800000000003 … 202.59999999999854 1117.5999999999985], NSE = [0.0, 0.0, 0.0, 0.0, 0.0, 0.0, 0.0, 0.0, 0.0, 0.0  …  0.0, 0.0, 0.0, 0.0, 0.0, 0.0, 0.0, 0.0, 0.0, 0.0], GenInvCost = 1.0e10, TIC = 1.0e10, EnergyProvisionCost = 1.2803715362323117e9, UnservedEnergyCost = 0.0, CurtailedVreCost = 1.9771103400000032e7, OV = 1.300142639632312e9)"
      ]
     },
     "metadata": {},
     "output_type": "display_data"
    }
   ],
   "source": [
    "c1s1b10 = case1scheme1(vreinfo, generatorinfo, storageinfo, halfhourlydemand, halfhourlyvrecf; \n",
    "budget=10e9, voll=1e6, bigm=100e3, epsilon=0.05)"
   ]
  },
  {
   "cell_type": "code",
   "execution_count": 4,
   "metadata": {},
   "outputs": [
    {
     "name": "stdout",
     "output_type": "stream",
     "text": [
      "Running HiGHS 1.6.0: Copyright (c) 2023 HiGHS under MIT licence terms\n",
      "Presolving model\n",
      "10077 rows, 7254 cols, 30282 nonzeros\n",
      "10076 rows, 7141 cols, 30168 nonzeros\n",
      "Presolve : Reductions: rows 10076(-4321); columns 7141(-1501); elements 30168(-5822)\n",
      "Solving the presolved LP\n",
      "Using EKK dual simplex solver - serial\n",
      "  Iteration        Objective     Infeasibilities num(sum)\n",
      "          0     2.5399500000e+05 Pr: 1440(2.36784e+07) 0s\n",
      "       1441     9.3650015940e+08 Pr: 0(0) 0s\n",
      "Solving the original LP from the solution after postsolve\n",
      "Model   status      : Optimal\n",
      "Simplex   iterations: 1441\n",
      "Objective value     :  9.3650015940e+08\n",
      "HiGHS run time      :          0.02\n"
     ]
    },
    {
     "data": {
      "text/plain": [
       "(CAPG = [13144.666666666666, 49819.4], GEN = [0.0 0.0 … 0.0 0.0; 0.0 0.0 … 0.0 0.0], CURTAIL = [-0.0 -0.0 … -0.0 -0.0; 0.0 0.0 … 0.0 0.0; 17712.800000000003 17067.800000000003 … 202.59999999999854 1117.5999999999985], NSE = [0.0, 0.0, 0.0, 0.0, 0.0, 0.0, 0.0, 0.0, 0.0, 0.0  …  0.0, 0.0, 0.0, 0.0, 0.0, 0.0, 0.0, 0.0, 0.0, 0.0], GenInvCost = 2.0e10, TIC = 2.0e10, EnergyProvisionCost = 9.16729056e8, UnservedEnergyCost = 0.0, CurtailedVreCost = 1.9771103400000032e7, OV = 9.365001594000006e8)"
      ]
     },
     "metadata": {},
     "output_type": "display_data"
    }
   ],
   "source": [
    "c1s1b20 = case1scheme1(vreinfo, generatorinfo, storageinfo, halfhourlydemand, halfhourlyvrecf; \n",
    "budget=20e9, voll=1e6, bigm=100e3, epsilon=0.05)"
   ]
  },
  {
   "cell_type": "markdown",
   "metadata": {},
   "source": [
    "## Scheme 2 (Consider Storage)"
   ]
  },
  {
   "cell_type": "markdown",
   "metadata": {},
   "source": [
    "Note: \n",
    "- 1 USD = 0.8 GBP\n",
    "- 1 USD/kWh = 1000 USD/MWh\n",
    "- Charging and Discharging cost: 5 USD/MWhh to promote efficient charging and discharging state"
   ]
  },
  {
   "cell_type": "code",
   "execution_count": 5,
   "metadata": {},
   "outputs": [
    {
     "data": {
      "text/plain": [
       "case1scheme2 (generic function with 1 method)"
      ]
     },
     "metadata": {},
     "output_type": "display_data"
    }
   ],
   "source": [
    "function case1scheme2(vreinfo, generatorinfo, storageinfo, halfhourlydemand, halfhourlyvrecf; \n",
    "    budget, voll, bigm, epsilon)\n",
    "\n",
    "    # SETS\n",
    "    V = vreinfo.id\n",
    "    G = generatorinfo.id\n",
    "    S = storageinfo.id\n",
    "    T = halfhourlydemand.hh\n",
    "    T1 = T[2:end]\n",
    "\n",
    "    # INITIATE MODEL\n",
    "    model = Model()\n",
    "    set_optimizer(model, HiGHS.Optimizer)\n",
    "\n",
    "    # DECISION VARIABLES\n",
    "    @variables(model, begin\n",
    "        CAPG[G] >= 0\n",
    "        CAPS[S] >= 0\n",
    "        SOCM[S] >= 0\n",
    "        GEN[G,T] >= 0\n",
    "        SOC[S,T] >= 0\n",
    "        CHARGE[S,T] >= 0\n",
    "        DISCHARGE[S,T] >= 0\n",
    "        CURTAIL[V,T] >= 0\n",
    "        NSE[T] >= 0\n",
    "    end)\n",
    "\n",
    "    # BUDGET CONSTRAINT\n",
    "    @expression(model, GenInvCost, sum(generatorinfo[generatorinfo.id.==g,:fixedCost][1] * CAPG[g] for g in G))\n",
    "    @expression(model, StorPowInvCost, sum(0.8e3 * storageinfo[storageinfo.id.==s,:bestCasePowerCost][1] * CAPS[s] for s in S))\n",
    "    @expression(model, StorEnInvCost, sum(0.8e3 * storageinfo[storageinfo.id.==s,:bestCaseEnergyCost][1] * SOCM[s] for s in S))\n",
    "    @expression(model, TIC, GenInvCost + StorPowInvCost + StorEnInvCost)\n",
    "    @constraint(model, cBudget, TIC <= budget)\n",
    "\n",
    "    # OBJECTIVE FUNCTION\n",
    "    @expression(model, EnergyProvisionCost, \n",
    "        sum(0.5 * generatorinfo[generatorinfo.id.==g,:varCost][1] * GEN[g,t] for g in G for t in T))\n",
    "    @expression(model, UnservedEnergyCost, \n",
    "        sum(0.5 * voll * NSE[t] for t in T))\n",
    "    @expression(model, CurtailedVreCost,\n",
    "        sum(0.5 * vreinfo[vreinfo.id.==v,:varCost][1] * CURTAIL[v,t] for v in V for t in T))\n",
    "    @expression(model, PenaltyChargeDischarge, 5 * sum(CHARGE[g,t] + DISCHARGE[g,t] for g in G for t in T))\n",
    "    @objective(model, Min, EnergyProvisionCost + UnservedEnergyCost + CurtailedVreCost + PenaltyChargeDischarge)\n",
    "\n",
    "    # POWER BALANCE CONSTRAINT\n",
    "    @constraint(model, c01[t in T], sum(GEN[g,t] for g in G) + NSE[t] - sum(CURTAIL[v,t] for v in V) +\n",
    "        sum(vreinfo[vreinfo.id.==v,:installedMW][1] * \n",
    "        halfhourlyvrecf[(halfhourlyvrecf.hh.==t) .& (halfhourlyvrecf.vre_id.==v),:cf][1] for v in V) +\n",
    "        sum(DISCHARGE[s,t] for s in S) - sum(CHARGE[s,t] for s in S) == \n",
    "        halfhourlydemand[halfhourlydemand.hh.==t,:load][1])\n",
    "    \n",
    "    # GENERATOR LIMIT CONSTRAINT\n",
    "    @constraint(model, c90[g in G, t in T], GEN[g,t] <= CAPG[g])\n",
    "\n",
    "    # GENERATOR RAMP UP CONSTRAINT\n",
    "    @constraint(model, c11[g in G, t in T1], \n",
    "        GEN[g,t] - GEN[g,t-1] <= generatorinfo[generatorinfo.id.==g,:rampupRate][1] * CAPG[g])\n",
    "    \n",
    "    # GENERATOR RAMP DOWN CONSTRAINT\n",
    "    @constraint(model, c12[g in G, t in T1],\n",
    "        GEN[g,t-1] - GEN[g,t] <= generatorinfo[generatorinfo.id.==g,:rampdownRate][1] * CAPG[g])\n",
    "    \n",
    "    # VRE CURTAIL CONSTRAINT\n",
    "    @constraint(model, c13[v in V, t in T], CURTAIL[v,t] <= \n",
    "        vreinfo[vreinfo.id.==v,:installedMW][1] * \n",
    "        halfhourlyvrecf[(halfhourlyvrecf.hh.==t) .& (halfhourlyvrecf.vre_id.==v),:cf][1])\n",
    "    \n",
    "    # STORAGE CHARGE LIMIT CONSTRAINT\n",
    "    @constraint(model, c92[s in S, t in T], CHARGE[s,t] <= CAPS[s])\n",
    "\n",
    "    # STORAGE DISCHARGE LIMIT CONSTRAINT\n",
    "    @constraint(model, c93[s in S, t in T], DISCHARGE[s,t] <= CAPS[s])\n",
    "    \n",
    "    # STORAGE SOC LIMIT CONSTRAINT\n",
    "    @constraint(model, c19[s in S, t in T], SOC[s,t] <= SOCM[s])\n",
    "    @constraint(model, c20[s in S], SOC[s,minimum(T)] == 0.5 * SOCM[s])\n",
    "    @constraint(model, c21[s in S], SOC[s,maximum(T)] == 0.5 * SOCM[s])\n",
    "\n",
    "    # STORAGE SOC UPDATE CONSTRAINT\n",
    "    @constraint(model, c22[s in S, t in T1], SOC[s,t] == SOC[s,t-1] + \n",
    "        (CHARGE[s,t] * storageinfo[storageinfo.id.==s,:bestCaseEff][1]) - \n",
    "        (DISCHARGE[s,t] / storageinfo[storageinfo.id.==s,:bestCaseEff][1]))\n",
    "\n",
    "    optimize!(model)\n",
    "\n",
    "    return(\n",
    "        CAPG = value.(CAPG).data,\n",
    "        CAPS = value.(CAPS).data,\n",
    "        SOCM = value.(SOCM).data,\n",
    "        GEN = value.(GEN).data,\n",
    "        SOC = value.(SOC).data,\n",
    "        CHARGE = value.(CHARGE).data,\n",
    "        DISCHARGE = value.(DISCHARGE).data,\n",
    "        NET_DISCHARGE = value.(DISCHARGE).data .- value.(CHARGE).data,\n",
    "        CURTAIL = value.(CURTAIL).data,\n",
    "        NSE = value.(NSE).data,\n",
    "        GenInvCost = value(GenInvCost),\n",
    "        StorPowInvCost = value(StorPowInvCost),\n",
    "        StorEnInvCost = value(StorEnInvCost),\n",
    "        TIC = value(TIC),\n",
    "        EnergyProvisionCost = value(EnergyProvisionCost),\n",
    "        UnservedEnergyCost = value(UnservedEnergyCost),\n",
    "        CurtailedVreCost = value(CurtailedVreCost),\n",
    "        OV = objective_value(model),\n",
    "    )\n",
    "end"
   ]
  },
  {
   "cell_type": "code",
   "execution_count": 6,
   "metadata": {},
   "outputs": [
    {
     "name": "stdout",
     "output_type": "stream",
     "text": [
      "Running HiGHS 1.6.0: Copyright (c) 2023 HiGHS under MIT licence terms\n",
      "Presolving model\n",
      "90675 rows, 68156 cols, 272540 nonzeros\n",
      "90675 rows, 68156 cols, 272540 nonzeros\n",
      "Presolve : Reductions: rows 90675(-4376); columns 68156(-994); elements 272540(-5398)\n",
      "Solving the presolved LP\n",
      "Using EKK dual simplex solver - serial\n",
      "  Iteration        Objective     Infeasibilities num(sum)\n",
      "          0     0.0000000000e+00 Pr: 1440(3.86983e+08) 0s\n",
      "       6360     4.3060335011e+04 Pr: 26280(3.21441e+11); Du: 0(6.76687e-07) 5s\n",
      "      10814     1.5546269603e+05 Pr: 21061(1.13372e+11); Du: 0(6.2892e-07) 10s\n",
      "      14348     2.3008790684e+05 Pr: 27870(1.86046e+12); Du: 0(4.61355e-07) 15s\n",
      "      18190     3.8016557030e+05 Pr: 27687(8.08657e+10); Du: 0(6.1954e-07) 20s\n",
      "      21899     4.8360309903e+05 Pr: 21920(9.94743e+10); Du: 0(6.12505e-07) 26s\n",
      "      25063     6.1881039232e+05 Pr: 21056(2.21334e+11); Du: 0(6.12019e-07) 31s\n",
      "      27993     7.6059610334e+05 Pr: 33986(1.63775e+13); Du: 0(5.70587e-07) 37s\n",
      "      30600     8.8681999339e+05 Pr: 22561(7.43905e+11); Du: 0(8.92505e-07) 42s\n",
      "      33507     1.8919850089e+06 Pr: 25069(1.13146e+12); Du: 0(6.1785e-07) 48s\n",
      "      36294     4.9201273237e+06 Pr: 21398(7.96473e+11); Du: 0(5.18084e-07) 53s\n",
      "      39142     7.3506890167e+07 Pr: 18805(4.84553e+11); Du: 0(4.1955e-07) 59s\n",
      "      42475     3.1371486265e+08 Pr: 28490(7.28562e+13); Du: 0(5.77838e-07) 65s\n",
      "      45358     8.2244941275e+08 Pr: 28598(1.18432e+12); Du: 0(8.20049e-07) 71s\n",
      "      48184     8.9139905164e+08 Pr: 24121(1.04161e+12); Du: 0(4.53299e-07) 76s\n",
      "      51626     9.8156809092e+08 Pr: 14454(6.03411e+10); Du: 0(1.37585e-07) 82s\n",
      "      55457     1.0319844176e+09 Pr: 18439(2.21494e+11); Du: 0(1.40697e-07) 87s\n",
      "      59943     1.1530700842e+09 Pr: 15638(6.32844e+10); Du: 0(2.80473e-07) 93s\n",
      "      65015     1.2420084109e+09 Pr: 11602(5.32463e+09); Du: 0(2.16425e-07) 98s\n",
      "      70313     1.3001426396e+09 Pr: 0(0); Du: 0(4.30589e-12) 102s\n",
      "Solving the original LP from the solution after postsolve\n",
      "Model   status      : Optimal\n",
      "Simplex   iterations: 70313\n",
      "Objective value     :  1.3001426396e+09\n",
      "HiGHS run time      :        102.57\n"
     ]
    },
    {
     "data": {
      "text/plain": [
       "(CAPG = [47979.290322580644, 1840.1096774193547], CAPS = [0.0, 0.0, 0.0, 0.0, 0.0, 0.0, 0.0, 0.0, 0.0, -0.0, -0.0, -0.0, 0.0, 0.0], SOCM = [-0.0, -0.0, -0.0, -0.0, -0.0, -0.0, -0.0, 0.0, -0.0, -0.0, -0.0, -0.0, -0.0, -0.0], GEN = [0.0 0.0 … 0.0 0.0; 0.0 0.0 … 0.0 0.0], SOC = [-0.0 0.0 … 0.0 -0.0; -0.0 -0.0 … -0.0 -0.0; … ; -0.0 -0.0 … -0.0 -0.0; -0.0 0.0 … -0.0 -0.0], CHARGE = [0.0 0.0 … 0.0 0.0; 0.0 -0.0 … -0.0 -0.0; … ; -0.0 0.0 … -0.0 -0.0; -0.0 -0.0 … -0.0 -0.0], DISCHARGE = [0.0 0.0 … 0.0 0.0; 0.0 0.0 … 0.0 0.0; … ; 0.0 -0.0 … 0.0 0.0; 0.0 -0.0 … 0.0 0.0], NET_DISCHARGE = [0.0 0.0 … 0.0 0.0; 0.0 0.0 … 0.0 0.0; … ; 0.0 -0.0 … 0.0 0.0; 0.0 0.0 … 0.0 0.0], CURTAIL = [-0.0 -0.0 … -0.0 -0.0; 0.0 0.0 … 0.0 0.0; 17712.800000000003 17067.800000000003 … 202.59999999999854 1117.5999999999985], NSE = [0.0, 0.0, 0.0, 0.0, 0.0, 0.0, 0.0, 0.0, 0.0, 0.0  …  0.0, 0.0, 0.0, 0.0, 0.0, 0.0, 0.0, 0.0, 0.0, 0.0], GenInvCost = 1.0e10, StorPowInvCost = 0.0, StorEnInvCost = 0.0, TIC = 1.0e10, EnergyProvisionCost = 1.2803715362323117e9, UnservedEnergyCost = 0.0, CurtailedVreCost = 1.9771103400000032e7, OV = 1.300142639632312e9)"
      ]
     },
     "metadata": {},
     "output_type": "display_data"
    }
   ],
   "source": [
    "c1s2b10 = case1scheme2(vreinfo, generatorinfo, storageinfo, halfhourlydemand, halfhourlyvrecf; \n",
    "budget=10e9, voll=1e6, bigm=100e3, epsilon=0.05)"
   ]
  },
  {
   "cell_type": "code",
   "execution_count": 7,
   "metadata": {},
   "outputs": [
    {
     "name": "stdout",
     "output_type": "stream",
     "text": [
      "Running HiGHS 1.6.0: Copyright (c) 2023 HiGHS under MIT licence terms\n",
      "Presolving model\n",
      "90675 rows, 68156 cols, 272540 nonzeros\n",
      "90675 rows, 68156 cols, 272540 nonzeros\n",
      "Presolve : Reductions: rows 90675(-4376); columns 68156(-994); elements 272540(-5398)\n",
      "Solving the presolved LP\n",
      "Using EKK dual simplex solver - serial\n",
      "  Iteration        Objective     Infeasibilities num(sum)\n",
      "          0     0.0000000000e+00 Pr: 1440(3.86983e+08) 0s\n",
      "       6688     4.1860773308e+04 Pr: 17178(1.12358e+11); Du: 0(6.08568e-07) 5s\n",
      "      11204     1.4647886455e+05 Pr: 32413(9.82337e+11); Du: 0(4.09741e-07) 10s\n",
      "      14816     2.1893981320e+05 Pr: 21580(8.87037e+11); Du: 0(6.25435e-07) 15s\n",
      "      18108     2.7130323742e+05 Pr: 28409(1.43405e+11); Du: 0(9.40933e-07) 20s\n",
      "      21354     3.0589790705e+05 Pr: 29336(3.49376e+11); Du: 0(7.89812e-07) 26s\n",
      "      24466     3.4825597904e+05 Pr: 26595(3.05206e+11); Du: 0(1.11412e-06) 31s\n",
      "      27376     3.8865359398e+05 Pr: 30926(7.1398e+11); Du: 0(1.07194e-06) 37s\n",
      "      30361     4.4016846960e+05 Pr: 21731(8.43461e+11); Du: 0(1.13068e-06) 42s\n",
      "      33021     4.8518988341e+05 Pr: 24086(4.18912e+11); Du: 0(1.24511e-06) 47s\n",
      "      35841     5.4471279051e+05 Pr: 31420(9.45657e+11); Du: 0(8.99049e-07) 53s\n",
      "      38310     6.0718310235e+05 Pr: 25892(2.28057e+12); Du: 0(8.40293e-07) 58s\n",
      "      40786     6.6016484343e+05 Pr: 33360(1.24036e+12); Du: 0(1.28534e-06) 63s\n",
      "      43317     7.6893555067e+05 Pr: 25452(4.711e+11); Du: 0(7.56455e-07) 69s\n",
      "      45800     8.8593615810e+05 Pr: 33085(1.15857e+12); Du: 0(1.14799e-06) 74s\n",
      "      48135     9.8829207333e+05 Pr: 37520(4.58239e+11); Du: 0(1.12486e-06) 80s\n",
      "      50463     1.1367279309e+06 Pr: 34842(1.98273e+12); Du: 0(9.48225e-07) 86s\n",
      "      52559     1.4047709536e+06 Pr: 36227(1.28371e+12); Du: 0(8.55766e-07) 91s\n",
      "      54993     1.9373037467e+06 Pr: 30137(8.20668e+11); Du: 0(8.7187e-07) 96s\n",
      "      57334     2.7728735773e+06 Pr: 33159(2.70649e+12); Du: 0(5.33485e-07) 102s\n",
      "      59828     7.1060801772e+06 Pr: 36774(1.14089e+12); Du: 0(2.90345e-07) 108s\n",
      "      62216     4.1985816838e+07 Pr: 40137(4.96453e+12); Du: 0(2.71815e-07) 113s\n",
      "      64973     7.3244145613e+07 Pr: 42763(1.91696e+12); Du: 0(2.98003e-07) 119s\n",
      "      67287     1.8972132291e+08 Pr: 33568(4.08934e+13); Du: 0(3.78278e-07) 124s\n",
      "      70019     3.9650861432e+08 Pr: 41055(3.0418e+12); Du: 0(4.45026e-07) 131s\n",
      "      72325     5.6964482864e+08 Pr: 41105(2.04582e+11); Du: 0(2.67219e-07) 136s\n",
      "      74809     6.4186559041e+08 Pr: 44780(4.17108e+11); Du: 0(3.80392e-07) 142s\n",
      "      76886     6.7080103295e+08 Pr: 37607(1.13908e+11); Du: 0(2.01286e-07) 147s\n",
      "      79031     6.9103313097e+08 Pr: 31088(4.82284e+11); Du: 0(2.54648e-07) 152s\n",
      "      82055     7.1354229869e+08 Pr: 25907(3.92652e+10); Du: 0(6.07261e-07) 158s\n",
      "      85558     7.2995391584e+08 Pr: 34203(7.79035e+11); Du: 0(3.62058e-07) 164s\n",
      "      88820     7.3976900600e+08 Pr: 22041(2.25345e+10); Du: 0(1.68156e-07) 169s\n",
      "      92202     7.4558803836e+08 Pr: 7349(3.78235e+07); Du: 0(1.64128e-07) 175s\n",
      "      92609     7.4562063713e+08 Pr: 0(0); Du: 0(2.5576e-11) 176s\n",
      "Solving the original LP from the solution after postsolve\n",
      "Model   status      : Optimal\n",
      "Simplex   iterations: 92609\n",
      "Objective value     :  7.4562063713e+08\n",
      "HiGHS run time      :        176.46\n"
     ]
    },
    {
     "data": {
      "text/plain": [
       "(CAPG = [4357.88057476665, 24147.563702701395], CAPS = [-0.0, 12915.264351236765, -0.0, -0.0, 2738.291371295227, 0.0, 0.0, 0.0, -0.0, -0.0, 5660.399999999995, -0.0, -0.0, -0.0], SOCM = [-0.0, 2.268530961275762e6, -0.0, -0.0, 199584.2600355829, -0.0, -0.0, -0.0, -0.0, -0.0, 66998.18181818399, 0.0, -0.0, -0.0], GEN = [0.0 0.0 … 0.0 0.0; 0.0 0.0 … 0.0 0.0], SOC = [-0.0 -0.0 … 0.0 -0.0; 1.134265480637881e6 1.1429187077532096e6 … 1.1335166886378808e6 1.134265480637881e6; … ; -0.0 -0.0 … -0.0 -0.0; -0.0 -0.0 … -0.0 -0.0], CHARGE = [0.0 0.0 … -0.0 -0.0; 0.0 12915.264351236765 … 202.59999999978035 1117.6000000001973; … ; -0.0 -0.0 … 0.0 0.0; -0.0 -0.0 … 0.0 0.0], DISCHARGE = [0.0 0.0 … 0.0 0.0; 0.0 0.0 … 0.0 0.0; … ; 0.0 -0.0 … 0.0 0.0; 0.0 0.0 … 0.0 0.0], NET_DISCHARGE = [0.0 0.0 … 0.0 0.0; 0.0 -12915.264351236765 … -202.59999999978035 -1117.6000000001973; … ; 0.0 0.0 … 0.0 0.0; 0.0 0.0 … 0.0 0.0], CURTAIL = [-0.0 -0.0 … 0.0 0.0; 0.0 0.0 … 0.0 0.0; 9314.10862870478 1414.2442774680112 … 0.0 0.0], NSE = [0.0, 0.0, 0.0, 0.0, 0.0, 0.0, 0.0, 0.0, 0.0, 0.0  …  0.0, 0.0, 0.0, 0.0, 0.0, 0.0, 0.0, 0.0, 0.0, 0.0], GenInvCost = 9.301434008024984e9, StorPowInvCost = 8.295285451289566e9, StorEnInvCost = 2.4032805406854534e9, TIC = 2.0000000000000004e10, EnergyProvisionCost = 6.954483166035235e8, UnservedEnergyCost = 0.0, CurtailedVreCost = 2.7550610030369936e6, OV = 7.45620637132707e8)"
      ]
     },
     "metadata": {},
     "output_type": "display_data"
    }
   ],
   "source": [
    "c1s2b20 = case1scheme2(vreinfo, generatorinfo, storageinfo, halfhourlydemand, halfhourlyvrecf; \n",
    "budget=20e9, voll=1e6, bigm=100e3, epsilon=0.05)"
   ]
  },
  {
   "cell_type": "code",
   "execution_count": 8,
   "metadata": {},
   "outputs": [],
   "source": []
  }
 ],
 "metadata": {
  "kernelspec": {
   "display_name": "Julia 1.9.3",
   "language": "julia",
   "name": "julia-1.9"
  },
  "language_info": {
   "file_extension": ".jl",
   "mimetype": "application/julia",
   "name": "julia",
   "version": "1.9.3"
  }
 },
 "nbformat": 4,
 "nbformat_minor": 2
}
