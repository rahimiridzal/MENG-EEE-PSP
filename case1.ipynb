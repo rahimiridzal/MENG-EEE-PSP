{
 "cells": [
  {
   "cell_type": "markdown",
   "metadata": {},
   "source": [
    "# Case 1: No reserve requirements"
   ]
  },
  {
   "cell_type": "code",
   "execution_count": 4,
   "metadata": {},
   "outputs": [],
   "source": [
    "using CSV, DataFrames, JuMP, HiGHS, SCIP, Clp\n",
    "\n",
    "storageinfo = CSV.read(joinpath(\"cleaned\",\"storageinfo.csv\"), DataFrame)\n",
    "generatorinfo = CSV.read(joinpath(\"cleaned\",\"generatorinfo.csv\"), DataFrame)\n",
    "vreinfo = CSV.read(joinpath(\"cleaned\",\"vreinfo.csv\"), DataFrame)\n",
    "halfhourlydemand = CSV.read(joinpath(\"cleaned\",\"halfhourlydemand.csv\"), DataFrame)\n",
    "halfhourlyvrecf = CSV.read(joinpath(\"cleaned\",\"halfhourlyvrecf.csv\"), DataFrame)\n",
    "halfhourlydemand = halfhourlydemand[1:1440,:];"
   ]
  },
  {
   "cell_type": "markdown",
   "metadata": {},
   "source": [
    "## Scheme 1 (No storage)"
   ]
  },
  {
   "cell_type": "code",
   "execution_count": 5,
   "metadata": {},
   "outputs": [
    {
     "data": {
      "text/plain": [
       "case1scheme1 (generic function with 1 method)"
      ]
     },
     "metadata": {},
     "output_type": "display_data"
    }
   ],
   "source": [
    "function case1scheme1(vreinfo, generatorinfo, storageinfo, halfhourlydemand, halfhourlyvrecf; \n",
    "    budget, voll, bigm, epsilon)\n",
    "\n",
    "    # SETS\n",
    "    V = vreinfo.id\n",
    "    G = generatorinfo.id\n",
    "    S = storageinfo.id\n",
    "    T = halfhourlydemand.hh\n",
    "    T1 = T[2:end]\n",
    "\n",
    "    # INITIATE MODEL\n",
    "    model = Model()\n",
    "    set_optimizer(model, HiGHS.Optimizer)\n",
    "\n",
    "    # DECISION VARIABLES\n",
    "    @variables(model, begin\n",
    "        CAPG[G] >= 0\n",
    "        GEN[G,T] >= 0\n",
    "        CURTAIL[V,T] >= 0\n",
    "        NSE[T] >= 0\n",
    "    end)\n",
    "\n",
    "    # BUDGET CONSTRAINT\n",
    "    @expression(model, GenInvCost, sum(generatorinfo[generatorinfo.id.==g,:fixedCost][1] * CAPG[g] for g in G))\n",
    "    @expression(model, TIC, GenInvCost)\n",
    "    @constraint(model, cBudget, TIC <= budget)\n",
    "\n",
    "    # OBJECTIVE FUNCTION\n",
    "    @expression(model, EnergyProvisionCost, \n",
    "        sum(0.5 * generatorinfo[generatorinfo.id.==g,:varCost][1] * GEN[g,t] for g in G for t in T))\n",
    "    @expression(model, UnservedEnergyCost, \n",
    "        sum(0.5 * voll * NSE[t] for t in T))\n",
    "    @expression(model, CurtailedVreCost,\n",
    "        sum(0.5 * vreinfo[vreinfo.id.==v,:varCost][1] * CURTAIL[v,t] for v in V for t in T))\n",
    "    @objective(model, Min, \n",
    "        EnergyProvisionCost + UnservedEnergyCost + CurtailedVreCost)\n",
    "\n",
    "    # POWER BALANCE CONSTRAINT\n",
    "    @constraint(model, c01[t in T], sum(GEN[g,t] for g in G) + NSE[t] - sum(CURTAIL[v,t] for v in V) +\n",
    "        sum(vreinfo[vreinfo.id.==v,:installedMW][1] * \n",
    "        halfhourlyvrecf[(halfhourlyvrecf.hh.==t) .& (halfhourlyvrecf.vre_id.==v),:cf][1] for v in V) == \n",
    "        halfhourlydemand[halfhourlydemand.hh.==t,:load][1])\n",
    "    \n",
    "    # GENERATOR LIMIT CONSTRAINT\n",
    "    @constraint(model, c90[g in G, t in T], GEN[g,t] <= CAPG[g])\n",
    "\n",
    "    # GENERATOR RAMP UP CONSTRAINT\n",
    "    @constraint(model, c11[g in G, t in T1], \n",
    "        GEN[g,t] - GEN[g,t-1] <= generatorinfo[generatorinfo.id.==g,:rampupRate][1] * CAPG[g])\n",
    "    \n",
    "    # GENERATOR RAMP DOWN CONSTRAINT\n",
    "    @constraint(model, c12[g in G, t in T1],\n",
    "        GEN[g,t-1] - GEN[g,t] <= generatorinfo[generatorinfo.id.==g,:rampdownRate][1] * CAPG[g])\n",
    "    \n",
    "    # VRE CURTAIL CONSTRAINT\n",
    "    @constraint(model, c13[v in V, t in T], CURTAIL[v,t] <= \n",
    "        vreinfo[vreinfo.id.==v,:installedMW][1] * \n",
    "        halfhourlyvrecf[(halfhourlyvrecf.hh.==t) .& (halfhourlyvrecf.vre_id.==v),:cf][1])\n",
    "\n",
    "    optimize!(model)\n",
    "\n",
    "    return(\n",
    "        CAPG = value.(CAPG).data,\n",
    "        GEN = value.(GEN).data,\n",
    "        CURTAIL = value.(CURTAIL).data,\n",
    "        NSE = value.(NSE).data,\n",
    "        GenInvCost = value(GenInvCost),\n",
    "        TIC = value(TIC),\n",
    "        EnergyProvisionCost = value(EnergyProvisionCost),\n",
    "        UnservedEnergyCost = value(UnservedEnergyCost),\n",
    "        CurtailedVreCost = value(CurtailedVreCost),\n",
    "        OV = objective_value(model),\n",
    "    )\n",
    "end"
   ]
  },
  {
   "cell_type": "code",
   "execution_count": 3,
   "metadata": {},
   "outputs": [
    {
     "name": "stdout",
     "output_type": "stream",
     "text": [
      "Running HiGHS 1.6.0: Copyright (c) 2023 HiGHS under MIT licence terms\n",
      "Presolving model\n",
      "10077 rows, 7254 cols, 30282 nonzeros\n",
      "10076 rows, 7141 cols, 30168 nonzeros\n",
      "Presolve : Reductions: rows 10076(-4321); columns 7141(-1501); elements 30168(-5822)\n",
      "Solving the presolved LP\n",
      "Using EKK dual simplex solver - serial\n",
      "  Iteration        Objective     Infeasibilities num(sum)\n",
      "          0     2.5399500000e+05 Pr: 1440(2.36784e+07) 0s\n",
      "       2285     1.3001426396e+09 Pr: 0(0) 0s\n",
      "Solving the original LP from the solution after postsolve\n",
      "Model   status      : Optimal\n",
      "Simplex   iterations: 2285\n",
      "Objective value     :  1.3001426396e+09\n",
      "HiGHS run time      :          0.09\n"
     ]
    },
    {
     "data": {
      "text/plain": [
       "(CAPG = [47979.29032258065, 1840.1096774193518], GEN = [0.0 0.0 … 0.0 0.0; 0.0 0.0 … 0.0 0.0], CURTAIL = [-0.0 -0.0 … -0.0 -0.0; 0.0 0.0 … 0.0 0.0; 17712.800000000003 17067.800000000003 … 202.59999999999854 1117.5999999999985], NSE = [0.0, 0.0, 0.0, 0.0, 0.0, 0.0, 0.0, 0.0, 0.0, 0.0  …  0.0, 0.0, 0.0, 0.0, 0.0, 0.0, 0.0, 0.0, 0.0, 0.0], GenInvCost = 1.0e10, TIC = 1.0e10, EnergyProvisionCost = 1.2803715362323117e9, UnservedEnergyCost = 0.0, CurtailedVreCost = 1.9771103400000032e7, OV = 1.300142639632312e9)"
      ]
     },
     "metadata": {},
     "output_type": "display_data"
    }
   ],
   "source": [
    "c1s1b10 = case1scheme1(vreinfo, generatorinfo, storageinfo, halfhourlydemand, halfhourlyvrecf; \n",
    "budget=10e9, voll=1e6, bigm=100e3, epsilon=0.05)"
   ]
  },
  {
   "cell_type": "code",
   "execution_count": 7,
   "metadata": {},
   "outputs": [
    {
     "name": "stdout",
     "output_type": "stream",
     "text": [
      "Running HiGHS 1.6.0: Copyright (c) 2023 HiGHS under MIT licence terms\n",
      "Presolving model\n",
      "10077 rows, 7254 cols, 30282 nonzeros\n",
      "10076 rows, 7141 cols, 30168 nonzeros\n",
      "Presolve : Reductions: rows 10076(-4321); columns 7141(-1501); elements 30168(-5822)\n",
      "Solving the presolved LP\n",
      "Using EKK dual simplex solver - serial\n",
      "  Iteration        Objective     Infeasibilities num(sum)\n",
      "          0     2.5399500000e+05 Pr: 1440(2.36784e+07) 0s\n",
      "       1441     9.3650015940e+08 Pr: 0(0) 0s\n",
      "Solving the original LP from the solution after postsolve\n",
      "Model   status      : Optimal\n",
      "Simplex   iterations: 1441\n",
      "Objective value     :  9.3650015940e+08\n",
      "HiGHS run time      :          0.04\n"
     ]
    },
    {
     "data": {
      "text/plain": [
       "(CAPG = [13144.666666666666, 49819.4], GEN = [0.0 0.0 … 0.0 0.0; 0.0 0.0 … 0.0 0.0], CURTAIL = [-0.0 -0.0 … -0.0 -0.0; 0.0 0.0 … 0.0 0.0; 17712.800000000003 17067.800000000003 … 202.59999999999854 1117.5999999999985], NSE = [0.0, 0.0, 0.0, 0.0, 0.0, 0.0, 0.0, 0.0, 0.0, 0.0  …  0.0, 0.0, 0.0, 0.0, 0.0, 0.0, 0.0, 0.0, 0.0, 0.0], GenInvCost = 2.0e10, TIC = 2.0e10, EnergyProvisionCost = 9.16729056e8, UnservedEnergyCost = 0.0, CurtailedVreCost = 1.9771103400000032e7, OV = 9.365001594000006e8)"
      ]
     },
     "metadata": {},
     "output_type": "display_data"
    }
   ],
   "source": [
    "c1s1b20 = case1scheme1(vreinfo, generatorinfo, storageinfo, halfhourlydemand, halfhourlyvrecf; \n",
    "budget=20e9, voll=1e6, bigm=100e3, epsilon=0.05)"
   ]
  },
  {
   "cell_type": "code",
   "execution_count": 6,
   "metadata": {},
   "outputs": [
    {
     "name": "stdout",
     "output_type": "stream",
     "text": [
      "Running HiGHS 1.6.0: Copyright (c) 2023 HiGHS under MIT licence terms\n",
      "Presolving model\n",
      "10077 rows, 7254 cols, 30282 nonzeros\n",
      "10076 rows, 7141 cols, 30168 nonzeros\n",
      "Presolve : Reductions: rows 10076(-4321); columns 7141(-1501); elements 30168(-5822)\n",
      "Solving the presolved LP\n",
      "Using EKK dual simplex solver - serial\n",
      "  Iteration        Objective     Infeasibilities num(sum)\n",
      "          0     2.5399500000e+05 Pr: 1440(2.36784e+07) 0s\n",
      "       1441     9.3650015940e+08 Pr: 0(0) 0s\n",
      "Solving the original LP from the solution after postsolve\n",
      "Model   status      : Optimal\n",
      "Simplex   iterations: 1441\n",
      "Objective value     :  9.3650015940e+08\n",
      "HiGHS run time      :          0.03\n"
     ]
    },
    {
     "data": {
      "text/plain": [
       "(CAPG = [64426.717948717946, 49819.4], GEN = [0.0 0.0 … 0.0 0.0; 0.0 0.0 … 0.0 0.0], CURTAIL = [-0.0 -0.0 … -0.0 -0.0; 0.0 0.0 … 0.0 0.0; 17712.800000000003 17067.800000000003 … 202.59999999999854 1117.5999999999985], NSE = [0.0, 0.0, 0.0, 0.0, 0.0, 0.0, 0.0, 0.0, 0.0, 0.0  …  0.0, 0.0, 0.0, 0.0, 0.0, 0.0, 0.0, 0.0, 0.0, 0.0], GenInvCost = 3.0e10, TIC = 3.0e10, EnergyProvisionCost = 9.16729056e8, UnservedEnergyCost = 0.0, CurtailedVreCost = 1.9771103400000032e7, OV = 9.365001594000006e8)"
      ]
     },
     "metadata": {},
     "output_type": "display_data"
    }
   ],
   "source": [
    "c1s1b30 = case1scheme1(vreinfo, generatorinfo, storageinfo, halfhourlydemand, halfhourlyvrecf; \n",
    "budget=30e9, voll=1e6, bigm=100e3, epsilon=0.05)"
   ]
  },
  {
   "cell_type": "code",
   "execution_count": 6,
   "metadata": {},
   "outputs": [
    {
     "name": "stdout",
     "output_type": "stream",
     "text": [
      "Running HiGHS 1.6.0: Copyright (c) 2023 HiGHS under MIT licence terms\n",
      "Presolving model\n",
      "10077 rows, 7254 cols, 30282 nonzeros\n",
      "10076 rows, 7141 cols, 30168 nonzeros\n",
      "Presolve : Reductions: rows 10076(-4321); columns 7141(-1501); elements 30168(-5822)\n",
      "Solving the presolved LP\n",
      "Using EKK dual simplex solver - serial\n",
      "  Iteration        Objective     Infeasibilities num(sum)\n",
      "          0     2.5399500000e+05 Pr: 1440(2.36784e+07) 0s\n",
      "       1509     9.5062030527e+08 Pr: 0(0) 0s\n",
      "Solving the original LP from the solution after postsolve\n",
      "Model   status      : Optimal\n",
      "Simplex   iterations: 1509\n",
      "Objective value     :  9.5062030527e+08\n",
      "HiGHS run time      :          0.05\n"
     ]
    },
    {
     "data": {
      "text/plain": [
       "(CAPG = [15721.225806451605, 34098.174193548395], GEN = [0.0 0.0 … 0.0 0.0; 0.0 0.0 … 0.0 0.0], CURTAIL = [-0.0 -0.0 … -0.0 -0.0; 0.0 0.0 … 0.0 0.0; 17712.800000000003 17067.800000000003 … 202.59999999999854 1117.5999999999985], NSE = [0.0, 0.0, 0.0, 0.0, 0.0, 0.0, 0.0, 0.0, 0.0, 0.0  …  0.0, 0.0, 0.0, 0.0, 0.0, 0.0, 0.0, 0.0, 0.0, 0.0], GenInvCost = 1.5e10, TIC = 1.5e10, EnergyProvisionCost = 9.308492018709673e8, UnservedEnergyCost = 0.0, CurtailedVreCost = 1.9771103400000032e7, OV = 9.506203052709668e8)"
      ]
     },
     "metadata": {},
     "output_type": "display_data"
    }
   ],
   "source": [
    "c1s1b15 = case1scheme1(vreinfo, generatorinfo, storageinfo, halfhourlydemand, halfhourlyvrecf; \n",
    "budget=15e9, voll=1e6, bigm=100e3, epsilon=0.05)"
   ]
  },
  {
   "cell_type": "code",
   "execution_count": 10,
   "metadata": {},
   "outputs": [
    {
     "name": "stdout",
     "output_type": "stream",
     "text": [
      "Running HiGHS 1.6.0: Copyright (c) 2023 HiGHS under MIT licence terms\n",
      "Presolving model\n",
      "10077 rows, 7254 cols, 30282 nonzeros\n",
      "10076 rows, 7141 cols, 30168 nonzeros\n",
      "Presolve : Reductions: rows 10076(-4321); columns 7141(-1501); elements 30168(-5822)\n",
      "Solving the presolved LP\n",
      "Using EKK dual simplex solver - serial\n",
      "  Iteration        Objective     Infeasibilities num(sum)\n",
      "          0     2.5399500000e+05 Pr: 1440(2.36784e+07) 0s\n",
      "       2471     7.3195075713e+11 Pr: 0(0) 0s\n",
      "Solving the original LP from the solution after postsolve\n",
      "Model   status      : Optimal\n",
      "Simplex   iterations: 2471\n",
      "Objective value     :  7.3195075713e+11\n",
      "HiGHS run time      :          0.10\n"
     ]
    },
    {
     "data": {
      "text/plain": [
       "(CAPG = [25641.02564102564, 0.0], GEN = [0.0 0.0 … 0.0 0.0; 0.0 0.0 … 0.0 0.0], CURTAIL = [-0.0 -0.0 … -0.0 -0.0; 0.0 0.0 … 0.0 0.0; 17712.800000000003 17067.800000000003 … 202.59999999999854 1117.5999999999985], NSE = [0.0, 0.0, 0.0, 0.0, 0.0, 0.0, 0.0, 0.0, 0.0, 0.0  …  0.0, 0.0, 0.0, 0.0, 0.0, 0.0, 0.0, 0.0, 0.0, 0.0], GenInvCost = 5.0e9, TIC = 5.0e9, EnergyProvisionCost = 1.181668075e9, UnservedEnergyCost = 7.307493179487184e11, CurtailedVreCost = 1.9771103400000032e7, OV = 7.319507571271179e11)"
      ]
     },
     "metadata": {},
     "output_type": "display_data"
    }
   ],
   "source": [
    "c1s1b05 = case1scheme1(vreinfo, generatorinfo, storageinfo, halfhourlydemand, halfhourlyvrecf; \n",
    "budget=5e9, voll=1e6, bigm=100e3, epsilon=0.05)"
   ]
  },
  {
   "cell_type": "markdown",
   "metadata": {},
   "source": []
  },
  {
   "cell_type": "markdown",
   "metadata": {},
   "source": [
    "## Scheme 2 (Consider Storage)"
   ]
  },
  {
   "cell_type": "markdown",
   "metadata": {},
   "source": [
    "Note: \n",
    "- 1 USD = 0.8 GBP\n",
    "- 1 USD/kWh = 1000 USD/MWh\n",
    "- Charging and Discharging cost: 5 USD/MWhh to promote efficient charging and discharging state"
   ]
  },
  {
   "cell_type": "code",
   "execution_count": 7,
   "metadata": {},
   "outputs": [
    {
     "data": {
      "text/plain": [
       "case1scheme2 (generic function with 1 method)"
      ]
     },
     "metadata": {},
     "output_type": "display_data"
    }
   ],
   "source": [
    "function case1scheme2(vreinfo, generatorinfo, storageinfo, halfhourlydemand, halfhourlyvrecf; \n",
    "    budget, voll, bigm, epsilon)\n",
    "\n",
    "    # SETS\n",
    "    V = vreinfo.id\n",
    "    G = generatorinfo.id\n",
    "    S = storageinfo.id\n",
    "    T = halfhourlydemand.hh\n",
    "    T1 = T[2:end]\n",
    "\n",
    "    # INITIATE MODEL\n",
    "    model = Model()\n",
    "    set_optimizer(model, HiGHS.Optimizer)\n",
    "\n",
    "    # DECISION VARIABLES\n",
    "    @variables(model, begin\n",
    "        CAPG[G] >= 0\n",
    "        CAPS[S] >= 0\n",
    "        SOCM[S] >= 0\n",
    "        GEN[G,T] >= 0\n",
    "        SOC[S,T] >= 0\n",
    "        CHARGE[S,T] >= 0\n",
    "        DISCHARGE[S,T] >= 0\n",
    "        CURTAIL[V,T] >= 0\n",
    "        NSE[T] >= 0\n",
    "    end)\n",
    "\n",
    "    # BUDGET CONSTRAINT\n",
    "    @expression(model, GenInvCost, sum(generatorinfo[generatorinfo.id.==g,:fixedCost][1] * CAPG[g] for g in G))\n",
    "    @expression(model, StorPowInvCost, sum(0.8e3 * storageinfo[storageinfo.id.==s,:bestCasePowerCost][1] * CAPS[s] for s in S))\n",
    "    @expression(model, StorEnInvCost, sum(0.8e3 * storageinfo[storageinfo.id.==s,:bestCaseEnergyCost][1] * SOCM[s] for s in S))\n",
    "    @expression(model, TIC, GenInvCost + StorPowInvCost + StorEnInvCost)\n",
    "    @constraint(model, cBudget, TIC <= budget)\n",
    "\n",
    "    # OBJECTIVE FUNCTION\n",
    "    @expression(model, EnergyProvisionCost, \n",
    "        sum(0.5 * generatorinfo[generatorinfo.id.==g,:varCost][1] * GEN[g,t] for g in G for t in T))\n",
    "    @expression(model, UnservedEnergyCost, \n",
    "        sum(0.5 * voll * NSE[t] for t in T))\n",
    "    @expression(model, CurtailedVreCost,\n",
    "        sum(0.5 * vreinfo[vreinfo.id.==v,:varCost][1] * CURTAIL[v,t] for v in V for t in T))\n",
    "    @expression(model, PenaltyChargeDischarge, 5 * sum(CHARGE[g,t] + DISCHARGE[g,t] for g in G for t in T))\n",
    "    @objective(model, Min, EnergyProvisionCost + UnservedEnergyCost + CurtailedVreCost + PenaltyChargeDischarge)\n",
    "\n",
    "    # POWER BALANCE CONSTRAINT\n",
    "    @constraint(model, c01[t in T], sum(GEN[g,t] for g in G) + NSE[t] - sum(CURTAIL[v,t] for v in V) +\n",
    "        sum(vreinfo[vreinfo.id.==v,:installedMW][1] * \n",
    "        halfhourlyvrecf[(halfhourlyvrecf.hh.==t) .& (halfhourlyvrecf.vre_id.==v),:cf][1] for v in V) +\n",
    "        sum(DISCHARGE[s,t] for s in S) - sum(CHARGE[s,t] for s in S) == \n",
    "        halfhourlydemand[halfhourlydemand.hh.==t,:load][1])\n",
    "    \n",
    "    # GENERATOR LIMIT CONSTRAINT\n",
    "    @constraint(model, c90[g in G, t in T], GEN[g,t] <= CAPG[g])\n",
    "\n",
    "    # GENERATOR RAMP UP CONSTRAINT\n",
    "    @constraint(model, c11[g in G, t in T1], \n",
    "        GEN[g,t] - GEN[g,t-1] <= generatorinfo[generatorinfo.id.==g,:rampupRate][1] * CAPG[g])\n",
    "    \n",
    "    # GENERATOR RAMP DOWN CONSTRAINT\n",
    "    @constraint(model, c12[g in G, t in T1],\n",
    "        GEN[g,t-1] - GEN[g,t] <= generatorinfo[generatorinfo.id.==g,:rampdownRate][1] * CAPG[g])\n",
    "    \n",
    "    # VRE CURTAIL CONSTRAINT\n",
    "    @constraint(model, c13[v in V, t in T], CURTAIL[v,t] <= \n",
    "        vreinfo[vreinfo.id.==v,:installedMW][1] * \n",
    "        halfhourlyvrecf[(halfhourlyvrecf.hh.==t) .& (halfhourlyvrecf.vre_id.==v),:cf][1])\n",
    "    \n",
    "    # STORAGE CHARGE LIMIT CONSTRAINT\n",
    "    @constraint(model, c92[s in S, t in T], CHARGE[s,t] <= CAPS[s])\n",
    "\n",
    "    # STORAGE DISCHARGE LIMIT CONSTRAINT\n",
    "    @constraint(model, c93[s in S, t in T], DISCHARGE[s,t] <= CAPS[s])\n",
    "    \n",
    "    # STORAGE SOC LIMIT CONSTRAINT\n",
    "    @constraint(model, c19[s in S, t in T], SOC[s,t] <= SOCM[s])\n",
    "    @constraint(model, c20[s in S], SOC[s,minimum(T)] == 0.5 * SOCM[s])\n",
    "    @constraint(model, c21[s in S], SOC[s,maximum(T)] == 0.5 * SOCM[s])\n",
    "\n",
    "    # STORAGE SOC UPDATE CONSTRAINT\n",
    "    @constraint(model, c22[s in S, t in T1], SOC[s,t] == SOC[s,t-1] + \n",
    "        (CHARGE[s,t] * storageinfo[storageinfo.id.==s,:bestCaseEff][1]) - \n",
    "        (DISCHARGE[s,t] / storageinfo[storageinfo.id.==s,:bestCaseEff][1]))\n",
    "\n",
    "    optimize!(model)\n",
    "\n",
    "    return(\n",
    "        CAPG = value.(CAPG).data,\n",
    "        CAPS = value.(CAPS).data,\n",
    "        SOCM = value.(SOCM).data,\n",
    "        GEN = value.(GEN).data,\n",
    "        SOC = value.(SOC).data,\n",
    "        CHARGE = value.(CHARGE).data,\n",
    "        DISCHARGE = value.(DISCHARGE).data,\n",
    "        NET_DISCHARGE = value.(DISCHARGE).data .- value.(CHARGE).data,\n",
    "        CURTAIL = value.(CURTAIL).data,\n",
    "        NSE = value.(NSE).data,\n",
    "        GenInvCost = value(GenInvCost),\n",
    "        StorPowInvCost = value(StorPowInvCost),\n",
    "        StorEnInvCost = value(StorEnInvCost),\n",
    "        TIC = value(TIC),\n",
    "        EnergyProvisionCost = value(EnergyProvisionCost),\n",
    "        UnservedEnergyCost = value(UnservedEnergyCost),\n",
    "        CurtailedVreCost = value(CurtailedVreCost),\n",
    "        OV = objective_value(model),\n",
    "    )\n",
    "end"
   ]
  },
  {
   "cell_type": "code",
   "execution_count": 9,
   "metadata": {},
   "outputs": [
    {
     "name": "stdout",
     "output_type": "stream",
     "text": [
      "Running HiGHS 1.6.0: Copyright (c) 2023 HiGHS under MIT licence terms\n",
      "Presolving model\n",
      "90675 rows, 68156 cols, 272540 nonzeros\n",
      "90675 rows, 68156 cols, 272540 nonzeros\n",
      "Presolve : Reductions: rows 90675(-4376); columns 68156(-994); elements 272540(-5398)\n",
      "Solving the presolved LP\n",
      "Using EKK dual simplex solver - serial\n",
      "  Iteration        Objective     Infeasibilities num(sum)\n",
      "          0     0.0000000000e+00 Pr: 1440(3.86983e+08) 0s\n",
      "       4433     1.6796299541e+04 Pr: 33003(2.01735e+11); Du: 0(7.19476e-07) 5s\n",
      "       7430     6.2599574077e+04 Pr: 20775(4.12103e+11); Du: 0(8.82986e-07) 10s\n",
      "      10208     1.1774563225e+05 Pr: 19411(1.64938e+11); Du: 0(5.35038e-07) 15s\n",
      "      12674     1.8910510248e+05 Pr: 27316(2.32151e+11); Du: 0(6.03302e-07) 20s\n",
      "      14821     2.4517480427e+05 Pr: 26500(9.19848e+11); Du: 0(5.77963e-07) 25s\n",
      "      17335     3.5377400835e+05 Pr: 24744(1.65976e+11); Du: 0(6.09254e-07) 31s\n",
      "      19819     4.3015722677e+05 Pr: 22503(1.35779e+11); Du: 0(5.89193e-07) 36s\n",
      "      22310     4.9560324968e+05 Pr: 22333(1.24493e+11); Du: 0(5.61938e-07) 42s\n",
      "      24552     5.9526961630e+05 Pr: 24815(2.74992e+11); Du: 0(8.00774e-07) 48s\n",
      "      26257     6.7613422122e+05 Pr: 26211(3.49971e+11); Du: 0(4.93381e-07) 53s\n",
      "      27993     7.6059610334e+05 Pr: 33986(1.63775e+13); Du: 0(5.70587e-07) 58s\n",
      "      29761     8.3610070213e+05 Pr: 28876(2.1852e+11); Du: 0(9.11652e-07) 64s\n",
      "      31763     1.2321888601e+06 Pr: 20811(2.73655e+11); Du: 0(8.94155e-07) 70s\n",
      "      33507     1.8919850089e+06 Pr: 25069(1.13146e+12); Du: 0(6.1785e-07) 75s\n",
      "      35238     3.1405169703e+06 Pr: 22480(9.47531e+11); Du: 0(4.04412e-07) 80s\n",
      "      36867     8.7423428252e+06 Pr: 25014(8.30105e+12); Du: 0(4.21336e-07) 86s\n",
      "      38592     4.3917585345e+07 Pr: 24819(1.33662e+13); Du: 0(4.12053e-07) 91s\n",
      "      40921     1.1450352580e+08 Pr: 24365(5.85805e+13); Du: 0(4.12053e-07) 98s\n",
      "      43014     4.9348025592e+08 Pr: 29458(7.14396e+13); Du: 0(6.12178e-07) 104s\n",
      "      45358     8.2244941275e+08 Pr: 28598(1.18432e+12); Du: 0(8.20049e-07) 112s\n",
      "      47359     8.5947540281e+08 Pr: 22459(2.0432e+13); Du: 0(5.20818e-07) 118s\n",
      "      49184     9.1403361139e+08 Pr: 24912(6.19333e+11); Du: 0(2.56512e-07) 123s\n",
      "      51626     9.8156809092e+08 Pr: 14454(6.03411e+10); Du: 0(1.37585e-07) 129s\n",
      "      54778     1.0187551268e+09 Pr: 18551(1.98925e+11); Du: 0(1.40697e-07) 135s\n",
      "      57638     1.0913097056e+09 Pr: 16203(2.78365e+11); Du: 0(2.09163e-07) 142s\n",
      "      60687     1.1663329714e+09 Pr: 16851(1.14401e+11); Du: 0(2.8269e-07) 148s\n",
      "      63837     1.2024826522e+09 Pr: 14939(4.57163e+10); Du: 0(2.27742e-07) 153s\n",
      "      67046     1.2715242141e+09 Pr: 4918(4.28136e+08); Du: 0(2.88986e-07) 158s\n",
      "      70313     1.3001426396e+09 Pr: 0(0); Du: 0(4.30589e-12) 162s\n",
      "Solving the original LP from the solution after postsolve\n",
      "Model   status      : Optimal\n",
      "Simplex   iterations: 70313\n",
      "Objective value     :  1.3001426396e+09\n",
      "HiGHS run time      :        162.17\n"
     ]
    },
    {
     "data": {
      "text/plain": [
       "(CAPG = [47979.290322580644, 1840.1096774193547], CAPS = [0.0, 0.0, 0.0, 0.0, 0.0, 0.0, 0.0, 0.0, 0.0, -0.0, -0.0, -0.0, 0.0, 0.0], SOCM = [-0.0, -0.0, -0.0, -0.0, -0.0, -0.0, -0.0, 0.0, -0.0, -0.0, -0.0, -0.0, -0.0, -0.0], GEN = [0.0 0.0 … 0.0 0.0; 0.0 0.0 … 0.0 0.0], SOC = [-0.0 0.0 … 0.0 -0.0; -0.0 -0.0 … -0.0 -0.0; … ; -0.0 -0.0 … -0.0 -0.0; -0.0 0.0 … -0.0 -0.0], CHARGE = [0.0 0.0 … 0.0 0.0; 0.0 -0.0 … -0.0 -0.0; … ; -0.0 0.0 … -0.0 -0.0; -0.0 -0.0 … -0.0 -0.0], DISCHARGE = [0.0 0.0 … 0.0 0.0; 0.0 0.0 … 0.0 0.0; … ; 0.0 -0.0 … 0.0 0.0; 0.0 -0.0 … 0.0 0.0], NET_DISCHARGE = [0.0 0.0 … 0.0 0.0; 0.0 0.0 … 0.0 0.0; … ; 0.0 -0.0 … 0.0 0.0; 0.0 0.0 … 0.0 0.0], CURTAIL = [-0.0 -0.0 … -0.0 -0.0; 0.0 0.0 … 0.0 0.0; 17712.800000000003 17067.800000000003 … 202.59999999999854 1117.5999999999985], NSE = [0.0, 0.0, 0.0, 0.0, 0.0, 0.0, 0.0, 0.0, 0.0, 0.0  …  0.0, 0.0, 0.0, 0.0, 0.0, 0.0, 0.0, 0.0, 0.0, 0.0], GenInvCost = 1.0e10, StorPowInvCost = 0.0, StorEnInvCost = 0.0, TIC = 1.0e10, EnergyProvisionCost = 1.2803715362323117e9, UnservedEnergyCost = 0.0, CurtailedVreCost = 1.9771103400000032e7, OV = 1.300142639632312e9)"
      ]
     },
     "metadata": {},
     "output_type": "display_data"
    }
   ],
   "source": [
    "c1s2b10 = case1scheme2(vreinfo, generatorinfo, storageinfo, halfhourlydemand, halfhourlyvrecf; \n",
    "budget=10e9, voll=1e6, bigm=100e3, epsilon=0.05)"
   ]
  },
  {
   "cell_type": "code",
   "execution_count": 10,
   "metadata": {},
   "outputs": [
    {
     "name": "stdout",
     "output_type": "stream",
     "text": [
      "Running HiGHS 1.6.0: Copyright (c) 2023 HiGHS under MIT licence terms\n",
      "Presolving model\n",
      "90675 rows, 68156 cols, 272540 nonzeros\n",
      "90675 rows, 68156 cols, 272540 nonzeros\n",
      "Presolve : Reductions: rows 90675(-4376); columns 68156(-994); elements 272540(-5398)\n",
      "Solving the presolved LP\n",
      "Using EKK dual simplex solver - serial\n",
      "  Iteration        Objective     Infeasibilities num(sum)\n",
      "          0     0.0000000000e+00 Pr: 1440(3.86983e+08) 0s\n",
      "       4785     2.3268108137e+04 Pr: 16589(2.49315e+11); Du: 0(6.41748e-07) 5s\n",
      "       7866     6.2276288923e+04 Pr: 19862(1.3167e+11); Du: 0(7.64953e-07) 10s\n",
      "      10712     1.3660476839e+05 Pr: 25051(5.15778e+11); Du: 0(3.54787e-07) 15s\n",
      "      12940     1.8492265673e+05 Pr: 21120(8.68397e+11); Du: 0(7.40301e-07) 21s\n",
      "      15289     2.2723526858e+05 Pr: 22721(9.61969e+11); Du: 0(9.16302e-07) 26s\n",
      "      17546     2.6408114791e+05 Pr: 27421(4.27874e+11); Du: 0(5.42089e-07) 32s\n",
      "      19595     2.8779309597e+05 Pr: 33419(9.57883e+11); Du: 0(9.7809e-07) 37s\n",
      "      21739     3.1063229559e+05 Pr: 34237(1.07484e+12); Du: 0(9.90962e-07) 43s\n",
      "      23545     3.3669155333e+05 Pr: 30512(1.4963e+12); Du: 0(1.29739e-06) 48s\n",
      "      25288     3.5993163898e+05 Pr: 23769(1.09265e+12); Du: 0(1.0216e-06) 53s\n",
      "      27069     3.8442875507e+05 Pr: 27304(2.48152e+11); Du: 0(7.18704e-07) 58s\n",
      "      29120     4.1736353247e+05 Pr: 27014(2.92349e+11); Du: 0(1.35606e-06) 64s\n",
      "      31020     4.5122137903e+05 Pr: 25811(7.36286e+11); Du: 0(9.64641e-07) 70s\n",
      "      32702     4.8021020239e+05 Pr: 19411(3.55091e+11); Du: 0(9.98471e-07) 75s\n",
      "      34563     5.1017164221e+05 Pr: 23561(1.24524e+11); Du: 0(1.16347e-06) 81s\n",
      "      36174     5.5493901111e+05 Pr: 26376(2.26459e+11); Du: 0(1.09738e-06) 86s\n",
      "      37943     5.9964116408e+05 Pr: 22668(3.84552e+11); Du: 0(8.6545e-07) 92s\n",
      "      39752     6.3626902359e+05 Pr: 27291(6.22416e+11); Du: 0(1.15656e-06) 98s\n",
      "      41426     6.8367699712e+05 Pr: 31433(2.06893e+12); Du: 0(1.11094e-06) 104s\n",
      "      43317     7.6893555067e+05 Pr: 25452(4.711e+11); Du: 0(7.56455e-07) 111s\n",
      "      45134     8.5886715123e+05 Pr: 27329(2.57017e+12); Du: 0(1.05835e-06) 117s\n",
      "      46777     9.2564992233e+05 Pr: 26757(3.79004e+11); Du: 0(8.5376e-07) 123s\n",
      "      48135     9.8829207333e+05 Pr: 37520(4.58239e+11); Du: 0(1.12486e-06) 129s\n",
      "      49576     1.0701978553e+06 Pr: 32931(2.59213e+12); Du: 0(9.14094e-07) 134s\n",
      "      51043     1.1985607670e+06 Pr: 37182(1.46769e+13); Du: 0(6.46355e-07) 140s\n",
      "      52559     1.4047709536e+06 Pr: 36227(1.28371e+12); Du: 0(8.55766e-07) 146s\n",
      "      53892     1.7096626180e+06 Pr: 30204(9.56207e+11); Du: 0(6.05749e-07) 151s\n",
      "      55296     2.0008539608e+06 Pr: 26895(1.91472e+12); Du: 0(1.17177e-06) 157s\n",
      "      56629     2.5191723059e+06 Pr: 29895(1.76836e+12); Du: 0(6.78705e-07) 162s\n",
      "      57970     3.1306413066e+06 Pr: 36795(9.56423e+11); Du: 0(4.67388e-07) 167s\n",
      "      59828     7.1060801772e+06 Pr: 36774(1.14089e+12); Du: 0(2.90345e-07) 174s\n",
      "      61188     2.0158521471e+07 Pr: 36574(9.49992e+12); Du: 0(3.20984e-07) 179s\n",
      "      62991     5.4070778796e+07 Pr: 40561(9.88837e+11); Du: 0(2.71815e-07) 186s\n",
      "      64973     7.3244145613e+07 Pr: 42763(1.91696e+12); Du: 0(2.98003e-07) 192s\n",
      "      67287     1.8972132291e+08 Pr: 33568(4.08934e+13); Du: 0(3.78278e-07) 200s\n",
      "      69056     2.9761584805e+08 Pr: 41499(5.08088e+12); Du: 0(3.89861e-07) 206s\n",
      "      70978     5.1737138173e+08 Pr: 37737(2.35514e+12); Du: 0(3.90984e-07) 213s\n",
      "      72765     6.0104567480e+08 Pr: 38318(2.16069e+12); Du: 0(3.20603e-07) 220s\n",
      "      74255     6.3485198947e+08 Pr: 31151(1.48326e+11); Du: 0(2.88949e-07) 226s\n",
      "      76151     6.6125518157e+08 Pr: 33715(3.74525e+11); Du: 0(1.47109e-07) 233s\n",
      "      77641     6.7925574458e+08 Pr: 29548(4.93817e+10); Du: 0(1.70207e-07) 238s\n",
      "      79031     6.9103313097e+08 Pr: 31088(4.82284e+11); Du: 0(2.54648e-07) 244s\n",
      "      80596     7.0183286621e+08 Pr: 28420(2.33435e+11); Du: 0(6.29149e-07) 249s\n",
      "      82733     7.1802480058e+08 Pr: 22969(1.3173e+12); Du: 0(4.68122e-07) 255s\n",
      "      84884     7.2731552622e+08 Pr: 21049(3.21286e+10); Du: 0(3.80991e-07) 261s\n",
      "      87209     7.3577677762e+08 Pr: 28742(2.13103e+10); Du: 0(3.12012e-07) 268s\n",
      "      89454     7.4164834913e+08 Pr: 30275(5.98611e+09); Du: 0(1.43565e-07) 273s\n",
      "      91500     7.4509337789e+08 Pr: 16566(3.08518e+08); Du: 0(1.08996e-07) 279s\n",
      "      92609     7.4562063713e+08 Pr: 0(0); Du: 0(2.5576e-11) 282s\n",
      "Solving the original LP from the solution after postsolve\n",
      "Model   status      : Optimal\n",
      "Simplex   iterations: 92609\n",
      "Objective value     :  7.4562063713e+08\n",
      "HiGHS run time      :        282.61\n"
     ]
    },
    {
     "data": {
      "text/plain": [
       "(CAPG = [4357.88057476665, 24147.563702701395], CAPS = [-0.0, 12915.264351236765, -0.0, -0.0, 2738.291371295227, 0.0, 0.0, 0.0, -0.0, -0.0, 5660.399999999995, -0.0, -0.0, -0.0], SOCM = [-0.0, 2.268530961275762e6, -0.0, -0.0, 199584.2600355829, -0.0, -0.0, -0.0, -0.0, -0.0, 66998.18181818399, 0.0, -0.0, -0.0], GEN = [0.0 0.0 … 0.0 0.0; 0.0 0.0 … 0.0 0.0], SOC = [-0.0 -0.0 … 0.0 -0.0; 1.134265480637881e6 1.1429187077532096e6 … 1.1335166886378808e6 1.134265480637881e6; … ; -0.0 -0.0 … -0.0 -0.0; -0.0 -0.0 … -0.0 -0.0], CHARGE = [0.0 0.0 … -0.0 -0.0; 0.0 12915.264351236765 … 202.59999999978035 1117.6000000001973; … ; -0.0 -0.0 … 0.0 0.0; -0.0 -0.0 … 0.0 0.0], DISCHARGE = [0.0 0.0 … 0.0 0.0; 0.0 0.0 … 0.0 0.0; … ; 0.0 -0.0 … 0.0 0.0; 0.0 0.0 … 0.0 0.0], NET_DISCHARGE = [0.0 0.0 … 0.0 0.0; 0.0 -12915.264351236765 … -202.59999999978035 -1117.6000000001973; … ; 0.0 0.0 … 0.0 0.0; 0.0 0.0 … 0.0 0.0], CURTAIL = [-0.0 -0.0 … 0.0 0.0; 0.0 0.0 … 0.0 0.0; 9314.10862870478 1414.2442774680112 … 0.0 0.0], NSE = [0.0, 0.0, 0.0, 0.0, 0.0, 0.0, 0.0, 0.0, 0.0, 0.0  …  0.0, 0.0, 0.0, 0.0, 0.0, 0.0, 0.0, 0.0, 0.0, 0.0], GenInvCost = 9.301434008024984e9, StorPowInvCost = 8.295285451289566e9, StorEnInvCost = 2.4032805406854534e9, TIC = 2.0000000000000004e10, EnergyProvisionCost = 6.954483166035235e8, UnservedEnergyCost = 0.0, CurtailedVreCost = 2.7550610030369936e6, OV = 7.45620637132707e8)"
      ]
     },
     "metadata": {},
     "output_type": "display_data"
    }
   ],
   "source": [
    "c1s2b20 = case1scheme2(vreinfo, generatorinfo, storageinfo, halfhourlydemand, halfhourlyvrecf; \n",
    "budget=20e9, voll=1e6, bigm=100e3, epsilon=0.05)"
   ]
  },
  {
   "cell_type": "code",
   "execution_count": 11,
   "metadata": {},
   "outputs": [
    {
     "name": "stdout",
     "output_type": "stream",
     "text": [
      "Running HiGHS 1.6.0: Copyright (c) 2023 HiGHS under MIT licence terms\n",
      "Presolving model\n",
      "90675 rows, 68156 cols, 272540 nonzeros\n",
      "90675 rows, 68156 cols, 272540 nonzeros\n",
      "Presolve : Reductions: rows 90675(-4376); columns 68156(-994); elements 272540(-5398)\n",
      "Solving the presolved LP\n",
      "Using EKK dual simplex solver - serial\n",
      "  Iteration        Objective     Infeasibilities num(sum)\n",
      "          0     0.0000000000e+00 Pr: 1440(3.86983e+08) 0s\n",
      "       5098     2.2840989496e+04 Pr: 19448(7.14747e+11); Du: 0(7.08003e-07) 5s\n",
      "       8180     5.8116964993e+04 Pr: 18711(1.07603e+12); Du: 0(1.07655e-06) 10s\n",
      "      10933     1.0042931003e+05 Pr: 24697(3.28748e+11); Du: 0(1.84694e-06) 16s\n",
      "      13435     1.5420963232e+05 Pr: 29198(6.7599e+11); Du: 0(1.5988e-06) 21s\n",
      "      15959     2.0207425955e+05 Pr: 19400(2.55388e+12); Du: 0(1.78856e-06) 27s\n",
      "      18219     2.3840208209e+05 Pr: 20057(2.9745e+11); Du: 0(1.54661e-06) 32s\n",
      "      20310     2.5856761546e+05 Pr: 23966(6.37266e+11); Du: 0(1.33068e-06) 37s\n",
      "      22280     2.7850095967e+05 Pr: 23077(3.22376e+11); Du: 0(1.12926e-06) 42s\n",
      "      24471     3.0575332182e+05 Pr: 23569(1.63116e+11); Du: 0(1.31901e-06) 47s\n",
      "      26527     3.3486864257e+05 Pr: 26364(2.44667e+11); Du: 0(1.0107e-06) 53s\n",
      "      28547     3.5835581618e+05 Pr: 23577(1.47045e+12); Du: 0(1.19167e-06) 59s\n",
      "      30329     3.7931931827e+05 Pr: 27779(2.76446e+12); Du: 0(1.61522e-06) 64s\n",
      "      32065     3.9958928015e+05 Pr: 22645(3.54151e+11); Du: 0(1.42253e-06) 69s\n",
      "      33945     4.2972727302e+05 Pr: 29119(1.09937e+12); Du: 0(1.58411e-06) 75s\n",
      "      35832     4.5773131979e+05 Pr: 24853(7.49792e+11); Du: 0(2.20059e-06) 81s\n",
      "      37461     4.8031476880e+05 Pr: 33318(3.94789e+11); Du: 0(2.04214e-06) 86s\n",
      "      39115     5.0024562240e+05 Pr: 32796(6.51149e+11); Du: 0(2.13615e-06) 92s\n",
      "      40673     5.1665381857e+05 Pr: 27098(6.04697e+11); Du: 0(2.81176e-06) 97s\n",
      "      42452     5.4616531444e+05 Pr: 23259(1.72224e+12); Du: 0(2.41873e-06) 103s\n",
      "      44099     5.7622109707e+05 Pr: 31159(3.74992e+11); Du: 0(1.91554e-06) 108s\n",
      "      45887     6.1461160815e+05 Pr: 29255(8.95141e+11); Du: 0(2.53638e-06) 114s\n",
      "      47690     6.5511458724e+05 Pr: 26180(3.12004e+11); Du: 0(2.0541e-06) 120s\n",
      "      49072     6.8158196916e+05 Pr: 21180(1.5821e+12); Du: 0(1.94484e-06) 126s\n",
      "      50725     7.4175949833e+05 Pr: 26323(4.25982e+11); Du: 0(1.56439e-06) 132s\n",
      "      52082     7.9332641627e+05 Pr: 31061(6.5468e+11); Du: 0(1.44922e-06) 137s\n",
      "      53789     8.6682335641e+05 Pr: 18914(1.15742e+12); Du: 0(1.31345e-06) 143s\n",
      "      55127     9.3091103085e+05 Pr: 22174(5.65858e+11); Du: 0(8.53605e-07) 148s\n",
      "      56718     1.0136855819e+06 Pr: 25472(1.26528e+12); Du: 0(1.22876e-06) 154s\n",
      "      58344     1.1341663971e+06 Pr: 28399(3.78139e+11); Du: 0(1.01586e-06) 160s\n",
      "      59817     1.2346308208e+06 Pr: 37346(5.94153e+11); Du: 0(9.26511e-07) 166s\n",
      "      61286     1.3868210550e+06 Pr: 32036(1.05809e+12); Du: 0(5.52764e-07) 171s\n",
      "      62914     1.6022503482e+06 Pr: 28887(6.31516e+11); Du: 0(5.88793e-07) 177s\n",
      "      64294     1.9008193236e+06 Pr: 26383(1.21136e+12); Du: 0(7.96056e-07) 182s\n",
      "      65704     2.3308785857e+06 Pr: 25063(8.96061e+11); Du: 0(7.84342e-07) 188s\n",
      "      67126     2.8698148513e+06 Pr: 25498(2.66321e+12); Du: 0(8.4764e-07) 193s\n",
      "      68673     3.5048305183e+06 Pr: 33059(2.53195e+12); Du: 0(8.22176e-07) 199s\n",
      "      70322     4.2138489464e+06 Pr: 35686(3.41307e+14); Du: 0(7.60776e-07) 205s\n",
      "      72023     7.3872348470e+06 Pr: 32368(1.66558e+13); Du: 0(8.26172e-07) 211s\n",
      "      73721     1.1582677669e+07 Pr: 34114(2.19729e+12); Du: 0(6.9094e-07) 216s\n",
      "      75341     1.8270556890e+07 Pr: 30050(7.58089e+12); Du: 0(6.73155e-07) 222s\n",
      "      77202     2.7331792499e+07 Pr: 36803(4.63959e+12); Du: 0(3.15152e-07) 228s\n",
      "      78941     4.5489218338e+07 Pr: 39252(3.01616e+12); Du: 0(5.22191e-07) 234s\n",
      "      81313     4.9686293310e+07 Pr: 38070(4.00288e+12); Du: 0(5.71225e-07) 241s\n",
      "      82969     5.2730518225e+07 Pr: 40350(6.11719e+11); Du: 0(5.18207e-07) 247s\n",
      "      84670     5.7545311265e+07 Pr: 38714(3.63497e+11); Du: 0(6.16271e-07) 253s\n",
      "      86663     6.8591118949e+07 Pr: 40498(8.72047e+12); Du: 0(6.38392e-07) 259s\n",
      "      88779     1.3042464681e+08 Pr: 35067(1.01469e+13); Du: 0(7.98956e-07) 267s\n",
      "      90572     2.0580182104e+08 Pr: 37374(1.33332e+12); Du: 0(6.18075e-07) 273s\n",
      "      92212     2.5438538324e+08 Pr: 42610(3.36393e+11); Du: 0(4.49333e-07) 278s\n",
      "      93702     2.8099210219e+08 Pr: 40385(6.06449e+12); Du: 0(5.55935e-07) 284s\n",
      "      95263     3.2482551067e+08 Pr: 41693(4.67435e+11); Du: 0(6.29415e-07) 289s\n",
      "      97241     3.8567123280e+08 Pr: 35802(5.01098e+11); Du: 0(4.4817e-07) 297s\n",
      "      99138     4.7475020901e+08 Pr: 35997(3.63339e+13); Du: 0(2.81515e-07) 303s\n",
      "     100883     5.3995484947e+08 Pr: 37167(4.15824e+12); Du: 0(1.18171e-07) 309s\n",
      "     102808     5.6775988398e+08 Pr: 28993(1.27973e+12); Du: 0(1.42622e-07) 316s\n",
      "     104430     5.7739183941e+08 Pr: 30478(5.69551e+10); Du: 0(2.14037e-07) 322s\n",
      "     106106     5.8685995747e+08 Pr: 29600(5.44172e+10); Du: 0(1.19133e-07) 327s\n",
      "     108014     5.9856834086e+08 Pr: 28284(1.31421e+11); Du: 0(3.40951e-08) 334s\n",
      "     109656     6.0512898039e+08 Pr: 23761(6.05568e+10); Du: 0(1.14963e-07) 339s\n",
      "     112147     6.1262648236e+08 Pr: 27320(5.224e+10); Du: 0(2.30817e-07) 347s\n",
      "     114041     6.1586925159e+08 Pr: 33096(1.76653e+10); Du: 0(1.89043e-07) 352s\n",
      "     115712     6.1936082433e+08 Pr: 35809(1.53792e+10); Du: 0(1.42529e-07) 357s\n",
      "     117431     6.2201715431e+08 Pr: 26284(3.09406e+10); Du: 0(1.681e-07) 363s\n",
      "     119820     6.2449114315e+08 Pr: 7659(3.36525e+07); Du: 0(3.19034e-07) 369s\n",
      "     120808     6.2464042419e+08 Pr: 0(0); Du: 0(1.43999e-09) 371s\n",
      "     120808     6.2464042419e+08 Pr: 0(0); Du: 0(1.43999e-09) 371s\n",
      "Solving the original LP from the solution after postsolve\n",
      "Using EKK dual simplex solver - serial\n",
      "  Iteration        Objective     Infeasibilities num(sum)\n",
      "     120808     6.2464042419e+08 Pr: 1(3.29316e-07); Du: 0(1.11022e-15) 372s\n",
      "     120854     6.2464042419e+08 Pr: 0(0); Du: 0(1.83187e-15) 372s\n",
      "Model   status      : Optimal\n",
      "Simplex   iterations: 120854\n",
      "Objective value     :  6.2464042419e+08\n",
      "HiGHS run time      :        372.28\n"
     ]
    },
    {
     "data": {
      "text/plain": [
       "(CAPG = [0.0, 22613.583330876034], CAPS = [-0.0, 17411.075002831512, 0.0, 0.0, -0.0, 0.0, -0.0, 0.0, 11729.00184342062, 1.990533994642598e-10, -0.0, -0.0, -0.0, -0.0], SOCM = [-0.0, 3.0817847774115177e6, -0.0, -0.0, -0.0, -0.0, -0.0, -0.0, 821362.6591920853, 2.22939807399971e-9, -0.0, -0.0, -0.0, -0.0], GEN = [0.0 0.0 … 0.0 0.0; 0.0 0.0 … 0.0 0.0], SOC = [-0.0 -0.0 … -0.0 -0.0; 1.5408923887057588e6 1.552557808957656e6 … 1.5408923887057588e6 1.5408923887057588e6; … ; -0.0 -0.0 … -0.0 -0.0; -0.0 -0.0 … -0.0 -0.0], CHARGE = [0.0 0.0 … -0.0 -0.0; 0.0 17411.075002831512 … 0.0 0.0; … ; -0.0 0.0 … 0.0 0.0; -0.0 0.0 … 0.0 0.0], DISCHARGE = [0.0 -0.0 … 0.0 0.0; 0.0 0.0 … 0.0 0.0; … ; 0.0 0.0 … 0.0 0.0; 0.0 0.0 … 0.0 0.0], NET_DISCHARGE = [0.0 -0.0 … 0.0 0.0; 0.0 -17411.075002831512 … 0.0 0.0; … ; 0.0 0.0 … 0.0 0.0; 0.0 0.0 … 0.0 0.0], CURTAIL = [-0.0 0.0 … 0.0 0.0; 0.0 0.0 … 0.0 0.0; 5983.798156579183 0.0 … 0.0 0.0], NSE = [0.0, 0.0, 0.0, 0.0, 0.0, 0.0, 0.0, 0.0, 0.0, 0.0  …  0.0, 0.0, 0.0, 0.0, 0.0, 0.0, 0.0, 0.0, 0.0, 0.0], GenInvCost = 7.914754165806612e9, StorPowInvCost = 1.3048916738727419e10, StorEnInvCost = 9.036329095465967e9, TIC = 2.9999999999999996e10, EnergyProvisionCost = 5.762975865942098e8, UnservedEnergyCost = 0.0, CurtailedVreCost = 503508.49402713607, OV = 6.24640424185882e8)"
      ]
     },
     "metadata": {},
     "output_type": "display_data"
    }
   ],
   "source": [
    "c1s2b30 = case1scheme2(vreinfo, generatorinfo, storageinfo, halfhourlydemand, halfhourlyvrecf; \n",
    "budget=30e9, voll=1e6, bigm=100e3, epsilon=0.05)"
   ]
  },
  {
   "cell_type": "code",
   "execution_count": 8,
   "metadata": {},
   "outputs": [
    {
     "name": "stdout",
     "output_type": "stream",
     "text": [
      "Running HiGHS 1.6.0: Copyright (c) 2023 HiGHS under MIT licence terms\n",
      "Presolving model\n",
      "90675 rows, 68156 cols, 272540 nonzeros\n",
      "90675 rows, 68156 cols, 272540 nonzeros\n",
      "Presolve : Reductions: rows 90675(-4376); columns 68156(-994); elements 272540(-5398)\n",
      "Solving the presolved LP\n",
      "Using EKK dual simplex solver - serial\n",
      "  Iteration        Objective     Infeasibilities num(sum)\n",
      "          0     0.0000000000e+00 Pr: 1440(3.86983e+08) 0s\n",
      "       4634     1.7675983110e+04 Pr: 15319(2.29401e+11); Du: 0(8.71912e-07) 5s\n",
      "       7649     4.4472796588e+04 Pr: 15662(4.31636e+11); Du: 0(9.84596e-07) 10s\n",
      "      10631     9.0643870048e+04 Pr: 20067(2.7671e+12); Du: 0(1.14006e-06) 16s\n",
      "      12813     1.6657033758e+05 Pr: 26287(1.36496e+12); Du: 0(1.08266e-06) 21s\n",
      "      15021     2.2090902321e+05 Pr: 25925(7.35518e+11); Du: 0(1.26111e-06) 27s\n",
      "      17288     2.6304628975e+05 Pr: 24793(7.35113e+11); Du: 0(1.20285e-06) 32s\n",
      "      19565     3.0241452151e+05 Pr: 24217(1.84696e+11); Du: 0(8.88165e-07) 37s\n",
      "      21741     3.4354626643e+05 Pr: 25321(5.95619e+11); Du: 0(8.20343e-07) 43s\n",
      "      23943     3.8709564162e+05 Pr: 23595(4.5249e+11); Du: 0(1.1379e-06) 49s\n",
      "      25879     4.2183026281e+05 Pr: 19774(7.85045e+10); Du: 0(1.4077e-06) 54s\n",
      "      28052     4.6534994124e+05 Pr: 27162(1.61355e+12); Du: 0(1.53057e-06) 60s\n",
      "      29967     5.0513907098e+05 Pr: 18092(1.40937e+12); Du: 0(1.33882e-06) 66s\n",
      "      31778     5.5643570074e+05 Pr: 26423(2.19956e+11); Du: 0(1.25228e-06) 71s\n",
      "      33632     6.1007357418e+05 Pr: 24338(3.08609e+11); Du: 0(1.21626e-06) 77s\n",
      "      35581     6.6532988108e+05 Pr: 29247(3.21533e+12); Du: 0(1.65436e-06) 83s\n",
      "      37157     6.9495945262e+05 Pr: 26835(1.3778e+12); Du: 0(1.35398e-06) 88s\n",
      "      38768     7.5100535517e+05 Pr: 29283(4.03654e+11); Du: 0(1.34276e-06) 93s\n",
      "      40306     8.1432808710e+05 Pr: 31236(2.98326e+11); Du: 0(1.11745e-06) 99s\n",
      "      41837     8.9238892191e+05 Pr: 23586(9.99624e+12); Du: 0(9.86028e-07) 105s\n",
      "      43266     1.0169058625e+06 Pr: 30682(2.10853e+12); Du: 0(1.05847e-06) 110s\n",
      "      44770     1.2114023474e+06 Pr: 33619(1.56192e+12); Du: 0(1.2952e-06) 115s\n",
      "      46473     1.4456832416e+06 Pr: 34449(1.12705e+12); Du: 0(1.40737e-06) 122s\n",
      "      47940     1.9570151720e+06 Pr: 19365(6.34713e+11); Du: 0(9.17382e-07) 127s\n",
      "      49449     2.7620648501e+06 Pr: 31436(2.37614e+12); Du: 0(1.31082e-06) 133s\n",
      "      51213     3.7383702831e+06 Pr: 30817(1.19667e+12); Du: 0(7.30232e-07) 139s\n",
      "      52775     6.5813867479e+06 Pr: 35228(3.2195e+12); Du: 0(6.01562e-07) 145s\n",
      "      54569     3.2734901449e+07 Pr: 33772(3.59672e+13); Du: 0(6.07774e-07) 151s\n",
      "      56905     7.1372118379e+07 Pr: 30014(2.5015e+12); Du: 0(7.05189e-07) 160s\n",
      "      59421     1.3762712100e+08 Pr: 34384(4.33706e+12); Du: 0(5.75961e-07) 169s\n",
      "      60919     2.7370487665e+08 Pr: 37917(7.57954e+12); Du: 0(8.13059e-07) 174s\n",
      "      62629     4.3320065430e+08 Pr: 41819(2.4237e+12); Du: 0(3.65638e-07) 180s\n",
      "      63974     5.4868692860e+08 Pr: 29775(2.90162e+12); Du: 0(2.23001e-07) 185s\n",
      "      65409     6.5818634624e+08 Pr: 38170(6.50864e+12); Du: 0(2.08195e-07) 190s\n",
      "      67242     7.2653839869e+08 Pr: 39794(1.31636e+12); Du: 0(2.45036e-07) 197s\n",
      "      69143     7.7791964126e+08 Pr: 35924(5.71088e+11); Du: 0(1.65234e-07) 204s\n",
      "      71467     8.0212646237e+08 Pr: 29155(9.56973e+12); Du: 0(2.56559e-07) 212s\n",
      "      73544     8.1650137488e+08 Pr: 34410(2.38746e+11); Du: 0(3.04664e-07) 218s\n",
      "      75251     8.4357392998e+08 Pr: 35159(4.50636e+11); Du: 0(2.87001e-07) 223s\n",
      "      77451     8.5640393560e+08 Pr: 25527(3.80836e+10); Du: 0(3.60658e-07) 230s\n",
      "      79264     8.7091192298e+08 Pr: 19644(1.9799e+10); Du: 0(1.3609e-07) 235s\n",
      "      80976     8.7614726232e+08 Pr: 33558(1.18644e+11); Du: 0(2.96208e-07) 240s\n",
      "      83389     8.8685805468e+08 Pr: 27805(1.33696e+11); Du: 0(4.40101e-07) 247s\n",
      "      85518     8.9514549962e+08 Pr: 20247(5.13811e+09); Du: 0(6.44836e-07) 254s\n",
      "      87972     9.0295698400e+08 Pr: 2401(4.1918e+08); Du: 0(5.36773e-07) 260s\n",
      "      90420     9.0778704772e+08 Pr: 0(0); Du: 0(7.66288e-07) 265s\n",
      "      90421     9.0775354455e+08 Pr: 0(0) 265s\n",
      "      90421     9.0775354455e+08 Pr: 0(0) 265s\n",
      "Solving the original LP from the solution after postsolve\n",
      "Model   status      : Optimal\n",
      "Simplex   iterations: 90421\n",
      "Objective value     :  9.0775354455e+08\n",
      "HiGHS run time      :        265.40\n"
     ]
    },
    {
     "data": {
      "text/plain": [
       "(CAPG = [16645.08900346422, 20731.0], CAPS = [-0.0, 513.5246940381862, 0.0, 0.0, 5921.275305961817, 0.0, -0.0, -0.0, -0.0, -0.0, 6008.510996535779, -0.0, -0.0, -0.0], SOCM = [-0.0, 105070.00606286977, -0.0, -0.0, 488271.92461512337, -0.0, -0.0, -0.0, -0.0, -0.0, 76750.17806844346, -0.0, -0.0, -0.0], GEN = [0.0 0.0 … 0.0 0.0; 0.0 0.0 … 0.0 0.0], SOC = [-0.0 -0.0 … 0.0 -0.0; 52535.003031434884 52879.06457644047 … 52190.9414864293 52535.003031434884; … ; -0.0 -0.0 … -0.0 -0.0; -0.0 -0.0 … -0.0 -0.0], CHARGE = [0.0 -0.0 … -0.0 -0.0; 0.0 513.5246940381862 … 202.59999999999854 513.5246940381862; … ; -0.0 -0.0 … 0.0 0.0; -0.0 -0.0 … 0.0 0.0], DISCHARGE = [0.0 0.0 … 0.0 0.0; 0.0 0.0 … 0.0 0.0; … ; 0.0 -0.0 … 0.0 0.0; 0.0 0.0 … 0.0 0.0], NET_DISCHARGE = [0.0 0.0 … 0.0 0.0; 0.0 -513.5246940381862 … -202.59999999999854 -513.5246940381862; … ; 0.0 0.0 … 0.0 0.0; 0.0 0.0 … 0.0 0.0], CURTAIL = [-0.0 -0.0 … 0.0 0.0; 0.0 0.0 … 0.0 0.0; 5783.013697502407 10632.999999999998 … 0.0 0.0], NSE = [0.0, 0.0, 0.0, 0.0, 0.0, 0.0, 0.0, 0.0, 0.0, 0.0  …  0.0, 0.0, 0.0, 0.0, 0.0, 0.0, 0.0, 0.0, 0.0, 0.0], GenInvCost = 1.0501642355675524e10, StorPowInvCost = 3.532482960144045e9, StorEnInvCost = 9.658746841804327e8, TIC = 1.5e10, EnergyProvisionCost = 8.970172590138962e8, UnservedEnergyCost = 0.0, CurtailedVreCost = 8.439493051862374e6, OV = 9.077535445453815e8)"
      ]
     },
     "metadata": {},
     "output_type": "display_data"
    }
   ],
   "source": [
    "c1s2b15 = case1scheme2(vreinfo, generatorinfo, storageinfo, halfhourlydemand, halfhourlyvrecf; \n",
    "budget=15e9, voll=1e6, bigm=100e3, epsilon=0.05)"
   ]
  },
  {
   "cell_type": "code",
   "execution_count": 9,
   "metadata": {},
   "outputs": [
    {
     "name": "stdout",
     "output_type": "stream",
     "text": [
      "Running HiGHS 1.6.0: Copyright (c) 2023 HiGHS under MIT licence terms\n",
      "Presolving model\n",
      "90675 rows, 68156 cols, 272540 nonzeros\n",
      "90675 rows, 68156 cols, 272540 nonzeros\n",
      "Presolve : Reductions: rows 90675(-4376); columns 68156(-994); elements 272540(-5398)\n",
      "Solving the presolved LP\n",
      "Using EKK dual simplex solver - serial\n",
      "  Iteration        Objective     Infeasibilities num(sum)\n",
      "          0     0.0000000000e+00 Pr: 1440(3.86983e+08) 0s\n",
      "       4408     2.3294159523e+04 Pr: 21409(5.98784e+10); Du: 0(5.0935e-07) 5s\n",
      "       7537     8.9571933909e+04 Pr: 27840(3.96836e+11); Du: 0(7.73119e-07) 10s\n",
      "      10247     1.4356765499e+05 Pr: 27189(1.68658e+11); Du: 0(5.67358e-07) 15s\n",
      "      12915     2.6172451244e+05 Pr: 25916(8.26153e+11); Du: 0(7.2771e-07) 21s\n",
      "      15403     3.8388050148e+05 Pr: 27538(2.73307e+11); Du: 0(8.78975e-07) 26s\n",
      "      17568     4.7801398024e+05 Pr: 24328(3.15065e+11); Du: 0(8.42818e-07) 32s\n",
      "      20039     5.6345022390e+05 Pr: 22150(2.19625e+11); Du: 0(9.48639e-07) 38s\n",
      "      22135     6.8442450035e+05 Pr: 24480(3.01777e+11); Du: 0(9.88123e-07) 43s\n",
      "      24406     1.0006552675e+06 Pr: 32605(1.49323e+12); Du: 0(8.4608e-07) 49s\n",
      "      26394     1.4641973798e+06 Pr: 35694(2.12691e+11); Du: 0(7.97958e-07) 55s\n",
      "      28488     1.7913272075e+06 Pr: 32655(2.35565e+11); Du: 0(9.67565e-07) 61s\n",
      "      30739     2.2028674077e+06 Pr: 32181(1.28262e+12); Du: 0(7.75982e-07) 67s\n",
      "      32523     3.0257205380e+06 Pr: 35028(1.26359e+12); Du: 0(5.70856e-07) 73s\n",
      "      34473     4.9890146950e+06 Pr: 21970(6.43608e+11); Du: 0(9.51505e-07) 79s\n",
      "      36478     7.9584768192e+06 Pr: 28229(8.99506e+12); Du: 0(6.71483e-07) 86s\n",
      "      38422     8.2565234007e+07 Pr: 37264(1.76264e+13); Du: 0(7.23614e-07) 92s\n",
      "      40588     1.5275329392e+08 Pr: 35003(2.77682e+12); Du: 0(8.00119e-07) 99s\n",
      "      42446     4.8009114332e+08 Pr: 34337(2.02336e+12); Du: 0(6.29914e-07) 104s\n",
      "      45000     8.3457877555e+08 Pr: 36399(1.00247e+13); Du: 0(7.32791e-07) 113s\n",
      "      46834     1.0408652233e+09 Pr: 36083(2.03669e+12); Du: 0(3.59404e-07) 119s\n",
      "      48297     1.1161240753e+09 Pr: 36339(3.53133e+11); Du: 0(6.07964e-07) 124s\n",
      "      50236     1.1899154936e+09 Pr: 32914(5.3176e+11); Du: 0(4.59768e-07) 130s\n",
      "      52682     1.2835113307e+09 Pr: 29768(2.04724e+12); Du: 0(2.84033e-07) 136s\n",
      "      55305     1.4787014533e+09 Pr: 25550(2.0927e+11); Du: 0(6.22888e-07) 143s\n",
      "      57873     2.9664206238e+09 Pr: 18126(1.55632e+11); Du: 0(6.04561e-07) 148s\n",
      "      61790     2.9579327246e+11 Pr: 19336(5.12788e+10); Du: 0(6.95919e-07) 153s\n",
      "      64414     2.9930996285e+11 Pr: 19518(2.20889e+11); Du: 0(5.71698e-07) 159s\n",
      "      67056     3.7768847474e+11 Pr: 18949(1.874e+11); Du: 0(4.73673e-07) 164s\n",
      "      71495     4.4908091838e+11 Pr: 12354(5.15131e+10); Du: 0(3.83588e-07) 169s\n",
      "      75744     5.4734079062e+11 Pr: 8593(3.32637e+11); Du: 0(3.7228e-07) 175s\n",
      "      81594     7.3195801607e+11 Pr: 0(0); Du: 0(4.14498e-07) 180s\n",
      "      81594     7.3195075713e+11 Pr: 0(0); Du: 0(6.02722e-09) 180s\n",
      "Solving the original LP from the solution after postsolve\n",
      "Model   status      : Optimal\n",
      "Simplex   iterations: 81594\n",
      "Objective value     :  7.3195075713e+11\n",
      "HiGHS run time      :        180.89\n"
     ]
    },
    {
     "data": {
      "text/plain": [
       "(CAPG = [25641.02564102564, 0.0], CAPS = [0.0, 0.0, 0.0, 0.0, 0.0, 0.0, 0.0, 0.0, 0.0, -0.0, -0.0, 0.0, 0.0, 0.0], SOCM = [-0.0, -0.0, 0.0, -0.0, -0.0, -0.0, -0.0, -0.0, -0.0, -0.0, -0.0, -0.0, 0.0, 0.0], GEN = [0.0 0.0 … 0.0 0.0; 0.0 0.0 … -0.0 -0.0], SOC = [-0.0 -0.0 … -0.0 -0.0; -0.0 -0.0 … -0.0 -0.0; … ; -0.0 -0.0 … -0.0 -0.0; -0.0 -0.0 … -0.0 -0.0], CHARGE = [0.0 0.0 … 0.0 0.0; 0.0 -0.0 … -0.0 -0.0; … ; -0.0 -0.0 … -0.0 -0.0; -0.0 -0.0 … -0.0 -0.0], DISCHARGE = [0.0 0.0 … 0.0 0.0; 0.0 0.0 … 0.0 0.0; … ; 0.0 0.0 … -0.0 0.0; 0.0 -0.0 … -0.0 -0.0], NET_DISCHARGE = [0.0 0.0 … 0.0 0.0; 0.0 0.0 … 0.0 0.0; … ; 0.0 0.0 … 0.0 0.0; 0.0 0.0 … 0.0 0.0], CURTAIL = [-0.0 -0.0 … -0.0 -0.0; 0.0 0.0 … 0.0 0.0; 17712.800000000003 17067.800000000003 … 202.59999999999854 1117.5999999999985], NSE = [0.0, 0.0, 0.0, 0.0, 0.0, 0.0, 0.0, 0.0, 0.0, 0.0  …  0.0, 0.0, 0.0, 0.0, 0.0, 0.0, 0.0, 0.0, 0.0, 0.0], GenInvCost = 5.0e9, StorPowInvCost = 0.0, StorEnInvCost = 0.0, TIC = 5.0e9, EnergyProvisionCost = 1.181668075e9, UnservedEnergyCost = 7.307493179487184e11, CurtailedVreCost = 1.9771103400000032e7, OV = 7.319507571271179e11)"
      ]
     },
     "metadata": {},
     "output_type": "display_data"
    }
   ],
   "source": [
    "c1s2b05 = case1scheme2(vreinfo, generatorinfo, storageinfo, halfhourlydemand, halfhourlyvrecf; \n",
    "budget=5e9, voll=1e6, bigm=100e3, epsilon=0.05)"
   ]
  },
  {
   "cell_type": "code",
   "execution_count": null,
   "metadata": {},
   "outputs": [],
   "source": []
  }
 ],
 "metadata": {
  "kernelspec": {
   "display_name": "Julia 1.9.3",
   "language": "julia",
   "name": "julia-1.9"
  },
  "language_info": {
   "file_extension": ".jl",
   "mimetype": "application/julia",
   "name": "julia",
   "version": "1.9.3"
  }
 },
 "nbformat": 4,
 "nbformat_minor": 2
}
