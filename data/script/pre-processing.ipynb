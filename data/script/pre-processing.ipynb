{
 "cells": [
  {
   "cell_type": "code",
   "execution_count": 1,
   "metadata": {},
   "outputs": [],
   "source": [
    "using DataFrames, CSV"
   ]
  },
  {
   "cell_type": "code",
   "execution_count": 2,
   "metadata": {},
   "outputs": [
    {
     "data": {
      "text/plain": [
       "7-element Vector{String}:\n",
       " \"../raw/demanddata_2015.csv\"\n",
       " \"../raw/demanddata_2016.csv\"\n",
       " \"../raw/demanddata_2017.csv\"\n",
       " \"../raw/demanddata_2018.csv\"\n",
       " \"../raw/demanddata_2019.csv\"\n",
       " \"../raw/ninja_pv_country_GB_merra-2_corrected.csv\"\n",
       " \"../raw/ninja_wind_country_GB_current-merra-2_corrected.csv\""
      ]
     },
     "metadata": {},
     "output_type": "display_data"
    }
   ],
   "source": [
    "rawdatadir = joinpath(\"..\",\"raw\")\n",
    "demanddata = Dict()\n",
    "vredata = Dict()\n",
    "readdir(rawdatadir, join=true)\n"
   ]
  },
  {
   "cell_type": "code",
   "execution_count": 3,
   "metadata": {},
   "outputs": [],
   "source": [
    "years = []\n",
    "yearlydemanddata = Dict()\n",
    "separatedvredata = Dict()\n",
    "for file in readdir(rawdatadir, join=true)\n",
    "    if occursin(\"demanddata_\", file)\n",
    "        y = parse(Int64,(split(split(file,\"_\")[2],\".\")[1]))\n",
    "        push!(years,y)\n",
    "        yearlydemanddata[y] = select!(CSV.read(file,DataFrame),1:2,4)\n",
    "    elseif occursin(\"wind\", file)\n",
    "        separatedvredata[\"wind\"] = CSV.read(file, DataFrame, header=3)\n",
    "    elseif occursin(\"pv\", file)\n",
    "        separatedvredata[\"pv\"] = CSV.read(file, DataFrame, header=3)\n",
    "    else\n",
    "        println(\"Fail to read \", file)\n",
    "    end\n",
    "end\n",
    "start_year = minimum(years)\n",
    "end_year = maximum(years);"
   ]
  },
  {
   "cell_type": "code",
   "execution_count": 4,
   "metadata": {},
   "outputs": [],
   "source": [
    "demanddata = DataFrame()\n",
    "for y in start_year:end_year\n",
    "    append!(demanddata,yearlydemanddata[y])\n",
    "end\n",
    "rename!(demanddata, :TSD => :load)\n",
    "demanddata[!,:hh] = 1:nrow(demanddata)\n",
    "select!(demanddata,\"hh\",\"load\")\n",
    "demanddata;\n"
   ]
  },
  {
   "cell_type": "code",
   "execution_count": 5,
   "metadata": {},
   "outputs": [],
   "source": [
    "pv = DataFrame()\n",
    "wind = DataFrame()\n",
    "for y in start_year:end_year\n",
    "    append!(pv, separatedvredata[\"pv\"][map(x->occursin(string(y),x),separatedvredata[\"pv\"][:,\"time\"]),:])\n",
    "    append!(wind, separatedvredata[\"wind\"][map(x->occursin(string(y),x),separatedvredata[\"wind\"][:,\"time\"]),:])\n",
    "end\n",
    "pv = pv[:,[:national]]\n",
    "rename!(pv, :national=>:cf)\n",
    "pv[!,:vre_id] .= 1\n",
    "onshore = wind[:,[:onshore]]\n",
    "rename!(onshore, :onshore=>:cf)\n",
    "onshore[!,:vre_id] .= 2\n",
    "offshore = wind[:,[:offshore]]\n",
    "rename!(offshore, :offshore=>:cf)\n",
    "offshore[!,:vre_id] .= 3\n",
    "\n",
    "function hourytohalfhourly(df)\n",
    "    df = repeat(df, inner=2)\n",
    "    df[!,:hh] = 1:nrow(df)\n",
    "    select!(df, :hh, :vre_id, :cf)\n",
    "end\n",
    "\n",
    "pv = hourytohalfhourly(pv)\n",
    "onshore = hourytohalfhourly(onshore)\n",
    "offshore = hourytohalfhourly(offshore)\n",
    "vredata = [pv;onshore;offshore];"
   ]
  },
  {
   "cell_type": "code",
   "execution_count": 6,
   "metadata": {},
   "outputs": [],
   "source": [
    "CSV.write(joinpath(\"..\",\"cleaned\",\"gbhalfhourlydemand.csv\"),demanddata)\n",
    "CSV.write(joinpath(\"..\",\"cleaned\",\"gbhalfhourlyvrecf.csv\"),vredata);"
   ]
  },
  {
   "cell_type": "code",
   "execution_count": 7,
   "metadata": {},
   "outputs": [],
   "source": []
  }
 ],
 "metadata": {
  "kernelspec": {
   "display_name": "Julia 1.9.3",
   "language": "julia",
   "name": "julia-1.9"
  },
  "language_info": {
   "file_extension": ".jl",
   "mimetype": "application/julia",
   "name": "julia",
   "version": "1.9.3"
  }
 },
 "nbformat": 4,
 "nbformat_minor": 2
}
