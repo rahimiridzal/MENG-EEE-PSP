{
 "cells": [
  {
   "cell_type": "markdown",
   "metadata": {},
   "source": [
    "# Mathematical Formulation"
   ]
  },
  {
   "cell_type": "markdown",
   "metadata": {},
   "source": [
    "$\\begin{align}\n",
    "\\min &\\sum_{t\\in T} C^{en}_t + C^{res}_t + C^{curt}_t + C^{nse}_t + C^{cd}_t \\\\\n",
    "\\\\\n",
    "\\text{where} \\\\\n",
    "&C^{en}_t = \\sum_{g\\in G} C^{G,var}_g P_{g,t} \\\\\n",
    "&C^{res}_t = \\sum_{g\\in G} C^{G,var}_g R_{g,t} \\\\\n",
    "&C^{curt}_t = \\sum_{v\\in V} C^{V,om}_v P^{curt}_{v,t} \\\\\n",
    "&C^{nse}_t = C^{VoLL} P^{nse}_t \\\\\n",
    "&C^{cd}_t = \\sum_{s\\in S} \\rho (P^{stor-}_{s,t} + P^{stor+}_{s,t})\\\\\n",
    "\\\\\n",
    "\\text{s.t.} \\\\\n",
    "& \\text{\\pounds}^{budget} \\geq \\sum_{g\\in G} C^{G,inv}_g \\overline{P_{g}} + \\sum_{s\\in S} (C^{S,Pinv}_s \\overline{P^{stor}_{s}} + C^{S,Einv}_s \\overline{S_s})\\\\\n",
    "&P^{load}_t = \\sum_{v\\in V} (\\gamma_{v,t} P^{vre}_v - P^{curt}_{v,t}) + \\sum_{g\\in G} P_{g,t} + \\sum_{s\\in S} (P^{stor-}_{s,t} - P^{stor+}_{s,t}) + P^{nse}_t \\quad &\\forall t\\in T \\\\\n",
    "&Q^{fixed} + Q^{spin}_t + Q^{flex}_t \\leq \\sum_{g\\in G} R_{g,t} + \\sum_{s\\in S} R^{stor}_{s,t} &\\forall t\\in T \\\\\n",
    "& P^{nse}_t \\geq 0 &\\forall t\\in T \\\\\n",
    "& P^{curt}_{v,t} \\leq \\gamma_{v,t} P^{vre}_v &\\forall v\\in V, t\\in T \\\\\n",
    "& \\underline{P_{g}} \\leq P_{g,t} \\leq \\overline{P_{g}} &\\forall g\\in G, t\\in T \\\\\n",
    "& \\underline{P_{g}} \\leq R_{g,t} \\leq \\overline{P_{g}} &\\forall g\\in G, t\\in T \\\\\n",
    "& \\underline{P_{g}} \\leq P_{g,t} + R_{g,t} \\leq \\overline{P_{g}} &\\forall g\\in G, t\\in T \\\\\n",
    "& \\overline{P^{stor}_{s}} \\geq P^{stor+}_{s,t} \\geq 0 &\\forall s\\in S, t\\in T \\\\\n",
    "& \\overline{P^{stor}_{s}} \\geq P^{stor-}_{s,t} \\geq 0 &\\forall s\\in S, t\\in T \\\\\n",
    "& \\overline{S_s} \\geq S_{s,t} \\geq 0 &\\forall \\in S, t\\in T\\\\\n",
    "& P_{g,t} - P_{g,t-1} \\leq \\delta^{up}_g \\overline{P_{g}} &\\forall g\\in G, t=2..|T|\\\\\n",
    "& P_{g,t-1} - P_{g,t} \\leq \\delta^{down}_g \\overline{P_{g}} &\\forall g\\in G, t=2..|T|\\\\\n",
    "& S_{s,t} = S_{s,t-1} + \\eta_s P^{stor+}_{s,t} - \\frac{1}{\\eta_s}P^{stor-}_{s,t} &\\forall s\\in S, t=2..|T| \\\\\n",
    "\\end{align}$"
   ]
  },
  {
   "cell_type": "code",
   "execution_count": null,
   "metadata": {
    "vscode": {
     "languageId": "julia"
    }
   },
   "outputs": [],
   "source": []
  },
  {
   "cell_type": "code",
   "execution_count": null,
   "metadata": {
    "vscode": {
     "languageId": "julia"
    }
   },
   "outputs": [],
   "source": []
  },
  {
   "cell_type": "markdown",
   "metadata": {},
   "source": []
  },
  {
   "cell_type": "markdown",
   "metadata": {},
   "source": []
  },
  {
   "cell_type": "code",
   "execution_count": null,
   "metadata": {
    "vscode": {
     "languageId": "julia"
    }
   },
   "outputs": [],
   "source": []
  }
 ],
 "metadata": {
  "language_info": {
   "name": "python"
  }
 },
 "nbformat": 4,
 "nbformat_minor": 2
}
