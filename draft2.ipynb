{
 "cells": [
  {
   "cell_type": "markdown",
   "metadata": {},
   "source": [
    "Assumption:\n",
    "- GB by 2035, 50GW of Offshore Wind, and 70MW of Solar\n",
    "- 14GW of Onshore Wind from today remains\n",
    "- Does not consider Nuclear in the model\n",
    "- Use historical half-hourly load (2015-2019)\n",
    "- Use historical hourly wind and solar cf (2015-2019)\n",
    "\n",
    "Goal:\n",
    "- What is the best investment decision that can be made in order to support the future VRE-based power system, given a budget?\n",
    "\n",
    "Options:\n",
    "- Budget: 5b, 10b\n",
    "- Generation technologies: gt no storage, gt and only pumped hydro, gt with all storage options (Table 1)\n",
    "- Reserve requirements: No reserve, standard reserve, vre reserve (Table 2)\n"
   ]
  },
  {
   "cell_type": "code",
   "execution_count": 64,
   "metadata": {},
   "outputs": [
    {
     "data": {
      "text/html": [
       "<div><div style = \"float: left;\"><span>10001×2 DataFrame</span></div><div style = \"float: right;\"><span style = \"font-style: italic;\">9976 rows omitted</span></div><div style = \"clear: both;\"></div></div><div class = \"data-frame\" style = \"overflow-x: scroll;\"><table class = \"data-frame\" style = \"margin-bottom: 6px;\"><thead><tr class = \"header\"><th class = \"rowNumber\" style = \"font-weight: bold; text-align: right;\">Row</th><th style = \"text-align: left;\">hh</th><th style = \"text-align: left;\">load</th></tr><tr class = \"subheader headerLastRow\"><th class = \"rowNumber\" style = \"font-weight: bold; text-align: right;\"></th><th title = \"Int64\" style = \"text-align: left;\">Int64</th><th title = \"Int64\" style = \"text-align: left;\">Int64</th></tr></thead><tbody><tr><td class = \"rowNumber\" style = \"font-weight: bold; text-align: right;\">1</td><td style = \"text-align: right;\">30000</td><td style = \"text-align: right;\">22635</td></tr><tr><td class = \"rowNumber\" style = \"font-weight: bold; text-align: right;\">2</td><td style = \"text-align: right;\">30001</td><td style = \"text-align: right;\">21974</td></tr><tr><td class = \"rowNumber\" style = \"font-weight: bold; text-align: right;\">3</td><td style = \"text-align: right;\">30002</td><td style = \"text-align: right;\">21685</td></tr><tr><td class = \"rowNumber\" style = \"font-weight: bold; text-align: right;\">4</td><td style = \"text-align: right;\">30003</td><td style = \"text-align: right;\">21147</td></tr><tr><td class = \"rowNumber\" style = \"font-weight: bold; text-align: right;\">5</td><td style = \"text-align: right;\">30004</td><td style = \"text-align: right;\">20772</td></tr><tr><td class = \"rowNumber\" style = \"font-weight: bold; text-align: right;\">6</td><td style = \"text-align: right;\">30005</td><td style = \"text-align: right;\">20869</td></tr><tr><td class = \"rowNumber\" style = \"font-weight: bold; text-align: right;\">7</td><td style = \"text-align: right;\">30006</td><td style = \"text-align: right;\">20808</td></tr><tr><td class = \"rowNumber\" style = \"font-weight: bold; text-align: right;\">8</td><td style = \"text-align: right;\">30007</td><td style = \"text-align: right;\">20619</td></tr><tr><td class = \"rowNumber\" style = \"font-weight: bold; text-align: right;\">9</td><td style = \"text-align: right;\">30008</td><td style = \"text-align: right;\">20521</td></tr><tr><td class = \"rowNumber\" style = \"font-weight: bold; text-align: right;\">10</td><td style = \"text-align: right;\">30009</td><td style = \"text-align: right;\">20965</td></tr><tr><td class = \"rowNumber\" style = \"font-weight: bold; text-align: right;\">11</td><td style = \"text-align: right;\">30010</td><td style = \"text-align: right;\">21337</td></tr><tr><td class = \"rowNumber\" style = \"font-weight: bold; text-align: right;\">12</td><td style = \"text-align: right;\">30011</td><td style = \"text-align: right;\">22223</td></tr><tr><td class = \"rowNumber\" style = \"font-weight: bold; text-align: right;\">13</td><td style = \"text-align: right;\">30012</td><td style = \"text-align: right;\">22798</td></tr><tr><td style = \"text-align: right;\">&vellip;</td><td style = \"text-align: right;\">&vellip;</td><td style = \"text-align: right;\">&vellip;</td></tr><tr><td class = \"rowNumber\" style = \"font-weight: bold; text-align: right;\">9990</td><td style = \"text-align: right;\">39989</td><td style = \"text-align: right;\">24522</td></tr><tr><td class = \"rowNumber\" style = \"font-weight: bold; text-align: right;\">9991</td><td style = \"text-align: right;\">39990</td><td style = \"text-align: right;\">24415</td></tr><tr><td class = \"rowNumber\" style = \"font-weight: bold; text-align: right;\">9992</td><td style = \"text-align: right;\">39991</td><td style = \"text-align: right;\">24323</td></tr><tr><td class = \"rowNumber\" style = \"font-weight: bold; text-align: right;\">9993</td><td style = \"text-align: right;\">39992</td><td style = \"text-align: right;\">24414</td></tr><tr><td class = \"rowNumber\" style = \"font-weight: bold; text-align: right;\">9994</td><td style = \"text-align: right;\">39993</td><td style = \"text-align: right;\">25015</td></tr><tr><td class = \"rowNumber\" style = \"font-weight: bold; text-align: right;\">9995</td><td style = \"text-align: right;\">39994</td><td style = \"text-align: right;\">25952</td></tr><tr><td class = \"rowNumber\" style = \"font-weight: bold; text-align: right;\">9996</td><td style = \"text-align: right;\">39995</td><td style = \"text-align: right;\">27215</td></tr><tr><td class = \"rowNumber\" style = \"font-weight: bold; text-align: right;\">9997</td><td style = \"text-align: right;\">39996</td><td style = \"text-align: right;\">28906</td></tr><tr><td class = \"rowNumber\" style = \"font-weight: bold; text-align: right;\">9998</td><td style = \"text-align: right;\">39997</td><td style = \"text-align: right;\">31739</td></tr><tr><td class = \"rowNumber\" style = \"font-weight: bold; text-align: right;\">9999</td><td style = \"text-align: right;\">39998</td><td style = \"text-align: right;\">33399</td></tr><tr><td class = \"rowNumber\" style = \"font-weight: bold; text-align: right;\">10000</td><td style = \"text-align: right;\">39999</td><td style = \"text-align: right;\">34555</td></tr><tr><td class = \"rowNumber\" style = \"font-weight: bold; text-align: right;\">10001</td><td style = \"text-align: right;\">40000</td><td style = \"text-align: right;\">34581</td></tr></tbody></table></div>"
      ],
      "text/latex": [
       "\\begin{tabular}{r|cc}\n",
       "\t& hh & load\\\\\n",
       "\t\\hline\n",
       "\t& Int64 & Int64\\\\\n",
       "\t\\hline\n",
       "\t1 & 30000 & 22635 \\\\\n",
       "\t2 & 30001 & 21974 \\\\\n",
       "\t3 & 30002 & 21685 \\\\\n",
       "\t4 & 30003 & 21147 \\\\\n",
       "\t5 & 30004 & 20772 \\\\\n",
       "\t6 & 30005 & 20869 \\\\\n",
       "\t7 & 30006 & 20808 \\\\\n",
       "\t8 & 30007 & 20619 \\\\\n",
       "\t9 & 30008 & 20521 \\\\\n",
       "\t10 & 30009 & 20965 \\\\\n",
       "\t11 & 30010 & 21337 \\\\\n",
       "\t12 & 30011 & 22223 \\\\\n",
       "\t13 & 30012 & 22798 \\\\\n",
       "\t14 & 30013 & 23750 \\\\\n",
       "\t15 & 30014 & 25371 \\\\\n",
       "\t16 & 30015 & 27028 \\\\\n",
       "\t17 & 30016 & 28299 \\\\\n",
       "\t18 & 30017 & 29244 \\\\\n",
       "\t19 & 30018 & 29528 \\\\\n",
       "\t20 & 30019 & 29514 \\\\\n",
       "\t21 & 30020 & 29403 \\\\\n",
       "\t22 & 30021 & 29173 \\\\\n",
       "\t23 & 30022 & 28868 \\\\\n",
       "\t24 & 30023 & 28500 \\\\\n",
       "\t$\\dots$ & $\\dots$ & $\\dots$ \\\\\n",
       "\\end{tabular}\n"
      ],
      "text/plain": [
       "\u001b[1m10001×2 DataFrame\u001b[0m\n",
       "\u001b[1m   Row \u001b[0m│\u001b[1m hh    \u001b[0m\u001b[1m load  \u001b[0m\n",
       "       │\u001b[90m Int64 \u001b[0m\u001b[90m Int64 \u001b[0m\n",
       "───────┼──────────────\n",
       "     1 │ 30000  22635\n",
       "     2 │ 30001  21974\n",
       "     3 │ 30002  21685\n",
       "     4 │ 30003  21147\n",
       "     5 │ 30004  20772\n",
       "     6 │ 30005  20869\n",
       "     7 │ 30006  20808\n",
       "     8 │ 30007  20619\n",
       "   ⋮   │   ⋮      ⋮\n",
       "  9995 │ 39994  25952\n",
       "  9996 │ 39995  27215\n",
       "  9997 │ 39996  28906\n",
       "  9998 │ 39997  31739\n",
       "  9999 │ 39998  33399\n",
       " 10000 │ 39999  34555\n",
       " 10001 │ 40000  34581\n",
       "\u001b[36m     9986 rows omitted\u001b[0m"
      ]
     },
     "metadata": {},
     "output_type": "display_data"
    }
   ],
   "source": [
    "using CSV, DataFrames, JuMP, HiGHS, SCIP, Clp\n",
    "\n",
    "storageinfo = CSV.read(joinpath(\"cleaned\",\"storageinfo.csv\"), DataFrame)\n",
    "generatorinfo = CSV.read(joinpath(\"cleaned\",\"generatorinfo.csv\"), DataFrame)\n",
    "vreinfo = CSV.read(joinpath(\"cleaned\",\"vreinfo.csv\"), DataFrame)\n",
    "halfhourlydemand = CSV.read(joinpath(\"cleaned\",\"halfhourlydemand.csv\"), DataFrame)\n",
    "halfhourlyvrecf = CSV.read(joinpath(\"cleaned\",\"halfhourlyvrecf.csv\"), DataFrame)\n",
    "halfhourlydemand = halfhourlydemand[30000:30000+10000,:]"
   ]
  },
  {
   "cell_type": "code",
   "execution_count": 65,
   "metadata": {},
   "outputs": [
    {
     "data": {
      "text/plain": [
       "planning_model (generic function with 1 method)"
      ]
     },
     "metadata": {},
     "output_type": "display_data"
    }
   ],
   "source": [
    "function planning_model(vreinfo, generatorinfo, storageinfo, halfhourlydemand, halfhourlyvrecf; \n",
    "    budget, voll, curtailpenalty, bigm, epsilon)\n",
    "\n",
    "    # SETS\n",
    "    V = vreinfo.id\n",
    "    G = generatorinfo.id\n",
    "    S = storageinfo.id\n",
    "    T = halfhourlydemand.hh\n",
    "    T1 = T[2:end]\n",
    "\n",
    "    # INITIATE MODEL\n",
    "    model = Model()\n",
    "    set_optimizer(model, HiGHS.Optimizer)\n",
    "    # set_optimizer_attribute(model, \"mip_rel_gap\", epsilon)\n",
    "    # set_optimizer(model, SCIP.Optimizer)\n",
    "    # set_attribute(model, \"display/verblevel\", 0)\n",
    "    # set_attribute(model, \"limits/gap\", epsilon)\n",
    "\n",
    "    # DECISION VARIABLES\n",
    "    @variables(model, begin\n",
    "        CAPG[G] >= 0\n",
    "        CAPS[S] >= 0\n",
    "        SOCM[S] >= 0\n",
    "        GEN[G,T] >= 0\n",
    "        R_GEN[G,T] >= 0\n",
    "        SOC[S,T] >= 0\n",
    "        CHARGE[S,T] >= 0\n",
    "        DISCHARGE[S,T] >= 0\n",
    "        R_DISCHARGE[S,T] >= 0\n",
    "        CURTAIL[V,T] >= 0\n",
    "        NSE[T] >= 0\n",
    "        # CAPG_COMMIT[G,T] >= 0\n",
    "        # COMMIT[G,T], Bin\n",
    "        # START[G,T], Bin\n",
    "        # SHUT[G,T], Bin\n",
    "        # CSTATE[S,T], Bin\n",
    "        # DSTATE[S,T], Bin\n",
    "        # CAPS_CSTATE[S,T] >= 0\n",
    "        # CAPS_DSTATE[S,T] >= 0\n",
    "        # STATE[S,T], Bin\n",
    "    end)\n",
    "\n",
    "    # BUDGET CONSTRAINT\n",
    "    @expression(model, GenInvCost, sum(generatorinfo[generatorinfo.id.==g,:fixedCost][1] * CAPG[g] for g in G))\n",
    "    @expression(model, StorPowInvCost, sum(0.85e3 * storageinfo[storageinfo.id.==s,:powerCost][1] * CAPS[s] for s in S))\n",
    "    @expression(model, StorEnInvCost, sum(0.85e3 * storageinfo[storageinfo.id.==s,:energyCost][1] * SOCM[s] for s in S))\n",
    "    @expression(model, TIC, GenInvCost + StorPowInvCost + StorEnInvCost)\n",
    "    @constraint(model, cBudget, TIC <= budget)\n",
    "\n",
    "    # OBJECTIVE FUNCTION\n",
    "    @expression(model, EnergyProvisionCost, \n",
    "        sum(0.5 * generatorinfo[generatorinfo.id.==g,:varCost][1] * GEN[g,t] for g in G for t in T))\n",
    "    @expression(model, ReserveProvisionCost,\n",
    "        sum(0.5 * generatorinfo[generatorinfo.id.==g,:varCost][1] * R_GEN[g,t] for g in G for t in T))\n",
    "    @expression(model, UnservedEnergyCost, \n",
    "        sum(0.5 * voll * NSE[t] for t in T))\n",
    "    @expression(model, CurtailedVreCost,\n",
    "        sum(0.5 * curtailpenalty * CURTAIL[v,t] for v in V for t in T))\n",
    "    @expression(model, PenaltyChargeDischarge, 10 * sum(CHARGE[g,t] + DISCHARGE[g,t] for g in G for t in T))\n",
    "    @objective(model, Min, EnergyProvisionCost + ReserveProvisionCost + UnservedEnergyCost + CurtailedVreCost + PenaltyChargeDischarge)\n",
    "\n",
    "    # POWER BALANCE CONSTRAINT\n",
    "    @constraint(model, c01[t in T], sum(GEN[g,t] for g in G) + NSE[t] - sum(CURTAIL[v,t] for v in V) +\n",
    "        sum(vreinfo[vreinfo.id.==v,:installedMW][1] * \n",
    "        halfhourlyvrecf[(halfhourlyvrecf.hh.==t) .& (halfhourlyvrecf.vre_id.==v),:cf][1] for v in V) +\n",
    "        sum(DISCHARGE[s,t] for s in S) - sum(CHARGE[s,t] for s in S) == \n",
    "        halfhourlydemand[halfhourlydemand.hh.==t,:load][1])\n",
    "    \n",
    "    # GENERATOR LIMIT CONSTRAINT\n",
    "    # @constraint(model, c02[g in G, t in T], CAPG_COMMIT[g,t] <= bigm * COMMIT[g,t])\n",
    "    # @constraint(model, c03[g in G, t in T], CAPG_COMMIT[g,t] <= CAPG[g])\n",
    "    # @constraint(model, c04[g in G, t in T], CAPG_COMMIT[g,t] >= CAPG[g] - (1- COMMIT[g,t]) * bigm)\n",
    "    # @constraint(model, c05[g in G, t in T], GEN[g,t] + R_GEN[g,t] <= CAPG_COMMIT[g,t])\n",
    "    # @constraint(model, c06[g in G, t in T], \n",
    "    #     GEN[g,t] >= generatorinfo[generatorinfo.id.==g,:minPrate][1] * CAPG_COMMIT[g,t])\n",
    "    # @constraint(model, c46[g in G, t in T], \n",
    "    #     GEN[g,t] + R_GEN[g,t] >= generatorinfo[generatorinfo.id.==g,:minPrate][1] * CAPG_COMMIT[g,t])\n",
    "    @constraint(model, c90[g in G, t in T], GEN[g,t] + R_GEN[g,t] <= CAPG[g])\n",
    "    # @constraint(model, c91[g in G, t in T], GEN[g,t] >= generatorinfo[generatorinfo.id.==g,:minPrate][1] * CAPG[g])\n",
    "\n",
    "    # # GENERATOR START CONSTRAINT\n",
    "    # @constraint(model, c07[g in G, t in T], \n",
    "    #     COMMIT[g,t] >= sum(START[g,i] for i in max(1,t-generatorinfo[generatorinfo.id.==g,:minupTime][1]):t))\n",
    "    \n",
    "    # # GENERATOR SHUT CONSTRAINT\n",
    "    # @constraint(model, c08[g in G, t in T], \n",
    "    #     1 - COMMIT[g,t] >= sum(SHUT[g,i] for i in max(1,t-generatorinfo[generatorinfo.id.==g,:mindownTime][1]):t))\n",
    "    \n",
    "    # # GENERATOR COMMIT CONSTRAINT\n",
    "    # @constraint(model, c09[g in G, t in T1], COMMIT[g,t] - COMMIT[g,t-1] == START[g,t] - SHUT[g,t])\n",
    "    # @constraint(model, c10[g in G, t in T], COMMIT[g,t] <= sum(START[g,i] for i in minimum(T):t))\n",
    "\n",
    "    # GENERATOR RAMP UP CONSTRAINT\n",
    "    @constraint(model, c11[g in G, t in T1], \n",
    "        GEN[g,t] - GEN[g,t-1] <= generatorinfo[generatorinfo.id.==g,:rampupRate][1] * CAPG[g])\n",
    "    \n",
    "    # GENERATOR RAMP DOWN CONSTRAINT\n",
    "    @constraint(model, c12[g in G, t in T1],\n",
    "        GEN[g,t-1] - GEN[g,t] <= generatorinfo[generatorinfo.id.==g,:rampdownRate][1] * CAPG[g])\n",
    "    \n",
    "    # VRE CURTAIL CONSTRAINT\n",
    "    @constraint(model, c13[v in V, t in T], CURTAIL[v,t] <= \n",
    "        vreinfo[vreinfo.id.==v,:installedMW][1] * \n",
    "        halfhourlyvrecf[(halfhourlyvrecf.hh.==t) .& (halfhourlyvrecf.vre_id.==v),:cf][1])\n",
    "    \n",
    "    # STORAGE CHARGE LIMIT CONSTRAINT\n",
    "    # @constraint(model, c25[s in S, t in T], CAPS_CSTATE[s,t] <= bigm * CSTATE[s,t])\n",
    "    # @constraint(model, c26[s in S, t in T], CAPS_CSTATE[s,t] <= CAPS[s])\n",
    "    # @constraint(model, c27[s in S, t in T], CAPS_CSTATE[s,t] >= CAPS[s] - (1- CSTATE[s,t]) * bigm)\n",
    "    # @constraint(model, c28[s in S, t in T], CHARGE[s,t] <= CAPS_CSTATE[s,t])\n",
    "    # @constraint(model, c29[s in S], CSTATE[s,1] == 0)\n",
    "    @constraint(model, c92[s in S, t in T], CHARGE[s,t] <= CAPS[s])\n",
    "\n",
    "    # STORAGE DISCHARGE LIMIT CONSTRAINT\n",
    "    # @constraint(model, c30[s in S, t in T], CAPS_DSTATE[s,t] <= bigm * DSTATE[s,t])\n",
    "    # @constraint(model, c31[s in S, t in T], CAPS_DSTATE[s,t] <= CAPS[s])\n",
    "    # @constraint(model, c32[s in S, t in T], CAPS_DSTATE[s,t] >= CAPS[s] - (1- DSTATE[s,t]) * bigm)\n",
    "    # @constraint(model, c33[s in S, t in T], DISCHARGE[s,t] + R_DISCHARGE[s,t] <= CAPS_DSTATE[s,t])\n",
    "    # @constraint(model, c34[s in S], DSTATE[s,1] == 0)\n",
    "    @constraint(model, c93[s in S, t in T], DISCHARGE[s,t] + R_DISCHARGE[s,t] <= CAPS[s])\n",
    "\n",
    "    # STORAGE STATE CONSTRAINT\n",
    "    # @constraint(model, c36[s in S, t in T], CSTATE[s,t] + DSTATE[s,t] <= 1)\n",
    "    \n",
    "    # STORAGE SOC LIMIT CONSTRAINT\n",
    "    @constraint(model, c19[s in S, t in T], SOC[s,t] <= SOCM[s])\n",
    "    @constraint(model, c20[s in S], SOC[s,minimum(T)] == 0.5 * SOCM[s])\n",
    "    @constraint(model, c21[s in S], SOC[s,maximum(T)] == 0.5 * SOCM[s])\n",
    "\n",
    "    # STORAGE SOC UPDATE CONSTRAINT\n",
    "    @constraint(model, c22[s in S, t in T1], SOC[s,t] == SOC[s,t-1] + \n",
    "        (CHARGE[s,t] * storageinfo[storageinfo.id.==s,:eff][1]) - \n",
    "        (DISCHARGE[s,t] / storageinfo[storageinfo.id.==s,:eff][1]))\n",
    "    @constraint(model, c23[s in S, t in T], R_DISCHARGE[s,t] <= SOC[s,t])\n",
    "\n",
    "    # VRE RESERVE REQUIREMENT CONSTRAINT\n",
    "    @constraint(model, c24[t in T], \n",
    "        sum(R_GEN[g,t] for g in G) + sum(R_DISCHARGE[s,t] for s in S) >= \n",
    "        0.1 * halfhourlydemand[halfhourlydemand.hh.==t,:load][1])\n",
    "\n",
    "    # # CHARGE DISCHARGE\n",
    "    # @constraint(model, c43[s in S, t in T],\n",
    "    #     CHARGE[s,t] - STATE[s,t] * bigm <= 0)\n",
    "    # @constraint(model, c44[s in S, t in T],\n",
    "    #     DISCHARGE[s,t] + STATE[s,t] * bigm <= bigm)\n",
    "\n",
    "    optimize!(model)\n",
    "\n",
    "    return(\n",
    "        CAPG = value.(CAPG).data,\n",
    "        CAPS = value.(CAPS).data,\n",
    "        SOCM = value.(SOCM).data,\n",
    "        GEN = value.(GEN).data,\n",
    "        R_GEN = value.(R_GEN).data,\n",
    "        SOC = value.(SOC).data,\n",
    "        CHARGE = value.(CHARGE).data,\n",
    "        DISCHARGE = value.(DISCHARGE).data,\n",
    "        R_DISCHARGE = value.(R_DISCHARGE).data,\n",
    "        NET_DISCHARGE = value.(DISCHARGE).data .- value.(CHARGE).data,\n",
    "        CURTAIL = value.(CURTAIL).data,\n",
    "        NSE = value.(NSE).data,\n",
    "        # CAPG_COMMIT = value.(CAPG_COMMIT).data,\n",
    "        # COMMIT = value.(COMMIT).data,\n",
    "        # START = value.(START).data,\n",
    "        # SHUT = value.(SHUT).data,\n",
    "        # CSTATE = value.(CSTATE).data,\n",
    "        # DSTATE = value.(DSTATE).data,\n",
    "        GenInvCost = value(GenInvCost),\n",
    "        StorPowInvCost = value(StorPowInvCost),\n",
    "        StorEnInvCost = value(StorEnInvCost),\n",
    "        TIC = value(TIC),\n",
    "        EnergyProvisionCost = value(EnergyProvisionCost),\n",
    "        ReserveProvisionCost = value(ReserveProvisionCost),\n",
    "        UnservedEnergyCost = value(UnservedEnergyCost),\n",
    "        CurtailedVreCost = value(CurtailedVreCost),\n",
    "        OV = objective_value(model),\n",
    "    )\n",
    "end"
   ]
  },
  {
   "cell_type": "code",
   "execution_count": 66,
   "metadata": {},
   "outputs": [
    {
     "name": "stdout",
     "output_type": "stream",
     "text": [
      "Running HiGHS 1.6.0: Copyright (c) 2023 HiGHS under MIT licence terms\n",
      "Presolving model\n",
      "780033 rows, 634167 cols, 2494257 nonzeros\n",
      "670764 rows, 524898 cols, 2967376 nonzeros\n",
      "670764 rows, 510795 cols, 2953273 nonzeros\n",
      "Presolve : Reductions: rows 670764(-139328); columns 510795(-129299); elements 2953273(+423002)\n",
      "Solving the presolved LP\n",
      "Using EKK dual simplex solver - serial\n",
      "  Iteration        Objective     Infeasibilities num(sum)\n",
      "          0     0.0000000000e+00 Pr: 20002(1.0943e+10) 3s\n",
      "       1431     1.5754095421e+04 Pr: 70842(8.58589e+12); Du: 0(3.0512e-07) 9s\n",
      "       2557     3.9431563269e+04 Pr: 61531(1.56101e+12); Du: 0(2.88783e-07) 17s\n",
      "       3345     5.6145406874e+04 Pr: 151569(9.64703e+12); Du: 0(1.99059e-07) 23s\n",
      "       4105     7.1239034053e+04 Pr: 102454(6.34291e+12); Du: 0(3.65389e-07) 29s\n",
      "       4906     8.7974981592e+04 Pr: 102609(6.43339e+12); Du: 0(4.81091e-07) 35s\n",
      "       5733     1.0328916101e+05 Pr: 92731(1.56815e+13); Du: 0(4.06901e-07) 42s\n",
      "       6485     1.1650273853e+05 Pr: 112820(6.63618e+12); Du: 0(5.53055e-07) 48s\n",
      "       7275     1.3068027392e+05 Pr: 103406(4.46462e+13); Du: 0(5.95248e-07) 55s\n",
      "       8081     1.4627220547e+05 Pr: 113479(5.84413e+13); Du: 0(9.16873e-07) 62s\n",
      "       8835     1.6297841840e+05 Pr: 133592(2.06948e+13); Du: 0(1.24077e-06) 68s\n",
      "       9616     1.8108518445e+05 Pr: 143639(7.60164e+12); Du: 0(1.08899e-06) 76s\n",
      "      10421     2.0607688323e+05 Pr: 144897(2.41287e+13); Du: 0(1.00671e-06) 83s\n",
      "      11317     2.3831435830e+05 Pr: 114835(1.06353e+13); Du: 0(1.17682e-06) 91s\n",
      "      12189     2.6853432328e+05 Pr: 77124(2.38984e+13); Du: 0(1.03849e-06) 99s\n",
      "      13095     3.0128540771e+05 Pr: 116074(1.50032e+13); Du: 0(9.85315e-07) 107s\n",
      "      13862     3.2695130154e+05 Pr: 95739(4.77147e+13); Du: 0(1.22119e-06) 114s\n",
      "      14670     3.5082322773e+05 Pr: 125813(1.67909e+13); Du: 0(1.43718e-06) 122s\n",
      "      15457     3.7686137857e+05 Pr: 116575(1.3578e+13); Du: 0(1.33968e-06) 130s\n",
      "      16333     4.0715328880e+05 Pr: 107360(2.36635e+13); Du: 0(1.33486e-06) 138s\n",
      "      17185     4.4478090162e+05 Pr: 136927(1.23688e+13); Du: 0(1.20867e-06) 146s\n",
      "      18044     4.8734616463e+05 Pr: 116314(1.08533e+13); Du: 0(1.43269e-06) 155s\n",
      "      18834     5.1996840851e+05 Pr: 127287(3.17477e+13); Du: 0(1.3612e-06) 163s\n",
      "      19654     5.5935869157e+05 Pr: 99178(2.12664e+12); Du: 0(1.28152e-06) 172s\n",
      "      20138     5.8694631897e+05 Pr: 118304(2.74554e+12); Du: 0(2.09722e-06) 177s\n",
      "      20652     6.1776727326e+05 Pr: 88647(4.44415e+12); Du: 0(1.81028e-06) 182s\n",
      "      21584     6.6479620565e+05 Pr: 119891(2.28095e+13); Du: 0(1.64899e-06) 191s\n",
      "      22488     7.1169274838e+05 Pr: 89652(2.16593e+12); Du: 0(2.21191e-06) 200s\n",
      "      22999     7.3870029518e+05 Pr: 109606(7.4063e+12); Du: 0(2.07307e-06) 205s\n",
      "      23814     8.0611662843e+05 Pr: 81244(4.4519e+12); Du: 0(1.52863e-06) 214s\n",
      "      24681     8.6799448310e+05 Pr: 100417(3.7706e+13); Du: 0(1.62243e-06) 223s\n",
      "      25546     9.2818326015e+05 Pr: 120439(1.11756e+13); Du: 0(1.38961e-06) 232s\n",
      "      26421     9.9844654414e+05 Pr: 109632(8.02154e+13); Du: 0(1.2266e-06) 242s\n",
      "      26869     1.0449167845e+06 Pr: 138063(1.2727e+13); Du: 0(1.28058e-06) 247s\n",
      "      27376     1.0895998990e+06 Pr: 110404(7.29079e+12); Du: 0(1.00763e-06) 252s\n",
      "      27960     1.1596525411e+06 Pr: 109322(5.62029e+12); Du: 0(1.30408e-06) 258s\n",
      "      28454     1.2503970095e+06 Pr: 109471(6.06801e+12); Du: 0(1.29179e-06) 263s\n",
      "      29447     1.4161713530e+06 Pr: 119004(7.08926e+12); Du: 0(1.0808e-06) 273s\n",
      "      30446     1.5474187430e+06 Pr: 152166(1.73477e+13); Du: 0(1.30231e-06) 284s\n",
      "      30962     1.6023728305e+06 Pr: 91158(3.19009e+13); Du: 0(1.26496e-06) 289s\n",
      "      31472     1.6417025662e+06 Pr: 159888(1.17393e+13); Du: 0(1.06301e-06) 295s\n",
      "      31965     1.6868971386e+06 Pr: 150455(7.3314e+12); Du: 0(9.37961e-07) 300s\n",
      "      32485     1.7367687407e+06 Pr: 160859(1.52242e+13); Du: 0(1.07299e-06) 305s\n",
      "      32981     1.7919458704e+06 Pr: 110769(1.77155e+13); Du: 0(1.32728e-06) 311s\n",
      "      33497     1.8613222067e+06 Pr: 161791(2.48517e+13); Du: 0(1.55949e-06) 316s\n",
      "      34031     1.9332507976e+06 Pr: 130263(3.56126e+13); Du: 0(1.95578e-06) 322s\n",
      "      34522     1.9841683156e+06 Pr: 153022(3.80922e+13); Du: 0(1.64523e-06) 327s\n",
      "      35019     2.0334358739e+06 Pr: 132136(1.11639e+13); Du: 0(1.87229e-06) 333s\n",
      "      35956     2.1317713058e+06 Pr: 114197(2.50633e+13); Du: 0(2.2354e-06) 342s\n",
      "      36461     2.1850886597e+06 Pr: 124440(9.60414e+12); Du: 0(1.72944e-06) 348s\n",
      "      36977     2.2689134994e+06 Pr: 105079(1.26851e+14); Du: 0(1.86678e-06) 354s\n",
      "      37499     2.3936007735e+06 Pr: 113781(1.34697e+13); Du: 0(1.81513e-06) 359s\n",
      "      37981     2.5044530472e+06 Pr: 104711(1.47813e+13); Du: 0(1.64464e-06) 365s\n",
      "      38510     2.6161325700e+06 Pr: 150913(1.98413e+13); Du: 0(1.76284e-06) 370s\n",
      "      38939     2.6702069202e+06 Pr: 135065(7.52018e+13); Du: 0(1.98232e-06) 376s\n",
      "      39409     2.7371380233e+06 Pr: 170492(1.40298e+13); Du: 0(2.33132e-06) 382s\n",
      "      39847     2.7869605213e+06 Pr: 141795(8.05753e+12); Du: 0(2.06068e-06) 387s\n",
      "      40271     2.8354883700e+06 Pr: 132861(3.57136e+13); Du: 0(2.25807e-06) 393s\n",
      "      40741     2.8753563598e+06 Pr: 125742(1.3968e+13); Du: 0(2.68109e-06) 398s\n",
      "      41195     2.9076484971e+06 Pr: 106293(2.12964e+13); Du: 0(2.33089e-06) 404s\n",
      "      41660     2.9413312341e+06 Pr: 116172(2.1368e+13); Du: 0(2.28863e-06) 409s\n",
      "      42118     2.9687429638e+06 Pr: 98153(1.96865e+13); Du: 0(2.55694e-06) 414s\n",
      "      42595     3.0116072059e+06 Pr: 124513(3.75893e+13); Du: 0(2.79616e-06) 419s\n",
      "      43045     3.0507814356e+06 Pr: 126270(1.38752e+13); Du: 0(2.55879e-06) 424s\n",
      "      43567     3.0970244638e+06 Pr: 124570(2.84056e+13); Du: 0(2.71616e-06) 430s\n",
      "      44020     3.1306944258e+06 Pr: 144721(3.81801e+13); Du: 0(2.76652e-06) 436s\n",
      "      44477     3.1675470892e+06 Pr: 117097(4.42576e+13); Du: 0(2.76214e-06) 442s\n",
      "      45008     3.2123021202e+06 Pr: 125833(3.29682e+13); Du: 0(2.38862e-06) 448s\n",
      "      46052     3.2968235362e+06 Pr: 97492(1.66552e+13); Du: 0(2.72283e-06) 456s\n",
      "      47147     3.3961146672e+06 Pr: 107101(4.2277e+13); Du: 0(2.95474e-06) 465s\n",
      "      48139     3.5021479661e+06 Pr: 155982(4.0689e+13); Du: 0(2.95937e-06) 474s\n",
      "      49140     3.5944060693e+06 Pr: 116835(2.17017e+13); Du: 0(3.16165e-06) 483s\n",
      "      50302     3.6926762237e+06 Pr: 127587(2.09274e+13); Du: 0(3.22971e-06) 493s\n",
      "      50851     3.7399453078e+06 Pr: 120071(1.09994e+13); Du: 0(3.44404e-06) 498s\n",
      "      51891     3.8548072218e+06 Pr: 119290(1.05818e+13); Du: 0(3.69265e-06) 507s\n",
      "      52879     3.9755820976e+06 Pr: 129466(2.52371e+13); Du: 0(3.77517e-06) 516s\n",
      "      53869     4.1009311568e+06 Pr: 137554(6.04449e+13); Du: 0(3.9069e-06) 524s\n",
      "      54841     4.2221043209e+06 Pr: 156808(5.0566e+13); Du: 0(4.0978e-06) 533s\n",
      "      55813     4.3403368165e+06 Pr: 146451(2.87019e+13); Du: 0(3.85624e-06) 542s\n",
      "      56869     4.4537849635e+06 Pr: 157430(7.62051e+13); Du: 0(3.31211e-06) 552s\n",
      "      57977     4.5843884864e+06 Pr: 139246(7.69896e+13); Du: 0(3.4912e-06) 562s\n",
      "      58918     4.6759349281e+06 Pr: 120963(7.17861e+13); Du: 0(3.51656e-06) 571s\n",
      "      59879     4.7722383251e+06 Pr: 96310(2.88169e+13); Du: 0(3.44582e-06) 580s\n",
      "      60876     4.8844702718e+06 Pr: 121105(1.68848e+13); Du: 0(3.30285e-06) 589s\n",
      "      61860     4.9966259487e+06 Pr: 129342(1.93204e+13); Du: 0(3.52638e-06) 598s\n",
      "      62830     5.0852203641e+06 Pr: 139616(2.49258e+13); Du: 0(3.44758e-06) 607s\n",
      "      63808     5.1925870880e+06 Pr: 113530(6.21214e+13); Du: 0(3.75046e-06) 616s\n",
      "      64422     5.2617682701e+06 Pr: 139816(2.67411e+13); Du: 0(4.05769e-06) 621s\n",
      "      65322     5.3791522325e+06 Pr: 152434(2.55298e+13); Du: 0(3.62341e-06) 629s\n",
      "      66308     5.5033256298e+06 Pr: 122952(2.6371e+13); Du: 0(3.50577e-06) 639s\n",
      "      67310     5.6276061034e+06 Pr: 144592(1.67382e+14); Du: 0(3.60613e-06) 648s\n",
      "      67851     5.6856643994e+06 Pr: 133196(2.97122e+13); Du: 0(3.99586e-06) 654s\n",
      "      68827     5.7763978413e+06 Pr: 134279(3.56902e+13); Du: 0(3.89114e-06) 663s\n",
      "      69344     5.8259726395e+06 Pr: 151935(1.56531e+13); Du: 0(3.7631e-06) 668s\n",
      "      70327     5.9409984549e+06 Pr: 115932(6.09511e+13); Du: 0(4.1866e-06) 678s\n",
      "      70898     6.0154542847e+06 Pr: 133662(1.54074e+13); Du: 0(4.02243e-06) 683s\n",
      "      71922     6.1387679658e+06 Pr: 108169(1.94257e+13); Du: 0(4.4342e-06) 693s\n",
      "      73013     6.2644321574e+06 Pr: 108884(1.82213e+13); Du: 0(4.29433e-06) 703s\n",
      "      74027     6.3781800965e+06 Pr: 127698(2.65927e+13); Du: 0(4.11833e-06) 714s\n",
      "      75130     6.5176583560e+06 Pr: 119414(7.28875e+13); Du: 0(4.28894e-06) 725s\n",
      "      75729     6.5806535938e+06 Pr: 127503(4.17034e+13); Du: 0(4.08192e-06) 731s\n",
      "      76246     6.6349942939e+06 Pr: 126261(3.79346e+13); Du: 0(4.27534e-06) 737s\n",
      "      76855     6.6938947908e+06 Pr: 154090(3.62175e+13); Du: 0(4.44735e-06) 743s\n",
      "      77460     6.7481453335e+06 Pr: 128785(2.15153e+13); Du: 0(5.00497e-06) 750s\n",
      "      77990     6.8019162771e+06 Pr: 154588(2.61307e+13); Du: 0(5.04019e-06) 755s\n",
      "      78542     6.8681341708e+06 Pr: 109882(1.23664e+14); Du: 0(5.36741e-06) 761s\n",
      "      79091     6.9319994328e+06 Pr: 119568(9.09096e+13); Du: 0(4.83659e-06) 767s\n",
      "      79632     6.9986533267e+06 Pr: 136012(3.76038e+13); Du: 0(4.80343e-06) 772s\n",
      "      80168     7.0686221677e+06 Pr: 106754(7.51109e+13); Du: 0(4.69599e-06) 778s\n",
      "      80777     7.1787343569e+06 Pr: 172895(3.22981e+13); Du: 0(4.58905e-06) 785s\n",
      "      81353     7.2637858166e+06 Pr: 146410(7.21974e+13); Du: 0(5.19613e-06) 791s\n",
      "      81947     7.3466466165e+06 Pr: 120432(1.00277e+14); Du: 0(4.94138e-06) 797s\n",
      "      82508     7.4256452676e+06 Pr: 158663(4.04788e+13); Du: 0(5.00709e-06) 803s\n",
      "      83070     7.5069240169e+06 Pr: 137448(6.0493e+13); Du: 0(4.67834e-06) 810s\n",
      "      83609     7.6261739974e+06 Pr: 129239(5.48823e+13); Du: 0(5.11737e-06) 815s\n",
      "      84167     7.7501417519e+06 Pr: 109883(1.68522e+13); Du: 0(4.83461e-06) 821s\n",
      "      84756     7.8661602008e+06 Pr: 125976(1.38762e+13); Du: 0(5.01e-06) 827s\n",
      "      85327     7.9605108512e+06 Pr: 139467(6.80503e+13); Du: 0(5.10293e-06) 834s\n",
      "      85900     8.0593396900e+06 Pr: 137674(6.27739e+13); Du: 0(5.07146e-06) 840s\n",
      "      86499     8.1488648773e+06 Pr: 139898(5.59744e+13); Du: 0(5.26253e-06) 847s\n",
      "      87119     8.2254161071e+06 Pr: 149589(1.95034e+13); Du: 0(4.88676e-06) 855s\n",
      "      87743     8.3445616993e+06 Pr: 94046(7.25528e+13); Du: 0(4.97905e-06) 861s\n",
      "      88314     8.4653304875e+06 Pr: 113657(6.81926e+13); Du: 0(5.52608e-06) 867s\n",
      "      88890     8.6344110571e+06 Pr: 131552(6.73138e+13); Du: 0(5.32672e-06) 874s\n",
      "      89466     8.9772398057e+06 Pr: 141272(6.17822e+13); Du: 0(5.05466e-06) 880s\n",
      "      90077     9.1219224857e+06 Pr: 132802(5.93788e+13); Du: 0(5.00751e-06) 886s\n",
      "      90696     9.2850041840e+06 Pr: 133248(6.15569e+13); Du: 0(4.85529e-06) 893s\n",
      "      91279     9.4122721721e+06 Pr: 168745(1.33365e+14); Du: 0(4.7844e-06) 899s\n",
      "      91912     9.6754474748e+06 Pr: 160581(3.81892e+13); Du: 0(4.63398e-06) 906s\n",
      "      92508     1.0057665797e+07 Pr: 158967(6.08262e+13); Du: 0(4.42439e-06) 912s\n",
      "      93119     1.0383344853e+07 Pr: 159839(5.60197e+13); Du: 0(4.64361e-06) 919s\n",
      "      93717     1.0627359389e+07 Pr: 171430(3.03397e+13); Du: 0(4.5199e-06) 926s\n",
      "      94442     1.0877032509e+07 Pr: 179298(1.0087e+14); Du: 0(4.51148e-06) 934s\n",
      "      95100     1.1038630750e+07 Pr: 133363(1.85618e+14); Du: 0(4.78978e-06) 941s\n",
      "      95832     1.1379116602e+07 Pr: 116996(1.345e+14); Du: 0(4.99519e-06) 949s\n",
      "      96544     1.1940135965e+07 Pr: 123710(5.10064e+13); Du: 0(5.0084e-06) 957s\n",
      "      97234     1.2293396946e+07 Pr: 113810(3.64292e+14); Du: 0(4.70645e-06) 964s\n",
      "      97857     1.2806723913e+07 Pr: 159639(6.39065e+13); Du: 0(4.84306e-06) 971s\n",
      "      98522     1.3364924315e+07 Pr: 161136(3.99871e+13); Du: 0(4.56618e-06) 979s\n",
      "      99176     1.3640961064e+07 Pr: 150592(5.02178e+13); Du: 0(4.17683e-06) 985s\n",
      "      99819     1.3907818093e+07 Pr: 134156(1.06779e+14); Du: 0(4.67138e-06) 993s\n",
      "     100475     1.4239036904e+07 Pr: 124165(4.71757e+13); Du: 0(4.70944e-06) 1000s\n",
      "     105672     1.5723058282e+07 Pr: 164733(1.16717e+14); Du: 0(4.91072e-06) 1057s\n",
      "     110294     2.1936077287e+07 Pr: 155673(2.07097e+14); Du: 0(4.74593e-06) 1110s\n",
      "     114846     2.4025267932e+07 Pr: 164340(1.13566e+14); Du: 0(4.5948e-06) 1162s\n",
      "     119557     3.0245444066e+07 Pr: 134092(1.29169e+15); Du: 0(4.10005e-06) 1216s\n",
      "     123999     3.6756345559e+07 Pr: 163851(1.91738e+14); Du: 0(4.08072e-06) 1269s\n",
      "     128690     5.2663281825e+07 Pr: 144122(8.79903e+14); Du: 0(3.59624e-06) 1324s\n",
      "     133582     1.2481080902e+08 Pr: 151145(9.34133e+14); Du: 0(3.11327e-06) 1382s\n",
      "     138897     5.4210194225e+08 Pr: 134990(9.5024e+13); Du: 0(3.91465e-06) 1442s\n",
      "     144254     7.7759826964e+08 Pr: 146851(2.4072e+14); Du: 0(3.37847e-06) 1500s\n",
      "     149945     7.8724985951e+08 Pr: 148273(1.93734e+14); Du: 0(3.82284e-06) 1562s\n",
      "     155957     7.9154005194e+08 Pr: 150548(1.98123e+14); Du: 0(4.01827e-06) 1622s\n",
      "     159567     7.9326082211e+08 Pr: 152577(2.73474e+14); Du: 0(4.22081e-06) 1676s\n",
      "     164272     7.9561218486e+08 Pr: 153738(2.50105e+14); Du: 0(4.69636e-06) 1738s\n",
      "     167885     7.9850067571e+08 Pr: 154799(2.69964e+14); Du: 0(4.7337e-06) 1794s\n",
      "     171601     8.8863085751e+08 Pr: 163472(3.89223e+14); Du: 0(3.75866e-06) 1851s\n",
      "     175663     1.2502888183e+09 Pr: 247229(3.88059e+14); Du: 0(4.02378e-06) 1909s\n",
      "     179419     1.5731436567e+09 Pr: 212199(1.20768e+15); Du: 0(4.15229e-06) 1968s\n",
      "     183652     2.8322461844e+09 Pr: 205959(7.67802e+14); Du: 0(4.17419e-06) 2029s\n",
      "     188436     3.5577174124e+09 Pr: 193009(4.70569e+15); Du: 0(4.15705e-06) 2092s\n",
      "     192199     3.8262145409e+09 Pr: 219850(5.5429e+14); Du: 0(3.95589e-06) 2144s\n",
      "     197151     4.1129668259e+09 Pr: 184502(1.90056e+13); Du: 0(3.91614e-06) 2199s\n",
      "     201954     4.3784801432e+09 Pr: 212386(3.44195e+14); Du: 0(3.1439e-06) 2257s\n",
      "     207097     4.6220518346e+09 Pr: 219960(7.87668e+13); Du: 0(2.70465e-06) 2317s\n",
      "     212270     4.8939263086e+09 Pr: 222453(5.61898e+13); Du: 0(2.51232e-06) 2377s\n",
      "     216373     5.0928479580e+09 Pr: 245485(1.63712e+14); Du: 0(3.08738e-06) 2431s\n",
      "     222032     5.2753024792e+09 Pr: 192895(1.19289e+14); Du: 0(2.95791e-06) 2490s\n",
      "     226601     5.4721898846e+09 Pr: 200142(4.22184e+14); Du: 0(2.43079e-06) 2540s\n",
      "     231935     5.5974931615e+09 Pr: 176600(1.16701e+14); Du: 0(2.44512e-06) 2593s\n",
      "     237682     5.6785474511e+09 Pr: 171638(1.97071e+13); Du: 0(2.83107e-06) 2646s\n",
      "     243430     5.7448692111e+09 Pr: 251734(1.09833e+14); Du: 0(2.71506e-06) 2702s\n",
      "     249509     5.8010706774e+09 Pr: 206590(7.2479e+13); Du: 0(2.50046e-06) 2759s\n",
      "     254673     5.8411467306e+09 Pr: 214638(2.48469e+13); Du: 0(2.50629e-06) 2812s\n",
      "     260065     5.9447219521e+09 Pr: 215331(7.5944e+13); Du: 0(3.2358e-06) 2865s\n",
      "     266132     6.0093508140e+09 Pr: 238239(9.27046e+13); Du: 0(2.66616e-06) 2917s\n",
      "     271812     6.1138320754e+09 Pr: 223752(2.79881e+13); Du: 0(2.51099e-06) 2971s\n",
      "     279226     6.1946670502e+09 Pr: 210116(8.61513e+13); Du: 0(2.31876e-06) 3032s\n",
      "     284910     6.2799298646e+09 Pr: 156754(1.26991e+13); Du: 0(2.56e-06) 3085s\n",
      "     291280     6.3295195238e+09 Pr: 185822(4.14469e+13); Du: 0(2.87187e-06) 3141s\n",
      "     298470     6.3952566424e+09 Pr: 200777(1.53937e+14); Du: 0(2.62738e-06) 3200s\n",
      "     305843     6.4335289064e+09 Pr: 189553(1.67682e+14); Du: 0(2.45594e-06) 3259s\n",
      "     312806     6.4824246165e+09 Pr: 223200(1.06306e+14); Du: 0(2.56993e-06) 3310s\n",
      "     318503     6.5310121176e+09 Pr: 172633(3.00093e+13); Du: 0(2.77367e-06) 3361s\n",
      "     324886     6.5974794522e+09 Pr: 182585(1.35071e+13); Du: 0(2.40339e-06) 3414s\n",
      "     330661     6.6540525664e+09 Pr: 201266(4.97184e+13); Du: 0(2.59353e-06) 3465s\n",
      "     337818     6.7027817368e+09 Pr: 244013(3.82168e+13); Du: 0(3.04294e-06) 3528s\n",
      "     344549     6.7509044894e+09 Pr: 216422(3.71285e+12); Du: 0(3.13037e-06) 3587s\n",
      "     350315     6.7989137444e+09 Pr: 230909(4.70599e+12); Du: 0(3.00447e-06) 3637s\n",
      "     358033     6.8431127398e+09 Pr: 158952(5.76103e+13); Du: 0(3.28545e-06) 3697s\n",
      "     365139     6.9012053536e+09 Pr: 196497(1.88425e+12); Du: 0(2.74856e-06) 3757s\n",
      "     371732     6.9654322206e+09 Pr: 191626(8.9435e+11); Du: 0(2.98286e-06) 3813s\n",
      "     378484     7.0138501121e+09 Pr: 173106(9.71415e+11); Du: 0(2.66537e-06) 3869s\n",
      "     385399     7.0639162589e+09 Pr: 162397(1.11712e+12); Du: 0(3.33332e-06) 3924s\n",
      "     392562     7.1119884370e+09 Pr: 246574(4.2956e+11); Du: 0(3.32861e-06) 3980s\n",
      "     398911     7.1419967869e+09 Pr: 239013(6.07827e+11); Du: 0(3.20321e-06) 4032s\n",
      "     428879     7.1644392579e+09 Pr: 237709(6.08052e+12); Du: 0(2.02613e-05) 4087s\n",
      "     451769     7.2056256220e+09 Pr: 179711(3.15347e+11); Du: 0(2.25438e-05) 4141s\n",
      "     479294     7.2362582265e+09 Pr: 192048(1.18214e+12); Du: 0(2.4174e-05) 4198s\n",
      "     506519     7.2521756685e+09 Pr: 110912(3.37118e+10); Du: 0(2.75186e-05) 4254s\n",
      "     528365     7.2622956245e+09 Pr: 107118(1.28086e+10); Du: 0(2.88103e-05) 4308s\n",
      "     552184     7.2707962767e+09 Pr: 80024(2.50303e+09); Du: 0(2.90113e-05) 4363s\n",
      "     574134     7.2755897980e+09 Pr: 115297(1.77036e+10); Du: 0(2.93663e-05) 4414s\n",
      "     598334     7.2778354172e+09 Pr: 0(0); Du: 0(9.47149e-10) 4456s\n",
      "     598334     7.2778354172e+09 Pr: 0(0); Du: 0(9.47149e-10) 4456s\n",
      "Solving the original LP from the solution after postsolve\n",
      "Model   status      : Optimal\n",
      "Simplex   iterations: 598334\n",
      "Objective value     :  7.2778354172e+09\n",
      "HiGHS run time      :       4457.52\n"
     ]
    },
    {
     "data": {
      "text/plain": [
       "(CAPG = [6661.025437683311, 34174.8], CAPS = [-0.0, -0.0, 0.0, 0.0, 0.0, 0.0, 0.0, 0.0, -0.0, -0.0, 7295.462374063987, 2254.2121882527, -0.0, -0.0], SOCM = [-0.0, -0.0, -0.0, -0.0, -0.0, -0.0, -0.0, -0.0, -0.0, -0.0, 51390.7740549433, 59881.881095206365, -0.0, -0.0], GEN = [0.0 0.0 … 0.0 0.0; 0.0 0.0 … 1458.3878117472987 0.0], R_GEN = [0.0 0.0 … 0.0 0.0; 0.0 0.0 … 0.0 0.0], SOC = [-0.0 -0.0 … -0.0 -0.0; -0.0 -0.0 … -0.0 -0.0; … ; -0.0 -0.0 … -0.0 -0.0; -0.0 -0.0 … -0.0 -0.0], CHARGE = [0.0 0.0 … 0.0 0.0; 0.0 -0.0 … 0.0 0.0; … ; -0.0 -0.0 … 0.0 0.0; -0.0 -0.0 … 0.0 0.0], DISCHARGE = [0.0 0.0 … -0.0 -0.0; 0.0 0.0 … 0.0 0.0; … ; 0.0 0.0 … 0.0 0.0; 0.0 0.0 … 0.0 -0.0], R_DISCHARGE = [0.0 0.0 … 0.0 0.0; -0.0 0.0 … 0.0 0.0; … ; -0.0 0.0 … 0.0 0.0; 0.0 0.0 … 0.0 0.0], NET_DISCHARGE = [0.0 0.0 … -0.0 -0.0; 0.0 0.0 … 0.0 0.0; … ; 0.0 0.0 … 0.0 0.0; 0.0 0.0 … 0.0 -0.0], CURTAIL = [0.0 0.0 … 0.0 0.0; 0.0 0.0 … 0.0 0.0; 4511.725437683307 3836.7254376833143 … 0.0 0.0], NSE = [0.0, 0.0, 0.0, 0.0, 0.0, 0.0, 0.0, 0.0, 0.0, 0.0  …  0.0, 0.0, 0.0, 0.0, 0.0, 0.0, 0.0, 0.0, 0.0, 0.0], GenInvCost = 1.3260079960348248e10, StorPowInvCost = 3.894872380297352e9, StorEnInvCost = 2.8450476593544e9, TIC = 2.0e10, EnergyProvisionCost = 7.276195151752276e9, ReserveProvisionCost = 569831.9204362343, UnservedEnergyCost = 0.0, CurtailedVreCost = 1.0704335008928282e6, OV = 7.277835417173614e9)"
      ]
     },
     "metadata": {},
     "output_type": "display_data"
    }
   ],
   "source": [
    "solutions = planning_model(vreinfo, generatorinfo, storageinfo, halfhourlydemand, halfhourlyvrecf; \n",
    "budget=20e9, voll=100e3, curtailpenalty=0.1, bigm=100e3, epsilon=0.05)"
   ]
  },
  {
   "cell_type": "code",
   "execution_count": 43,
   "metadata": {},
   "outputs": [
    {
     "data": {
      "text/plain": [
       "3×1001 Matrix{Float64}:\n",
       "    0.0       0.0       0.0      0.0  …  0.0  0.0  0.0  0.0  0.0  0.0  0.0\n",
       "    0.0    1151.64   1792.4      0.0     0.0  0.0  0.0  0.0  0.0  0.0  0.0\n",
       " 9592.33  32370.0   32370.0  22209.4     0.0  0.0  0.0  0.0  0.0  0.0  0.0"
      ]
     },
     "metadata": {},
     "output_type": "display_data"
    }
   ],
   "source": [
    "solutions.CURTAIL"
   ]
  },
  {
   "cell_type": "code",
   "execution_count": 44,
   "metadata": {},
   "outputs": [
    {
     "data": {
      "text/plain": [
       "2×1001 Matrix{Float64}:\n",
       "   -0.0    -0.0    -0.0    -0.0  …     -0.0     -0.0     -0.0     -0.0\n",
       " 9021.1  9021.1  9021.1  9021.1     14674.3  22552.8  22552.8  19286.9"
      ]
     },
     "metadata": {},
     "output_type": "display_data"
    }
   ],
   "source": [
    "solutions.GEN"
   ]
  },
  {
   "cell_type": "code",
   "execution_count": 45,
   "metadata": {},
   "outputs": [
    {
     "data": {
      "text/plain": [
       "2×1001 Matrix{Float64}:\n",
       " 0.0  0.0  0.0  0.0  0.0  0.0  0.0  0.0  …  0.0  0.0  0.0  0.0  0.0  0.0  0.0\n",
       " 0.0  0.0  0.0  0.0  0.0  0.0  0.0  0.0     0.0  0.0  0.0  0.0  0.0  0.0  0.0"
      ]
     },
     "metadata": {},
     "output_type": "display_data"
    }
   ],
   "source": [
    "solutions.R_GEN"
   ]
  },
  {
   "cell_type": "code",
   "execution_count": 46,
   "metadata": {},
   "outputs": [
    {
     "data": {
      "text/plain": [
       "2-element Vector{Float64}:\n",
       "    -0.0\n",
       " 22552.761892771745"
      ]
     },
     "metadata": {},
     "output_type": "display_data"
    }
   ],
   "source": [
    "solutions.CAPG"
   ]
  },
  {
   "cell_type": "code",
   "execution_count": 47,
   "metadata": {},
   "outputs": [
    {
     "data": {
      "text/plain": [
       "14×1001 Matrix{Float64}:\n",
       " 0.0      0.0      0.0      0.0     0.0   …    -0.0      -0.0      -0.0\n",
       " 0.0     -0.0     -0.0     -0.0    -0.0        -0.0       0.0      -0.0\n",
       " 0.0     -0.0     -0.0     -0.0    -0.0         0.0       0.0       0.0\n",
       " 0.0      0.0      0.0      0.0     0.0        -0.0      -0.0      -0.0\n",
       " 0.0     -0.0     -0.0      0.0    -0.0        -0.0      -0.0      -0.0\n",
       " 0.0      0.0      0.0      0.0     0.0   …    -0.0      -0.0      -0.0\n",
       " 0.0      0.0      0.0      0.0     0.0        -0.0      -0.0      -0.0\n",
       " 0.0      0.0      0.0      0.0     0.0        -0.0      -0.0      -0.0\n",
       " 0.0      0.0      0.0      0.0     0.0         0.0      -0.0      -0.0\n",
       " 0.0     -0.0     -0.0      0.0    -0.0        -0.0      -0.0      -0.0\n",
       " 0.0  11292.8  11644.5  11413.0     0.0   …   634.076   302.876  2096.71\n",
       " 0.0      0.0      0.0   2627.5  3616.72     3616.72   3616.72   3616.72\n",
       " 0.0      0.0      0.0      0.0     0.0         0.0      -0.0       0.0\n",
       " 0.0      0.0      0.0      0.0     0.0       178.638   178.638   178.638"
      ]
     },
     "metadata": {},
     "output_type": "display_data"
    }
   ],
   "source": [
    "solutions.DISCHARGE"
   ]
  },
  {
   "cell_type": "code",
   "execution_count": 48,
   "metadata": {},
   "outputs": [
    {
     "data": {
      "text/plain": [
       "14×1001 Matrix{Float64}:\n",
       "     0.0   -0.0     -0.0       -0.0    …  0.0  0.0  0.0  0.0  0.0  0.0  0.0\n",
       "     0.0    0.0      0.0        0.0       0.0  0.0  0.0  0.0  0.0  0.0  0.0\n",
       "     0.0    0.0      0.0        0.0       0.0  0.0  0.0  0.0  0.0  0.0  0.0\n",
       "     0.0   -0.0     -0.0       -0.0       0.0  0.0  0.0  0.0  0.0  0.0  0.0\n",
       "     0.0    0.0      0.0        0.0       0.0  0.0  0.0  0.0  0.0  0.0  0.0\n",
       "     0.0   -0.0     -0.0       -0.0    …  0.0  0.0  0.0  0.0  0.0  0.0  0.0\n",
       "     0.0   -0.0     -0.0       -0.0       0.0  0.0  0.0  0.0  0.0  0.0  0.0\n",
       "     0.0   -0.0     -0.0       -0.0       0.0  0.0  0.0  0.0  0.0  0.0  0.0\n",
       "     0.0   -0.0     -0.0       -0.0       0.0  0.0  0.0  0.0  0.0  0.0  0.0\n",
       "    -0.0    0.0      0.0        0.0       0.0  0.0  0.0  0.0  0.0  0.0  0.0\n",
       " 13490.2    0.0      0.0    13490.2    …  0.0  0.0  0.0  0.0  0.0  0.0  0.0\n",
       "     0.0    0.0      0.0        0.0       0.0  0.0  0.0  0.0  0.0  0.0  0.0\n",
       "     0.0   -0.0     -0.0       -0.0       0.0  0.0  0.0  0.0  0.0  0.0  0.0\n",
       "     0.0  178.638  178.638    178.638     0.0  0.0  0.0  0.0  0.0  0.0  0.0"
      ]
     },
     "metadata": {},
     "output_type": "display_data"
    }
   ],
   "source": [
    "solutions.CHARGE"
   ]
  },
  {
   "cell_type": "code",
   "execution_count": 49,
   "metadata": {},
   "outputs": [
    {
     "data": {
      "text/plain": [
       "14×1001 Matrix{Float64}:\n",
       "    -0.0      -0.0      -0.0      -0.0   …     -0.0      -0.0      -0.0\n",
       "    -0.0      -0.0      -0.0      -0.0         -0.0      -0.0      -0.0\n",
       "    -0.0      -0.0      -0.0      -0.0         -0.0      -0.0      -0.0\n",
       "    -0.0      -0.0      -0.0      -0.0         -0.0      -0.0      -0.0\n",
       "    -0.0      -0.0      -0.0      -0.0         -0.0      -0.0      -0.0\n",
       "    -0.0      -0.0      -0.0      -0.0   …     -0.0      -0.0      -0.0\n",
       "    -0.0      -0.0      -0.0      -0.0         -0.0      -0.0      -0.0\n",
       "    -0.0      -0.0      -0.0      -0.0         -0.0      -0.0      -0.0\n",
       "    -0.0      -0.0      -0.0      -0.0         -0.0      -0.0      -0.0\n",
       "    -0.0      -0.0      -0.0      -0.0         -0.0      -0.0      -0.0\n",
       " 57112.7   36580.3   15408.5    2077.2   …  61475.6   60924.9   57112.7\n",
       " 37006.8   37006.8   37006.8   33357.4      47053.2   42030.0   37006.8\n",
       "    -0.0      -0.0      -0.0      -0.0         -0.0      -0.0      -0.0\n",
       "  4924.16   5020.63   5117.09   5213.56      5585.78   5254.97   4924.16"
      ]
     },
     "metadata": {},
     "output_type": "display_data"
    }
   ],
   "source": [
    "solutions.SOC"
   ]
  },
  {
   "cell_type": "code",
   "execution_count": 58,
   "metadata": {},
   "outputs": [
    {
     "data": {
      "text/plain": [
       "2×9 Matrix{Float64}:\n",
       "   -0.0    -0.0    -0.0    -0.0    -0.0    -0.0    -0.0    -0.0    -0.0\n",
       " 9021.1  9021.1  9021.1  9021.1  9021.1  9021.1  9021.1  9021.1  9021.1"
      ]
     },
     "metadata": {},
     "output_type": "display_data"
    }
   ],
   "source": [
    "solutions.GEN[:,2:10]"
   ]
  },
  {
   "cell_type": "code",
   "execution_count": 61,
   "metadata": {},
   "outputs": [
    {
     "data": {
      "text/plain": [
       "3×6 Matrix{Float64}:\n",
       "     0.0       0.0      0.0      0.0     0.0       0.0\n",
       "  1151.64   1792.4      0.0      0.0     0.0       0.0\n",
       " 32370.0   32370.0  22209.4  25650.8  6798.29  24526.5"
      ]
     },
     "metadata": {},
     "output_type": "display_data"
    }
   ],
   "source": [
    "solutions.CURTAIL[:,2:7]"
   ]
  },
  {
   "cell_type": "code",
   "execution_count": 62,
   "metadata": {},
   "outputs": [
    {
     "data": {
      "text/html": [
       "<div><div style = \"float: left;\"><span>1001×2 DataFrame</span></div><div style = \"float: right;\"><span style = \"font-style: italic;\">976 rows omitted</span></div><div style = \"clear: both;\"></div></div><div class = \"data-frame\" style = \"overflow-x: scroll;\"><table class = \"data-frame\" style = \"margin-bottom: 6px;\"><thead><tr class = \"header\"><th class = \"rowNumber\" style = \"font-weight: bold; text-align: right;\">Row</th><th style = \"text-align: left;\">hh</th><th style = \"text-align: left;\">load</th></tr><tr class = \"subheader headerLastRow\"><th class = \"rowNumber\" style = \"font-weight: bold; text-align: right;\"></th><th title = \"Int64\" style = \"text-align: left;\">Int64</th><th title = \"Int64\" style = \"text-align: left;\">Int64</th></tr></thead><tbody><tr><td class = \"rowNumber\" style = \"font-weight: bold; text-align: right;\">1</td><td style = \"text-align: right;\">30000</td><td style = \"text-align: right;\">22635</td></tr><tr><td class = \"rowNumber\" style = \"font-weight: bold; text-align: right;\">2</td><td style = \"text-align: right;\">30001</td><td style = \"text-align: right;\">21974</td></tr><tr><td class = \"rowNumber\" style = \"font-weight: bold; text-align: right;\">3</td><td style = \"text-align: right;\">30002</td><td style = \"text-align: right;\">21685</td></tr><tr><td class = \"rowNumber\" style = \"font-weight: bold; text-align: right;\">4</td><td style = \"text-align: right;\">30003</td><td style = \"text-align: right;\">21147</td></tr><tr><td class = \"rowNumber\" style = \"font-weight: bold; text-align: right;\">5</td><td style = \"text-align: right;\">30004</td><td style = \"text-align: right;\">20772</td></tr><tr><td class = \"rowNumber\" style = \"font-weight: bold; text-align: right;\">6</td><td style = \"text-align: right;\">30005</td><td style = \"text-align: right;\">20869</td></tr><tr><td class = \"rowNumber\" style = \"font-weight: bold; text-align: right;\">7</td><td style = \"text-align: right;\">30006</td><td style = \"text-align: right;\">20808</td></tr><tr><td class = \"rowNumber\" style = \"font-weight: bold; text-align: right;\">8</td><td style = \"text-align: right;\">30007</td><td style = \"text-align: right;\">20619</td></tr><tr><td class = \"rowNumber\" style = \"font-weight: bold; text-align: right;\">9</td><td style = \"text-align: right;\">30008</td><td style = \"text-align: right;\">20521</td></tr><tr><td class = \"rowNumber\" style = \"font-weight: bold; text-align: right;\">10</td><td style = \"text-align: right;\">30009</td><td style = \"text-align: right;\">20965</td></tr><tr><td class = \"rowNumber\" style = \"font-weight: bold; text-align: right;\">11</td><td style = \"text-align: right;\">30010</td><td style = \"text-align: right;\">21337</td></tr><tr><td class = \"rowNumber\" style = \"font-weight: bold; text-align: right;\">12</td><td style = \"text-align: right;\">30011</td><td style = \"text-align: right;\">22223</td></tr><tr><td class = \"rowNumber\" style = \"font-weight: bold; text-align: right;\">13</td><td style = \"text-align: right;\">30012</td><td style = \"text-align: right;\">22798</td></tr><tr><td style = \"text-align: right;\">&vellip;</td><td style = \"text-align: right;\">&vellip;</td><td style = \"text-align: right;\">&vellip;</td></tr><tr><td class = \"rowNumber\" style = \"font-weight: bold; text-align: right;\">990</td><td style = \"text-align: right;\">30989</td><td style = \"text-align: right;\">35934</td></tr><tr><td class = \"rowNumber\" style = \"font-weight: bold; text-align: right;\">991</td><td style = \"text-align: right;\">30990</td><td style = \"text-align: right;\">36423</td></tr><tr><td class = \"rowNumber\" style = \"font-weight: bold; text-align: right;\">992</td><td style = \"text-align: right;\">30991</td><td style = \"text-align: right;\">37016</td></tr><tr><td class = \"rowNumber\" style = \"font-weight: bold; text-align: right;\">993</td><td style = \"text-align: right;\">30992</td><td style = \"text-align: right;\">37695</td></tr><tr><td class = \"rowNumber\" style = \"font-weight: bold; text-align: right;\">994</td><td style = \"text-align: right;\">30993</td><td style = \"text-align: right;\">38404</td></tr><tr><td class = \"rowNumber\" style = \"font-weight: bold; text-align: right;\">995</td><td style = \"text-align: right;\">30994</td><td style = \"text-align: right;\">38818</td></tr><tr><td class = \"rowNumber\" style = \"font-weight: bold; text-align: right;\">996</td><td style = \"text-align: right;\">30995</td><td style = \"text-align: right;\">39327</td></tr><tr><td class = \"rowNumber\" style = \"font-weight: bold; text-align: right;\">997</td><td style = \"text-align: right;\">30996</td><td style = \"text-align: right;\">40251</td></tr><tr><td class = \"rowNumber\" style = \"font-weight: bold; text-align: right;\">998</td><td style = \"text-align: right;\">30997</td><td style = \"text-align: right;\">40106</td></tr><tr><td class = \"rowNumber\" style = \"font-weight: bold; text-align: right;\">999</td><td style = \"text-align: right;\">30998</td><td style = \"text-align: right;\">39139</td></tr><tr><td class = \"rowNumber\" style = \"font-weight: bold; text-align: right;\">1000</td><td style = \"text-align: right;\">30999</td><td style = \"text-align: right;\">38202</td></tr><tr><td class = \"rowNumber\" style = \"font-weight: bold; text-align: right;\">1001</td><td style = \"text-align: right;\">31000</td><td style = \"text-align: right;\">36730</td></tr></tbody></table></div>"
      ],
      "text/latex": [
       "\\begin{tabular}{r|cc}\n",
       "\t& hh & load\\\\\n",
       "\t\\hline\n",
       "\t& Int64 & Int64\\\\\n",
       "\t\\hline\n",
       "\t1 & 30000 & 22635 \\\\\n",
       "\t2 & 30001 & 21974 \\\\\n",
       "\t3 & 30002 & 21685 \\\\\n",
       "\t4 & 30003 & 21147 \\\\\n",
       "\t5 & 30004 & 20772 \\\\\n",
       "\t6 & 30005 & 20869 \\\\\n",
       "\t7 & 30006 & 20808 \\\\\n",
       "\t8 & 30007 & 20619 \\\\\n",
       "\t9 & 30008 & 20521 \\\\\n",
       "\t10 & 30009 & 20965 \\\\\n",
       "\t11 & 30010 & 21337 \\\\\n",
       "\t12 & 30011 & 22223 \\\\\n",
       "\t13 & 30012 & 22798 \\\\\n",
       "\t14 & 30013 & 23750 \\\\\n",
       "\t15 & 30014 & 25371 \\\\\n",
       "\t16 & 30015 & 27028 \\\\\n",
       "\t17 & 30016 & 28299 \\\\\n",
       "\t18 & 30017 & 29244 \\\\\n",
       "\t19 & 30018 & 29528 \\\\\n",
       "\t20 & 30019 & 29514 \\\\\n",
       "\t21 & 30020 & 29403 \\\\\n",
       "\t22 & 30021 & 29173 \\\\\n",
       "\t23 & 30022 & 28868 \\\\\n",
       "\t24 & 30023 & 28500 \\\\\n",
       "\t$\\dots$ & $\\dots$ & $\\dots$ \\\\\n",
       "\\end{tabular}\n"
      ],
      "text/plain": [
       "\u001b[1m1001×2 DataFrame\u001b[0m\n",
       "\u001b[1m  Row \u001b[0m│\u001b[1m hh    \u001b[0m\u001b[1m load  \u001b[0m\n",
       "      │\u001b[90m Int64 \u001b[0m\u001b[90m Int64 \u001b[0m\n",
       "──────┼──────────────\n",
       "    1 │ 30000  22635\n",
       "    2 │ 30001  21974\n",
       "    3 │ 30002  21685\n",
       "    4 │ 30003  21147\n",
       "    5 │ 30004  20772\n",
       "    6 │ 30005  20869\n",
       "    7 │ 30006  20808\n",
       "    8 │ 30007  20619\n",
       "  ⋮   │   ⋮      ⋮\n",
       "  995 │ 30994  38818\n",
       "  996 │ 30995  39327\n",
       "  997 │ 30996  40251\n",
       "  998 │ 30997  40106\n",
       "  999 │ 30998  39139\n",
       " 1000 │ 30999  38202\n",
       " 1001 │ 31000  36730\n",
       "\u001b[36m     986 rows omitted\u001b[0m"
      ]
     },
     "metadata": {},
     "output_type": "display_data"
    }
   ],
   "source": [
    "halfhourlydemand"
   ]
  },
  {
   "cell_type": "code",
   "execution_count": 13,
   "metadata": {},
   "outputs": [],
   "source": []
  },
  {
   "cell_type": "code",
   "execution_count": 14,
   "metadata": {},
   "outputs": [],
   "source": []
  }
 ],
 "metadata": {
  "kernelspec": {
   "display_name": "Julia 1.9.3",
   "language": "julia",
   "name": "julia-1.9"
  },
  "language_info": {
   "file_extension": ".jl",
   "mimetype": "application/julia",
   "name": "julia",
   "version": "1.9.3"
  }
 },
 "nbformat": 4,
 "nbformat_minor": 2
}
