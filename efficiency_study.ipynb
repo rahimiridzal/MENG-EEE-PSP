{
 "cells": [
  {
   "cell_type": "code",
   "execution_count": 2,
   "metadata": {},
   "outputs": [],
   "source": [
    "using CSV, DataFrames, JuMP, HiGHS\n",
    "include(\"CEM.jl\")\n",
    "\n",
    "storageinfo = CSV.read(joinpath(\"cleaned\",\"storageinfo.csv\"), DataFrame)\n",
    "generatorinfo = CSV.read(joinpath(\"cleaned\",\"generatorinfo.csv\"), DataFrame)\n",
    "vreinfo = CSV.read(joinpath(\"cleaned\",\"vreinfo.csv\"), DataFrame)\n",
    "halfhourlydemand = CSV.read(joinpath(\"cleaned\",\"halfhourlydemand.csv\"), DataFrame)\n",
    "halfhourlyvrecf = CSV.read(joinpath(\"cleaned\",\"halfhourlyvrecf.csv\"), DataFrame)\n",
    "halfhourlydemand = halfhourlydemand[1:1488,:];"
   ]
  },
  {
   "cell_type": "code",
   "execution_count": 4,
   "metadata": {},
   "outputs": [
    {
     "data": {
      "text/plain": [
       "4-element Vector{Int64}:\n",
       "  2\n",
       "  9\n",
       " 10\n",
       " 11"
      ]
     },
     "metadata": {},
     "output_type": "display_data"
    }
   ],
   "source": [
    "eff_results = Dict()\n",
    "\n",
    "selected_ldes_ids = storageinfo[\n",
    "    (storageinfo.name.==\" Compressed_air_energy_storage\") .| \n",
    "    (storageinfo.name.==\" Aqueous_sulfur_flow_batteries\") .| \n",
    "    (storageinfo.name.==\" Vanadium_redox_flow_batteries\") .|\n",
    "    (storageinfo.name.==\" Multijunction_photovoltaic_thermal_storage\"), :id]"
   ]
  },
  {
   "cell_type": "code",
   "execution_count": null,
   "metadata": {},
   "outputs": [],
   "source": [
    "for s_id in selected_ldes_ids[1:2]\n",
    "    eff_results[s_id] = []\n",
    "    for eff in 50:5:95\n",
    "        eff = eff / 100\n",
    "        if storageinfo[s_id,:bestCaseEff] < eff\n",
    "            storageinfo[s_id,:bestCaseEff] = eff\n",
    "            sol = CEM(vreinfo, generatorinfo, storageinfo, halfhourlydemand, halfhourlyvrecf; \n",
    "                budget=20e9, voll=100e3, cd_rho=5, reserve=\"all\", silent=true)\n",
    "            println(sol)\n",
    "            push!(eff_results[s_id], (eff, sol.TOC))\n",
    "        end\n",
    "    end\n",
    "    storageinfo = CSV.read(joinpath(\"cleaned\",\"storageinfo.csv\"), DataFrame)\n",
    "end"
   ]
  },
  {
   "cell_type": "code",
   "execution_count": null,
   "metadata": {},
   "outputs": [],
   "source": [
    "for s_id in selected_ldes_ids[3:4]\n",
    "    eff_results[s_id] = []\n",
    "    for eff in 50:5:95\n",
    "        eff = eff / 100\n",
    "        if storageinfo[s_id,:bestCaseEff] < eff\n",
    "            storageinfo[s_id,:bestCaseEff] = eff\n",
    "            sol = CEM(vreinfo, generatorinfo, storageinfo, halfhourlydemand, halfhourlyvrecf; \n",
    "                budget=20e9, voll=100e3, cd_rho=5, reserve=\"all\", silent=true)\n",
    "            println(sol)\n",
    "            push!(eff_results[s_id], (eff, sol.TOC))\n",
    "        end\n",
    "    end\n",
    "    storageinfo = CSV.read(joinpath(\"cleaned\",\"storageinfo.csv\"), DataFrame)\n",
    "end"
   ]
  },
  {
   "cell_type": "code",
   "execution_count": null,
   "metadata": {},
   "outputs": [],
   "source": []
  }
 ],
 "metadata": {
  "kernelspec": {
   "display_name": "Julia 1.9.3",
   "language": "julia",
   "name": "julia-1.9"
  },
  "language_info": {
   "file_extension": ".jl",
   "mimetype": "application/julia",
   "name": "julia",
   "version": "1.9.3"
  }
 },
 "nbformat": 4,
 "nbformat_minor": 2
}
