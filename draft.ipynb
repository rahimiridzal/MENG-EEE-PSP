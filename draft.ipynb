{
 "cells": [
  {
   "cell_type": "markdown",
   "metadata": {},
   "source": [
    "# Power System Planning Project"
   ]
  },
  {
   "cell_type": "markdown",
   "metadata": {},
   "source": [
    "## 1. Generation Expansion and Long-Term Storage Planning"
   ]
  },
  {
   "cell_type": "markdown",
   "metadata": {},
   "source": [
    "### 1.1. Mathematical Formulation"
   ]
  },
  {
   "cell_type": "markdown",
   "metadata": {},
   "source": [
    "$\\begin{align}\n",
    "\\min \\quad &\\sum_{g\\in G} C^{G,F} CAP_g + \\sum_{r\\in R} C^{R,F} CAP_r + \\sum_{s\\in S} (C^{S,P} CAP_s + C^{S,E} SOCmax_s) + \\\\\n",
    "&\\sum_{t\\in T} \\left(\\sum_{g\\in G} C^{G,V} GEN_{g,t} + C^{G,S} START_{g,t} + \\sum_{r\\in R} C^{R,V} REN_{r,t}+VoLL\\times NSE_t\\right)\\\\\n",
    "\\text{s.t. } \\quad &\\sum_{g\\in G} GEN_{g,t} + \\sum_{r\\in R} REN_{r,t} + \\sum_{s\\in S} \\left(DISCHARGE_{s,t} - CHARGE_{s,t} \\right) + NSE_t = L_t &\\forall t\\in T \\\\\n",
    "&0 \\leq GEN_{g,t} \\leq CAP_g \\times COMMIT_{g,t} &\\forall g\\in G, \\forall t\\in T \\\\\n",
    "&COMMIT_{g,t} >= \\sum^{t}_{t'\\geq t - MinUp_g} START_{g,t} &\\forall g\\in G, \\forall t\\in T \\\\\n",
    "&1 - COMMIT_{g,t} >= \\sum^{t}_{t'\\geq t - MinDown_g} SHUT_{g,t} &\\forall g\\in G, \\forall t\\in T \\\\\n",
    "&COMMIT_{g,t+1} - COMMIT_{g,t} = START_{g,t+1} - SHUT_{g,t+1} &\\forall g\\in G, t = 1..T-1\\\\\n",
    "&GEN_{g,t+1} - GEN_{g,t} \\leq RampUp_g &\\forall g\\in G, t = 1..T-1 \\\\\n",
    "&GEN_{g,t} - GEN_{g,t+1} \\leq RampDown_g &\\forall g\\in G, t = 1..T-1 \\\\\n",
    "&0 \\leq REN_{r,t}    \\leq CAP_r \\times cf_{r,t} &\\forall r\\in R, \\forall t\\in T \\\\\n",
    "&REN_{r,t+1} - REN_{r,t} \\leq RampUp_r &\\forall r\\in R, t = 1..T-1 \\\\\n",
    "&REN_{r,t} - REN_{r,t+1} \\leq RampDown_r &\\forall r\\in R, t = 1..T-1 \\\\\n",
    "&0 \\leq CHARGE_{s,t} \\leq CAP_s &\\forall s\\in S, \\forall t\\in T \\\\\n",
    "&0 \\leq DISCHARGE_{s,t} \\leq CAP_s &\\forall s\\in S, \\forall t\\in T \\\\\n",
    "&0 \\leq SOC_{s,t} \\leq SOCmax_s &\\forall s\\in S, \\forall t\\in T \\\\\n",
    "&SOC_{s,t+1} = SOC_{s,t} + CHARGE_{s,t+1} \\times Eff_s - DISCHARGE_{s,t+1}/Eff_s &\\forall s\\in S, t = 1..T-1 \\\\\n",
    "&SOC_{s,min(T)} = SOC_{s,max(T)} = 0.5 \\times SOCmax_s &\\forall s\\in S \\\\\n",
    "&NSE_t \\geq 0 &\\forall t\\in T \\\\\n",
    "\\end{align}$"
   ]
  },
  {
   "cell_type": "markdown",
   "metadata": {},
   "source": [
    "### 1.2. Modelling with JuMP"
   ]
  },
  {
   "cell_type": "code",
   "execution_count": 1,
   "metadata": {},
   "outputs": [],
   "source": [
    "using JuMP, HiGHS\n",
    "using DataFrames, CSV, XLSX\n",
    "\n",
    "stor_info = DataFrame(CSV.File(\"data/sample/stor_info.csv\"))\n",
    "ther_info = DataFrame(CSV.File(\"data/sample/ther_info.csv\"))\n",
    "ren_info = DataFrame(CSV.File(\"data/sample/ren_info.csv\"))\n",
    "load_forecast = DataFrame(CSV.File(\"data/sample/load_forecast.csv\"))\n",
    "capacity_factor = DataFrame(CSV.File(\"data/sample/capacity_factor.csv\"))\n",
    "\n",
    "stor_info = stor_info[:,[:id, :name, :power_cost, :energy_cost, :eff]]\n",
    "ther_info = ther_info[:,[:id, :name, :fixed_cost, :var_cost, :start_up_cost, :ramp_up_rate, :ramp_dn_rate, :min_up_time, :min_dn_time]]\n",
    "ren_info = ren_info[:,[:id, :name, :fixed_cost, :var_cost, :ramp_up_rate, :ramp_dn_rate]]\n",
    "load_forecast = load_forecast[:,[:hour, :load]]\n",
    "capacity_factor = capacity_factor[:,[:hour, :r_id, :cf]];\n"
   ]
  },
  {
   "cell_type": "code",
   "execution_count": 2,
   "metadata": {},
   "outputs": [
    {
     "data": {
      "text/plain": [
       "GESP (generic function with 4 methods)"
      ]
     },
     "metadata": {},
     "output_type": "display_data"
    }
   ],
   "source": [
    "# stor_info = id, name, power_cost, energy_cost, eff\n",
    "# ther_info = id, name, fixed_cost, var_cost, start_up_cost, ramp_up_rate, ramp_dn_rate, min_up_time, min_dn_time\n",
    "# ren_info = id, name, fixed_cost, var_cost, ramp_up_rate, ramp_dn_rate\n",
    "# load_forecast = hour, load\n",
    "# capacity_factor = hour, r_id, cf\n",
    "\n",
    "function GESP(stor_info, ther_info, ren_info, load_forecast, capacity_factor, VoLL=30000, bigM = 10000, mip_gap=0.01)\n",
    "\n",
    "    # SETS\n",
    "    G = ther_info.id\n",
    "    R = ren_info.id\n",
    "    S = stor_info.id\n",
    "    T = load_forecast.hour\n",
    "    T1 = T[2:end]\n",
    "\n",
    "    # INIT\n",
    "    model = Model()\n",
    "    set_optimizer(model, HiGHS.Optimizer)\n",
    "    set_optimizer_attribute(model, \"mip_rel_gap\", mip_gap)\n",
    "\n",
    "    # VARIABLES\n",
    "    @variables(model, begin\n",
    "        CAPG[G] >= 0\n",
    "        CAPG_COMMIT[G,T] >= 0\n",
    "        CAPR[R] >= 0\n",
    "        CAPS[S] >= 0\n",
    "        SOCM[S] >= 0\n",
    "        GEN[G,T] >= 0\n",
    "        REN[R,T] >= 0\n",
    "        CHARGE[S,T] >= 0\n",
    "        DISCHARGE[S,T] >= 0\n",
    "        SOC[S,T] >= 0\n",
    "        COMMIT[G,T], Bin\n",
    "        START[G,T], Bin\n",
    "        SHUT[G,T], Bin\n",
    "        NSE[T] >= 0\n",
    "    end)\n",
    "\n",
    "    # INVESTMENT COSTS\n",
    "    @expression(model, ThermalIC, sum(ther_info[ther_info.id .== g, :fixed_cost][1] * CAPG[g] for g in G))\n",
    "    @expression(model, RenewableIC, sum(ren_info[ren_info.id .== r, :fixed_cost][1] * CAPR[r] for r in R))\n",
    "    @expression(model, StoragePowIC, sum(stor_info[stor_info.id .== s, :power_cost][1] * CAPS[s] for s in S))\n",
    "    @expression(model, StorageEnIC, sum(stor_info[stor_info.id .== s, :energy_cost][1] * SOCM[s] for s in S))\n",
    "    @expression(model, TIC, ThermalIC + RenewableIC + StoragePowIC + StorageEnIC)\n",
    "\n",
    "    # OPERATION COSTS\n",
    "    @expression(model, ThermalOC, sum(ther_info[ther_info.id .== g, :var_cost][1] * GEN[g,t] for g in G for t in T))\n",
    "    @expression(model, RenewableOC, sum(ren_info[ren_info.id .== r, :var_cost][1] * REN[r,t] for r in R for t in T))\n",
    "    @expression(model, StartupOC, sum(ther_info[ther_info.id .== g, :start_up_cost][1] * START[g,t] for g in G for t in T))\n",
    "    @expression(model, NSE_C, sum(VoLL * NSE[t] for t in T))\n",
    "    @expression(model, TOC, ThermalOC + RenewableOC + StartupOC + NSE_C)\n",
    "\n",
    "    # OBJECTIVE FUNCTION\n",
    "    @objective(model, Min, TIC + TOC)\n",
    "\n",
    "    # POWER BALANCE CONSTRAINT\n",
    "    @constraint(model, PowerBalanceC[t in T], sum(GEN[g,t] for g in G) + sum(REN[r,t] for r in R) + sum(DISCHARGE[s,t] for s in S) - sum(CHARGE[s,t] for s in S) + NSE[t] == load_forecast[load_forecast.hour.==t,:load][1])\n",
    "\n",
    "    # THERMAL GENERATION LIMIT CONSTRAINT\n",
    "    @constraint(model, LessThanMC[g in G, t in T], CAPG_COMMIT[g,t] <= bigM * COMMIT[g,t])\n",
    "    @constraint(model, LessThanCapC[g in G, t in T], CAPG_COMMIT[g,t] <= CAPG[g])\n",
    "    @constraint(model, AuxIsRealC[g in G, t in T], CAPG_COMMIT[g,t] >= CAPG[g] - (1- COMMIT[g,t]) * bigM)\n",
    "    @constraint(model, ThermalLimC[g in G, t in T], GEN[g,t] <= CAPG_COMMIT[g,t])\n",
    "\n",
    "    # START CONSTRAINT\n",
    "    @constraint(model, StartC[g in G, t in T], \n",
    "        COMMIT[g,t] >= sum(START[g,i] for i in max(1,t-ther_info[ther_info.id.==g,:min_up_time][1]):t))\n",
    "        \n",
    "    @constraint(model, cAvoidCommitBeforeStart[g in G, t in T],COMMIT[g,t] <= sum(START[g,t] for t in minimum(T):t))\n",
    "\n",
    "    # SHUT CONSTRAINT\n",
    "    @constraint(model, ShutC[g in G, t in T], \n",
    "        1 - COMMIT[g,t] >= sum(SHUT[g,i] for i in max(1,t-ther_info[ther_info.id.==g,:min_dn_time][1]):t))\n",
    "\n",
    "    # COMMIT CONSTRAINT\n",
    "    @constraint(model, CommitC[g in G, t in T1], COMMIT[g,t] - COMMIT[g,t-1] == START[g,t] - SHUT[g,t])\n",
    "\n",
    "    # THERMAL RAMP UP CONSTRAINT\n",
    "    @constraint(model, TherRampUpC[g in G, t in T1], \n",
    "        GEN[g,t] - GEN[g,t-1] <= ther_info[ther_info.id.==g,:ramp_up_rate][1] * CAPG[g])\n",
    "    \n",
    "    # THERMAL RAMP DOWN CONSTRAINT\n",
    "    @constraint(model, TherRampDnC[g in G, t in T1], \n",
    "        GEN[g,t-1] - GEN[g,t] <= ther_info[ther_info.id.==g,:ramp_dn_rate][1] * CAPG[g])\n",
    "\n",
    "    # VRE LIMIT CONSTRAINT\n",
    "    @constraint(model, VreC[r in R, t in T], \n",
    "        # REN[r,t] <= CAPR[r] * capacity_factor[(capacity_factor.r_id.==r) .& (capacity_factor.hour.==t), :cf][1])\n",
    "        REN[r,t] <= 500 * capacity_factor[(capacity_factor.r_id.==r) .& (capacity_factor.hour.==t), :cf][1])\n",
    "    \n",
    "    # VRE RAMP UP CONSTRAINT\n",
    "    @constraint(model, VreRampUpC[r in R, t in T1], \n",
    "        REN[r,t] - REN[r,t-1] <= ren_info[ren_info.id.==r,:ramp_up_rate][1] * CAPR[r])\n",
    "    \n",
    "    # VRE RAMP DOWN CONSTRAINT\n",
    "    @constraint(model, VreRampDnC[r in R, t in T1], \n",
    "        REN[r,t-1] - REN[r,t] <= ren_info[ren_info.id.==r,:ramp_dn_rate][1] * CAPR[r])\n",
    "    \n",
    "    # CHARGE LIMIT CONSTRAINT\n",
    "    @constraint(model, ChargeC[s in S, t in T], CHARGE[s,t] <= CAPS[s])\n",
    "\n",
    "    # DISCHARGE LIMIT CONSTRAINT\n",
    "    @constraint(model, DischargeC[s in S, t in T], DISCHARGE[s,t] <= CAPS[s])\n",
    "\n",
    "    # SOC LIMIT CONSTRAINT\n",
    "    @constraint(model, SocLimitC[s in S, t in T], SOC[s,t] <= SOCM[s])\n",
    "\n",
    "    # SOC UPDATE CONSTRAINT\n",
    "    @constraint(model, SocUpdateC[s in S, t in T1],\n",
    "        SOC[s, t] == SOC[s,t-1] + (CHARGE[s,t]*stor_info[stor_info.id.==s,:eff][1]) - (DISCHARGE[s,t]/stor_info[stor_info.id.==s,:eff][1]))\n",
    "    \n",
    "    # SOC INI CONSTRAINT\n",
    "    @constraint(model, SocIniC[s in S], SOC[s,1] == 0.5 * SOCM[s])\n",
    "\n",
    "    # SOC END CONSTRAINT\n",
    "    @constraint(model, SocEndC[s in S], SOC[s,length(T)] == 0.5 * SOCM[s])\n",
    "\n",
    "    # SOLVE GESP\n",
    "    optimize!(model)\n",
    "\n",
    "    return(\n",
    "        CAPG = value.(CAPG).data,\n",
    "        CAPG_COMMIT = value.(CAPG_COMMIT).data,\n",
    "        CAPR = value.(CAPR).data,\n",
    "        CAPS = value.(CAPS).data,\n",
    "        SOCM = value.(SOCM).data,\n",
    "        GEN = value.(GEN).data,\n",
    "        REn = value.(REN).data,\n",
    "        CHARGE = value.(CHARGE).data,\n",
    "        DISCHARGE = value.(DISCHARGE).data,\n",
    "        SOC = value.(SOC).data,\n",
    "        COMMIT = value.(COMMIT).data,\n",
    "        START = value.(START).data,\n",
    "        SHUT = value.(SHUT).data,\n",
    "        NSE = value.(NSE).data,\n",
    "        ThermalIC = value(ThermalIC),\n",
    "        StoragePowIC = value(StoragePowIC),\n",
    "        StorageEnIC = value(StorageEnIC),\n",
    "        ThermalOC = value(ThermalOC),\n",
    "        RenewableOC = value(RenewableOC),\n",
    "        StartupOC = value(StartupOC),\n",
    "        NSE_C = value(NSE_C),\n",
    "        TIC = value(TIC),\n",
    "        TOC = value(TOC),\n",
    "        OV = objective_value(model)\n",
    "    )\n",
    "end\n",
    "    \n",
    "\n"
   ]
  },
  {
   "cell_type": "code",
   "execution_count": 3,
   "metadata": {},
   "outputs": [
    {
     "name": "stdout",
     "output_type": "stream",
     "text": [
      "Running HiGHS 1.6.0: Copyright (c) 2023 HiGHS under MIT licence terms\n",
      "Presolving model\n",
      "303 rows, 240 cols, 903 nonzeros\n",
      "263 rows, 212 cols, 871 nonzeros\n",
      "\n",
      "Solving MIP model with:\n",
      "   263 rows\n",
      "   212 cols (19 binary, 0 integer, 0 implied int., 193 continuous)\n",
      "   871 nonzeros\n",
      "\n",
      "        Nodes      |    B&B Tree     |            Objective Bounds              |  Dynamic Constraints |       Work      \n",
      "     Proc. InQueue |  Leaves   Expl. | BestBound       BestSol              Gap |   Cuts   InLp Confl. | LpIters     Time\n",
      "\n",
      "         0       0         0   0.00%   -inf            inf                  inf        0      0      0         0     0.0s\n",
      " R       0       0         0   0.00%   754952.475823   77122094.37582    99.02%        0      0      0       153     0.0s\n",
      " L       0       0         0   0.00%   754952.900311   754952.900311      0.00%       30      5      0       162     0.0s\n",
      "\n",
      "Solving report\n",
      "  Status            Optimal\n",
      "  Primal bound      754952.900311\n",
      "  Dual bound        754952.900311\n",
      "  Gap               0% (tolerance: 1%)\n",
      "  Solution status   feasible\n",
      "                    754952.900311 (objective)\n",
      "                    0 (bound viol.)\n",
      "                    0 (int. viol.)\n",
      "                    0 (row viol.)\n",
      "  Timing            0.02 (total)\n",
      "                    0.00 (presolve)\n",
      "                    0.00 (postsolve)\n",
      "  Nodes             1\n",
      "  LP iterations     237 (total)\n",
      "                    0 (strong br.)\n",
      "                    9 (separation)\n",
      "                    75 (heuristics)\n"
     ]
    },
    {
     "data": {
      "text/plain": [
       "(CAPG = [0.0, -0.0, 1510.2377853529313], CAPG_COMMIT = [-0.0 -0.0 -0.0 -0.0; 0.0 0.0 0.0 -0.0; 1510.2377853529313 1510.2377853529313 1510.2377853529313 1510.2377853529313], CAPR = [0.0, 825.730113], CAPS = [0.0, 0.0, 0.0, 0.0, 0.0, 0.0, 0.0, 0.0, 0.0, -0.0, 526.3283763017587, 0.0, 0.0, 0.0], SOCM = [0.0, 0.0, 0.0, 0.0, 0.0, 0.0, 0.0, 0.0, 0.0, 0.0, 968.0967681711597, 0.0, 0.0, 0.0], GEN = [-0.0 -0.0 -0.0 -0.0; 0.0 0.0 0.0 -0.0; 906.1426712117587 1510.2377853529313 906.1426712117587 1510.2377853529313], REn = [0.0 -0.0 0.0 0.0; 281.3046591682413 0.0 0.0 412.8650565], CHARGE = [0.0 0.0 -0.0 0.0; 0.0 0.0 -0.0 0.0; … ; 0.0 0.0 -0.0 0.0; 0.0 0.0 -0.0 0.0], DISCHARGE = [0.0 -0.0 0.0 -0.0; 0.0 0.0 0.0 -0.0; … ; 0.0 -0.0 0.0 -0.0; 0.0 -0.0 0.0 -0.0], SOC = [0.0 0.0 0.0 0.0; 0.0 0.0 0.0 0.0; … ; 0.0 0.0 0.0 0.0; 0.0 0.0 0.0 0.0], COMMIT = [0.0 0.0 0.0 0.0; 0.0 0.0 0.0 0.0; 1.0 1.0 1.0 1.0], START = [0.0 0.0 0.0 0.0; 0.0 0.0 0.0 0.0; 1.0 0.0 0.0 0.0], SHUT = [0.0 0.0 0.0 0.0; 0.0 0.0 0.0 0.0; 0.0 0.0 0.0 0.0], NSE = [0.0, 0.0, 0.0, 0.0], ThermalIC = 453071.3356058794, StoragePowIC = 184214.93170561554, StorageEnIC = 34851.48365416175, ThermalOC = 241.638045656469, RenewableOC = 0.0, StartupOC = 0.5, NSE_C = 0.0, TIC = 754710.7622656567, TOC = 242.138045656469, OV = 754952.9003113131)"
      ]
     },
     "metadata": {},
     "output_type": "display_data"
    }
   ],
   "source": [
    "sol = GESP(stor_info, ther_info, ren_info, load_forecast, capacity_factor,30000, 10000, 0.01)"
   ]
  },
  {
   "cell_type": "code",
   "execution_count": 4,
   "metadata": {},
   "outputs": [
    {
     "data": {
      "text/plain": [
       "14-element Vector{Float64}:\n",
       "   0.0\n",
       "   0.0\n",
       "   0.0\n",
       "   0.0\n",
       "   0.0\n",
       "   0.0\n",
       "   0.0\n",
       "   0.0\n",
       "   0.0\n",
       "   0.0\n",
       " 968.0967681711597\n",
       "   0.0\n",
       "   0.0\n",
       "   0.0"
      ]
     },
     "metadata": {},
     "output_type": "display_data"
    }
   ],
   "source": [
    "sol.SOCM"
   ]
  },
  {
   "cell_type": "code",
   "execution_count": 5,
   "metadata": {},
   "outputs": [
    {
     "data": {
      "text/plain": [
       "14×4 Matrix{Float64}:\n",
       " 0.0    0.0    -0.0    0.0\n",
       " 0.0    0.0    -0.0    0.0\n",
       " 0.0    0.0    -0.0    0.0\n",
       " 0.0    0.0    -0.0    0.0\n",
       " 0.0    0.0    -0.0    0.0\n",
       " 0.0    0.0    -0.0    0.0\n",
       " 0.0    0.0    -0.0    0.0\n",
       " 0.0    0.0    -0.0    0.0\n",
       " 0.0    0.0    -0.0    0.0\n",
       " 0.0   -0.0    -0.0    0.0\n",
       " 0.0  353.76  526.328  0.0\n",
       " 0.0    0.0    -0.0    0.0\n",
       " 0.0    0.0    -0.0    0.0\n",
       " 0.0    0.0    -0.0    0.0"
      ]
     },
     "metadata": {},
     "output_type": "display_data"
    }
   ],
   "source": [
    "sol.CHARGE"
   ]
  },
  {
   "cell_type": "code",
   "execution_count": 6,
   "metadata": {},
   "outputs": [
    {
     "data": {
      "text/plain": [
       "14×4 Matrix{Float64}:\n",
       " 0.0  -0.0  0.0   -0.0\n",
       " 0.0   0.0  0.0   -0.0\n",
       " 0.0   0.0  0.0   -0.0\n",
       " 0.0  -0.0  0.0   -0.0\n",
       " 0.0  -0.0  0.0   -0.0\n",
       " 0.0  -0.0  0.0   -0.0\n",
       " 0.0  -0.0  0.0   -0.0\n",
       " 0.0  -0.0  0.0   -0.0\n",
       " 0.0  -0.0  0.0   -0.0\n",
       " 0.0   0.0  0.0   -0.0\n",
       " 0.0   0.0  0.0  266.227\n",
       " 0.0  -0.0  0.0   -0.0\n",
       " 0.0  -0.0  0.0   -0.0\n",
       " 0.0  -0.0  0.0   -0.0"
      ]
     },
     "metadata": {},
     "output_type": "display_data"
    }
   ],
   "source": [
    "sol.DISCHARGE"
   ]
  },
  {
   "cell_type": "code",
   "execution_count": 7,
   "metadata": {},
   "outputs": [
    {
     "data": {
      "text/plain": [
       "14×4 Matrix{Float64}:\n",
       "   0.0      0.0      0.0      0.0\n",
       "   0.0      0.0      0.0      0.0\n",
       "   0.0      0.0      0.0      0.0\n",
       "   0.0      0.0      0.0      0.0\n",
       "   0.0      0.0      0.0      0.0\n",
       "   0.0      0.0      0.0      0.0\n",
       "   0.0      0.0      0.0      0.0\n",
       "   0.0      0.0      0.0      0.0\n",
       "   0.0      0.0      0.0      0.0\n",
       "   0.0      0.0     -0.0      0.0\n",
       " 484.048  678.616  968.097  484.048\n",
       "   0.0      0.0      0.0      0.0\n",
       "   0.0      0.0      0.0      0.0\n",
       "   0.0      0.0      0.0      0.0"
      ]
     },
     "metadata": {},
     "output_type": "display_data"
    }
   ],
   "source": [
    "sol.SOC"
   ]
  },
  {
   "cell_type": "code",
   "execution_count": 8,
   "metadata": {},
   "outputs": [
    {
     "data": {
      "text/plain": [
       "14-element Vector{Float64}:\n",
       "   0.0\n",
       "   0.0\n",
       "   0.0\n",
       "   0.0\n",
       "   0.0\n",
       "   0.0\n",
       "   0.0\n",
       "   0.0\n",
       "   0.0\n",
       "  -0.0\n",
       " 526.3283763017587\n",
       "   0.0\n",
       "   0.0\n",
       "   0.0"
      ]
     },
     "metadata": {},
     "output_type": "display_data"
    }
   ],
   "source": [
    "sol.CAPS"
   ]
  },
  {
   "cell_type": "markdown",
   "metadata": {},
   "source": [
    "## 2. Sensitivity Analysis of Storage Efficiencies"
   ]
  },
  {
   "cell_type": "code",
   "execution_count": 9,
   "metadata": {},
   "outputs": [
    {
     "data": {
      "text/html": [
       "<div><div style = \"float: left;\"><span>48×2 DataFrame</span></div><div style = \"float: right;\"><span style = \"font-style: italic;\">23 rows omitted</span></div><div style = \"clear: both;\"></div></div><div class = \"data-frame\" style = \"overflow-x: scroll;\"><table class = \"data-frame\" style = \"margin-bottom: 6px;\"><thead><tr class = \"header\"><th class = \"rowNumber\" style = \"font-weight: bold; text-align: right;\">Row</th><th style = \"text-align: left;\">hh</th><th style = \"text-align: left;\">load</th></tr><tr class = \"subheader headerLastRow\"><th class = \"rowNumber\" style = \"font-weight: bold; text-align: right;\"></th><th title = \"Int64\" style = \"text-align: left;\">Int64</th><th title = \"Int64\" style = \"text-align: left;\">Int64</th></tr></thead><tbody><tr><td class = \"rowNumber\" style = \"font-weight: bold; text-align: right;\">1</td><td style = \"text-align: right;\">1</td><td style = \"text-align: right;\">23607</td></tr><tr><td class = \"rowNumber\" style = \"font-weight: bold; text-align: right;\">2</td><td style = \"text-align: right;\">2</td><td style = \"text-align: right;\">24252</td></tr><tr><td class = \"rowNumber\" style = \"font-weight: bold; text-align: right;\">3</td><td style = \"text-align: right;\">3</td><td style = \"text-align: right;\">24565</td></tr><tr><td class = \"rowNumber\" style = \"font-weight: bold; text-align: right;\">4</td><td style = \"text-align: right;\">4</td><td style = \"text-align: right;\">23498</td></tr><tr><td class = \"rowNumber\" style = \"font-weight: bold; text-align: right;\">5</td><td style = \"text-align: right;\">5</td><td style = \"text-align: right;\">22784</td></tr><tr><td class = \"rowNumber\" style = \"font-weight: bold; text-align: right;\">6</td><td style = \"text-align: right;\">6</td><td style = \"text-align: right;\">22292</td></tr><tr><td class = \"rowNumber\" style = \"font-weight: bold; text-align: right;\">7</td><td style = \"text-align: right;\">7</td><td style = \"text-align: right;\">21365</td></tr><tr><td class = \"rowNumber\" style = \"font-weight: bold; text-align: right;\">8</td><td style = \"text-align: right;\">8</td><td style = \"text-align: right;\">20483</td></tr><tr><td class = \"rowNumber\" style = \"font-weight: bold; text-align: right;\">9</td><td style = \"text-align: right;\">9</td><td style = \"text-align: right;\">20590</td></tr><tr><td class = \"rowNumber\" style = \"font-weight: bold; text-align: right;\">10</td><td style = \"text-align: right;\">10</td><td style = \"text-align: right;\">20338</td></tr><tr><td class = \"rowNumber\" style = \"font-weight: bold; text-align: right;\">11</td><td style = \"text-align: right;\">11</td><td style = \"text-align: right;\">19473</td></tr><tr><td class = \"rowNumber\" style = \"font-weight: bold; text-align: right;\">12</td><td style = \"text-align: right;\">12</td><td style = \"text-align: right;\">19297</td></tr><tr><td class = \"rowNumber\" style = \"font-weight: bold; text-align: right;\">13</td><td style = \"text-align: right;\">13</td><td style = \"text-align: right;\">19784</td></tr><tr><td style = \"text-align: right;\">&vellip;</td><td style = \"text-align: right;\">&vellip;</td><td style = \"text-align: right;\">&vellip;</td></tr><tr><td class = \"rowNumber\" style = \"font-weight: bold; text-align: right;\">37</td><td style = \"text-align: right;\">37</td><td style = \"text-align: right;\">32558</td></tr><tr><td class = \"rowNumber\" style = \"font-weight: bold; text-align: right;\">38</td><td style = \"text-align: right;\">38</td><td style = \"text-align: right;\">31677</td></tr><tr><td class = \"rowNumber\" style = \"font-weight: bold; text-align: right;\">39</td><td style = \"text-align: right;\">39</td><td style = \"text-align: right;\">30686</td></tr><tr><td class = \"rowNumber\" style = \"font-weight: bold; text-align: right;\">40</td><td style = \"text-align: right;\">40</td><td style = \"text-align: right;\">29852</td></tr><tr><td class = \"rowNumber\" style = \"font-weight: bold; text-align: right;\">41</td><td style = \"text-align: right;\">41</td><td style = \"text-align: right;\">28959</td></tr><tr><td class = \"rowNumber\" style = \"font-weight: bold; text-align: right;\">42</td><td style = \"text-align: right;\">42</td><td style = \"text-align: right;\">27709</td></tr><tr><td class = \"rowNumber\" style = \"font-weight: bold; text-align: right;\">43</td><td style = \"text-align: right;\">43</td><td style = \"text-align: right;\">26383</td></tr><tr><td class = \"rowNumber\" style = \"font-weight: bold; text-align: right;\">44</td><td style = \"text-align: right;\">44</td><td style = \"text-align: right;\">25159</td></tr><tr><td class = \"rowNumber\" style = \"font-weight: bold; text-align: right;\">45</td><td style = \"text-align: right;\">45</td><td style = \"text-align: right;\">24167</td></tr><tr><td class = \"rowNumber\" style = \"font-weight: bold; text-align: right;\">46</td><td style = \"text-align: right;\">46</td><td style = \"text-align: right;\">23267</td></tr><tr><td class = \"rowNumber\" style = \"font-weight: bold; text-align: right;\">47</td><td style = \"text-align: right;\">47</td><td style = \"text-align: right;\">21496</td></tr><tr><td class = \"rowNumber\" style = \"font-weight: bold; text-align: right;\">48</td><td style = \"text-align: right;\">48</td><td style = \"text-align: right;\">20849</td></tr></tbody></table></div>"
      ],
      "text/latex": [
       "\\begin{tabular}{r|cc}\n",
       "\t& hh & load\\\\\n",
       "\t\\hline\n",
       "\t& Int64 & Int64\\\\\n",
       "\t\\hline\n",
       "\t1 & 1 & 23607 \\\\\n",
       "\t2 & 2 & 24252 \\\\\n",
       "\t3 & 3 & 24565 \\\\\n",
       "\t4 & 4 & 23498 \\\\\n",
       "\t5 & 5 & 22784 \\\\\n",
       "\t6 & 6 & 22292 \\\\\n",
       "\t7 & 7 & 21365 \\\\\n",
       "\t8 & 8 & 20483 \\\\\n",
       "\t9 & 9 & 20590 \\\\\n",
       "\t10 & 10 & 20338 \\\\\n",
       "\t11 & 11 & 19473 \\\\\n",
       "\t12 & 12 & 19297 \\\\\n",
       "\t13 & 13 & 19784 \\\\\n",
       "\t14 & 14 & 20061 \\\\\n",
       "\t15 & 15 & 20122 \\\\\n",
       "\t16 & 16 & 19845 \\\\\n",
       "\t17 & 17 & 20029 \\\\\n",
       "\t18 & 18 & 20779 \\\\\n",
       "\t19 & 19 & 21137 \\\\\n",
       "\t20 & 20 & 22563 \\\\\n",
       "\t21 & 21 & 24171 \\\\\n",
       "\t22 & 22 & 25393 \\\\\n",
       "\t23 & 23 & 26607 \\\\\n",
       "\t24 & 24 & 27616 \\\\\n",
       "\t$\\dots$ & $\\dots$ & $\\dots$ \\\\\n",
       "\\end{tabular}\n"
      ],
      "text/plain": [
       "\u001b[1m48×2 DataFrame\u001b[0m\n",
       "\u001b[1m Row \u001b[0m│\u001b[1m hh    \u001b[0m\u001b[1m load  \u001b[0m\n",
       "     │\u001b[90m Int64 \u001b[0m\u001b[90m Int64 \u001b[0m\n",
       "─────┼──────────────\n",
       "   1 │     1  23607\n",
       "   2 │     2  24252\n",
       "   3 │     3  24565\n",
       "   4 │     4  23498\n",
       "   5 │     5  22784\n",
       "   6 │     6  22292\n",
       "   7 │     7  21365\n",
       "   8 │     8  20483\n",
       "  ⋮  │   ⋮      ⋮\n",
       "  42 │    42  27709\n",
       "  43 │    43  26383\n",
       "  44 │    44  25159\n",
       "  45 │    45  24167\n",
       "  46 │    46  23267\n",
       "  47 │    47  21496\n",
       "  48 │    48  20849\n",
       "\u001b[36m     33 rows omitted\u001b[0m"
      ]
     },
     "metadata": {},
     "output_type": "display_data"
    }
   ],
   "source": [
    "storageinfo = CSV.read(joinpath(\"data\",\"cleaned\",\"storageinfo.csv\"), DataFrame)\n",
    "gbgeneratorinfo = CSV.read(joinpath(\"data\",\"cleaned\",\"gbgeneratorinfo.csv\"), DataFrame)\n",
    "gbvreinfo = CSV.read(joinpath(\"data\",\"cleaned\",\"gbvreinfo.csv\"), DataFrame)\n",
    "gbhalfhourlydemand = CSV.read(joinpath(\"data\",\"cleaned\",\"gbhalfhourlydemand.csv\"), DataFrame)\n",
    "gbhalfhourlyvrecf = CSV.read(joinpath(\"data\",\"cleaned\",\"gbhalfhourlyvrecf.csv\"), DataFrame)\n",
    "gbhalfhourlydemand = gbhalfhourlydemand[1:48,:]\n",
    "gbhalfhourlydemand[!,:load] = map(x->x-gbgeneratorinfo[gbgeneratorinfo.name.==\"Nuclear\",:installedMW][1],gbhalfhourlydemand[:,:load])\n",
    "gbhalfl=hourlyvrecf = gbhalfhourlyvrecf[1:48,:];\n",
    "gbhalfhourlydemand\n"
   ]
  },
  {
   "cell_type": "code",
   "execution_count": 10,
   "metadata": {},
   "outputs": [
    {
     "data": {
      "text/plain": [
       "GESP (generic function with 4 methods)"
      ]
     },
     "metadata": {},
     "output_type": "display_data"
    }
   ],
   "source": [
    "# storageinfo: \n",
    "# id,storageMethod,name,installedMW,dischargeCost,chargeCost,powerCost,energyCost,chargeEff,dischargeEff,eff\n",
    "\n",
    "# gbgeneratorinfo:\n",
    "# id,name,installedMW,minPrate,fixedCost,varCost,startCostperMW,rampupRate,rampdownRate,minupTime,mindownTime,af\n",
    "\n",
    "# gbvreinfo:\n",
    "# id,name,installedMW,fixedCost,varCost\n",
    "\n",
    "# gbhalfhourlydemand:\n",
    "# hh,load\n",
    "\n",
    "# gbhalfhourlyvrecf:\n",
    "# id,name,installedMW,fixedCost,varCost\n",
    "\n",
    "function GESP(storageinfo, gbgeneratorinfo, gbvreinfo, gbhalfhourlydemand, gbhalfhourlyvrecf; Budget=1e9, VoLL=30000, bigM = 10000, mip_gap=0.01)\n",
    "\n",
    "    # SETS\n",
    "    G = gbgeneratorinfo.id\n",
    "    G = G[1:end-1]\n",
    "    G_fixed = gbgeneratorinfo[(gbgeneratorinfo.name .== \"Coal\"),:id]\n",
    "    R = gbvreinfo.id\n",
    "    S = storageinfo.id\n",
    "    T = gbhalfhourlydemand.hh\n",
    "    T1 = T[2:end]\n",
    "\n",
    "    # INIT\n",
    "    model = Model()\n",
    "    set_optimizer(model, HiGHS.Optimizer)\n",
    "    set_optimizer_attribute(model, \"mip_rel_gap\", mip_gap)\n",
    "\n",
    "    # VARIABLES\n",
    "    @variables(model, begin\n",
    "        CAPG[G] >= 0\n",
    "        CAPG_COMMIT[G,T] >= 0\n",
    "        CAPG_COMMIT2[G,T] >= 0\n",
    "        CAPR[R] >= 0\n",
    "        CAPS[S] >= 0\n",
    "        SOCM[S] >= 0\n",
    "        GEN[G,T] >= 0\n",
    "        REN[R,T] >= 0\n",
    "        CHARGE[S,T] >= 0\n",
    "        CHARGE_STATE[S,T], Bin\n",
    "        DISCHARGE[S,T] >= 0\n",
    "        DISCHARGE_STATE[S,T], Bin\n",
    "        SOC[S,T] >= 0\n",
    "        COMMIT[G,T], Bin\n",
    "        START[G,T], Bin\n",
    "        SHUT[G,T], Bin\n",
    "        NSE[T] >= 0\n",
    "    end)\n",
    "\n",
    "    # INVESTMENT COSTS\n",
    "    @expression(model, GeneratorIC, sum(gbgeneratorinfo[gbgeneratorinfo.id .== g, :fixedCost][1] * (CAPG[g] - gbgeneratorinfo[gbgeneratorinfo.id.==g,:installedMW][1]) for g in G))\n",
    "    @expression(model, VreIC, sum(gbvreinfo[gbvreinfo.id .== r, :fixedCost][1] * (CAPR[r] - gbvreinfo[gbvreinfo.id.==r,:installedMW][1]) for r in R))\n",
    "    @expression(model, StoragePowIC, sum(storageinfo[storageinfo.id .== s, :powerCost][1] * CAPS[s] for s in S))\n",
    "    @expression(model, StorageEnIC, sum(storageinfo[storageinfo.id .== s, :energyCost][1] * SOCM[s] for s in S))\n",
    "    @expression(model, TIC, GeneratorIC + VreIC + StoragePowIC + StorageEnIC)\n",
    "    @constraint(model, BudgetConstraint, TIC <= Budget)\n",
    "\n",
    "    # OPERATION COSTS\n",
    "    @expression(model, GeneratorOC, \n",
    "        sum(0.5 * gbgeneratorinfo[gbgeneratorinfo.id .== g, :varCost][1] * GEN[g,t] for g in G for t in T))\n",
    "    @expression(model, VreOC, \n",
    "        sum(0.5 * gbvreinfo[gbvreinfo.id .== r, :varCost][1] * REN[r,t] for r in R for t in T))\n",
    "    @expression(model, StartupOC, \n",
    "        sum(gbgeneratorinfo[gbgeneratorinfo.id .== g, :startCostperMW][1] * START[g,t] for g in G for t in T))\n",
    "    @expression(model, NSE_C, \n",
    "        sum(VoLL * NSE[t] for t in T))\n",
    "    @expression(model, TOC, GeneratorOC + VreOC + StartupOC + NSE_C)\n",
    "\n",
    "    # OBJECTIVE FUNCTION\n",
    "    @objective(model, Min, TOC)\n",
    "\n",
    "    # POWER BALANCE CONSTRAINT\n",
    "    @constraint(model, PowerBalanceC[t in T], sum(GEN[g,t] for g in G) + sum(REN[r,t] for r in R) + sum(DISCHARGE[s,t] for s in S) - sum(CHARGE[s,t] for s in S) + NSE[t] == gbhalfhourlydemand[gbhalfhourlydemand.hh.==t,:load][1])\n",
    "\n",
    "    # Generator GENERATION LIMIT CONSTRAINT\n",
    "    @constraint(model, LessThanMC[g in G, t in T], CAPG_COMMIT[g,t] <= bigM * COMMIT[g,t])\n",
    "    @constraint(model, LessThanCapC[g in G, t in T], CAPG_COMMIT[g,t] <= CAPG[g])\n",
    "    @constraint(model, AuxIsRealC[g in G, t in T], CAPG_COMMIT[g,t] >= CAPG[g] - (1- COMMIT[g,t]) * bigM)\n",
    "    @constraint(model, GeneratorLimC[g in G, t in T], GEN[g,t] <= CAPG_COMMIT[g,t])\n",
    "    @constraint(model, GeneratorMinLimC[g in G, t in T], GEN[g,t] >= gbgeneratorinfo[gbgeneratorinfo.id.==g,:minPrate][1] * CAPG_COMMIT[g,t])\n",
    "\n",
    "    # existing capacity constraints\n",
    "    @constraint(model, GeneratorEC[g in G], CAPG[g] >= gbgeneratorinfo[gbgeneratorinfo.id.==g,:installedMW][1])\n",
    "    @constraint(model, VreEC[r in R], CAPR[r] >= gbvreinfo[gbvreinfo.id.==r,:installedMW][1])\n",
    "\n",
    "    # cannot build new nuclear and coal constraint\n",
    "    @constraint(model, GeneratorFixed[g in G_fixed], CAPG[g] <= gbgeneratorinfo[gbgeneratorinfo.id.==g,:installedMW][1])\n",
    "\n",
    "    # START CONSTRAINT\n",
    "    @constraint(model, StartC[g in G, t in T], \n",
    "        COMMIT[g,t] >= sum(START[g,i] for i in max(1,t-gbgeneratorinfo[gbgeneratorinfo.id.==g,:minupTime][1]):t))\n",
    "\n",
    "    # SHUT CONSTRAINT\n",
    "    @constraint(model, ShutC[g in G, t in T], \n",
    "        1 - COMMIT[g,t] >= sum(SHUT[g,i] for i in max(1,t-gbgeneratorinfo[gbgeneratorinfo.id.==g,:mindownTime][1]):t))\n",
    "\n",
    "    # COMMIT CONSTRAINT\n",
    "    @constraint(model, CommitC[g in G, t in T1], COMMIT[g,t] - COMMIT[g,t-1] == START[g,t] - SHUT[g,t])\n",
    "\n",
    "    # Generator RAMP UP CONSTRAINT\n",
    "    @constraint(model, TherRampUpC[g in G, t in T1], \n",
    "        GEN[g,t] - GEN[g,t-1] <= gbgeneratorinfo[gbgeneratorinfo.id.==g,:rampupRate][1] * CAPG[g])\n",
    "    \n",
    "    # Generator RAMP DOWN CONSTRAINT\n",
    "    @constraint(model, TherRampDnC[g in G, t in T1], \n",
    "        GEN[g,t-1] - GEN[g,t] <= gbgeneratorinfo[gbgeneratorinfo.id.==g,:rampdownRate][1] * CAPG[g])\n",
    "\n",
    "    # VRE LIMIT CONSTRAINT\n",
    "    @constraint(model, VreC[r in R, t in T], \n",
    "        REN[r,t] <= CAPR[r] * gbhalfhourlyvrecf[(gbhalfhourlyvrecf.vre_id.==r) .& (gbhalfhourlyvrecf.hh.==t), :cf][1])\n",
    "    \n",
    "    # CHARGE LIMIT CONSTRAINT\n",
    "    @constraint(model, ChargeC[s in S, t in T], CHARGE[s,t] <= CAPS[s])\n",
    "    @constraint(model, ChargeIni[s in S], CHARGE[s,1] == 0)\n",
    "\n",
    "    # DISCHARGE LIMIT CONSTRAINT\n",
    "    @constraint(model, DischargeC[s in S, t in T], DISCHARGE[s,t] <= CAPS[s])\n",
    "    @constraint(model, DischargeIni[s in S], DISCHARGE[s,1] == 0)\n",
    "\n",
    "    # SOC LIMIT CONSTRAINT\n",
    "    @constraint(model, SocLimitC[s in S, t in T], SOC[s,t] <= SOCM[s])\n",
    "\n",
    "    # SOC UPDATE CONSTRAINT\n",
    "    @constraint(model, SocUpdateC[s in S, t in T1],\n",
    "        SOC[s, t] == SOC[s,t-1] + CHARGE[s,t] - DISCHARGE[s,t])\n",
    "    \n",
    "    # SOC INI CONSTRAINT\n",
    "    @constraint(model, SocIniC[s in S], SOC[s,1] == 0.5 * SOCM[s])\n",
    "\n",
    "    # SOC END CONSTRAINT\n",
    "    @constraint(model, SocEndC[s in S], SOC[s,length(T)] == 0.5 * SOCM[s])\n",
    "\n",
    "    # avoid commit before start\n",
    "    @constraint(model, StartBefCommitC[g in G, t in T], COMMIT[g,t] <= sum(START[g,i] for i in minimum(T):t))\n",
    "\n",
    "    # SOLVE GESP\n",
    "    optimize!(model)\n",
    "\n",
    "    return(\n",
    "        CAPG = value.(CAPG).data,\n",
    "        CAPG_COMMIT = value.(CAPG_COMMIT).data,\n",
    "        CAPR = value.(CAPR).data,\n",
    "        CAPS = value.(CAPS).data,\n",
    "        SOCM = value.(SOCM).data,\n",
    "        GEN = value.(GEN).data,\n",
    "        REN = value.(REN).data,\n",
    "        CHARGE = value.(CHARGE).data,\n",
    "        DISCHARGE = value.(DISCHARGE).data,\n",
    "        SOC = value.(SOC).data,\n",
    "        COMMIT = value.(COMMIT).data,\n",
    "        START = value.(START).data,\n",
    "        SHUT = value.(SHUT).data,\n",
    "        NSE = value.(NSE).data,\n",
    "        GeneratorIC = value(GeneratorIC),\n",
    "        StoragePowIC = value(StoragePowIC),\n",
    "        StorageEnIC = value(StorageEnIC),\n",
    "        GeneratorOC = value(GeneratorOC),\n",
    "        VreOC = value(VreOC),\n",
    "        StartupOC = value(StartupOC),\n",
    "        NSE_C = value(NSE_C),\n",
    "        TIC = value(TIC),\n",
    "        TOC = value(TOC),\n",
    "        OV = objective_value(model)\n",
    "    )\n",
    "end"
   ]
  },
  {
   "cell_type": "code",
   "execution_count": 11,
   "metadata": {},
   "outputs": [
    {
     "name": "stdout",
     "output_type": "stream",
     "text": [
      "Running HiGHS 1.6.0: Copyright (c) 2023 HiGHS under MIT licence terms\n",
      "Presolving model\n",
      "5349 rows, 3348 cols, 22044 nonzeros\n",
      "4786 rows, 2991 cols, 19305 nonzeros\n",
      "\n",
      "Solving MIP model with:\n",
      "   4786 rows\n",
      "   2991 cols (454 binary, 0 integer, 1 implied int., 2536 continuous)\n",
      "   19305 nonzeros\n",
      "\n",
      "        Nodes      |    B&B Tree     |            Objective Bounds              |  Dynamic Constraints |       Work      \n",
      "     Proc. InQueue |  Leaves   Expl. | BestBound       BestSol              Gap |   Cuts   InLp Confl. | LpIters     Time\n",
      "\n",
      "         0       0         0   0.00%   133512.961956   inf                  inf        0      0      0         0     0.1s\n",
      " R       0       0         0   0.00%   7535638.989574  412008135.6072    98.17%        0      0      0      3412     0.4s\n",
      " C       0       0         0   0.00%   8334735.945573  411926991.6072    97.98%     1367     47      0      4612     0.7s\n",
      " L       0       0         0   0.00%   8883232.988462  10639474.62063    16.51%     2828    266      0      8511     6.2s\n",
      "\n",
      "Symmetry detection completed in 0.0s\n",
      "No symmetry present\n",
      "\n",
      "        14       3         3  54.69%   9427674.697837  10639474.62063    11.39%     1927    174     51     53926    11.3s\n",
      " T      14       0         3  76.56%   9427674.697837  10003662.90371     5.76%     1927    174     51     53926    12.3s\n",
      " T      35       0         4  76.66%   9427674.697837  9872443.0836       4.51%     1933    174     53     60686    12.9s\n",
      "\n",
      "Solving report\n",
      "  Status            Optimal\n",
      "  Primal bound      9872443.0836\n",
      "  Dual bound        9783079.73124\n",
      "  Gap               0.905% (tolerance: 1%)\n",
      "  Solution status   feasible\n",
      "                    9872443.0836 (objective)\n",
      "                    0 (bound viol.)\n",
      "                    1.00312948117e-11 (int. viol.)\n",
      "                    0 (row viol.)\n",
      "  Timing            13.08 (total)\n",
      "                    0.06 (presolve)\n",
      "                    0.00 (postsolve)\n",
      "  Nodes             46\n",
      "  LP iterations     65348 (total)\n",
      "                    36554 (strong br.)\n",
      "                    5390 (separation)\n",
      "                    15234 (heuristics)\n"
     ]
    },
    {
     "data": {
      "text/plain": [
       "(CAPG = [1409.0, 28785.0, 3381.0, 1466.0, 2580.0], CAPG_COMMIT = [1409.0 1409.0 … 0.0 0.0; 0.0 0.0 … 0.0 0.0; … ; 1466.0 1466.0 … -2.2737367544323206e-13 0.0; 0.0 0.0 … 0.0 0.0], CAPR = [4881.0, 11484.0, 14362.0], CAPS = [-0.0, -0.0, -0.0, -0.0, -0.0, -0.0, 0.0, -0.0, -0.0, -0.0, 1740.0796580310878, -0.0, -0.0, -0.0], SOCM = [-0.0, -0.0, 0.0, 0.0, 0.0, 0.0, 0.0, -0.0, -0.0, 0.0, 10860.336658031089, -0.0, -0.0, -0.0], GEN = [563.5999999999985 563.6 … 0.0 0.0; 4.547473508864641e-13 -0.0 … 0.0 0.0; … ; 1466.0 1466.0 … -2.2737367544323206e-13 -0.0; -0.0 0.0 … -0.0 0.0], REN = [0.0 0.0 … 0.0 0.0; 7840.1268 7840.1268 … 9392.54785803109 8745.54785803109; 10813.149800000001 10813.149800000001 … 13843.531799999999 13843.531799999999], CHARGE = [0.0 -0.0 … -0.0 -0.0; 0.0 0.0 … -0.0 0.0; … ; 0.0 0.0 … -0.0 -0.0; 0.0 0.0 … -0.0 -0.0], DISCHARGE = [0.0 0.0 … 0.0 0.0; 0.0 -0.0 … -0.0 -0.0; … ; 0.0 -0.0 … 0.0 0.0; 0.0 -0.0 … 0.0 0.0], SOC = [0.0 -0.0 … -0.0 0.0; 0.0 -0.0 … -0.0 0.0; … ; 0.0 -0.0 … -0.0 0.0; 0.0 -0.0 … -0.0 0.0], COMMIT = [1.0 1.0 … 0.0 0.0; 0.0 0.0 … 0.0 0.0; … ; 1.0 1.0 … -1.5509800507723879e-16 -1.5509800507723879e-16; 0.0 0.0 … 0.0 0.0], START = [1.0 0.0 … 0.0 0.0; -0.0 0.0 … 0.0 0.0; … ; 1.0 0.0 … 0.0 0.0; 0.0 0.0 … 0.0 0.0], SHUT = [0.0 0.0 … 0.0 0.0; 0.0 0.0 … 0.0 0.0; … ; 0.0 0.0 … 0.0 0.0; 0.0 0.0 … 0.0 0.0], NSE = [0.0, 0.0, 0.0, 0.0, 0.0, 0.0, 0.0, 0.0, 0.0, 0.0  …  0.0, 0.0, 0.0, 0.0, 0.0, 0.0, 0.0, 0.0, 0.0, 0.0], GeneratorIC = 0.0, StoragePowIC = 609027.8803108807, StorageEnIC = 390972.11968911916, GeneratorOC = 7.088566787123138e6, VreOC = 2.7836852964766277e6, StartupOC = 191.00000000020063, NSE_C = 0.0, TIC = 999999.9999999999, TOC = 9.87244308359976e6, OV = 9.872443083599767e6)"
      ]
     },
     "metadata": {},
     "output_type": "display_data"
    }
   ],
   "source": [
    "sol = GESP(storageinfo, gbgeneratorinfo, gbvreinfo, gbhalfhourlydemand, gbhalfhourlyvrecf; Budget= 1000000, VoLL=100000, bigM = 100000, mip_gap=0.01)"
   ]
  },
  {
   "cell_type": "code",
   "execution_count": 34,
   "metadata": {},
   "outputs": [],
   "source": []
  }
 ],
 "metadata": {
  "kernelspec": {
   "display_name": "Julia 1.9.3",
   "language": "julia",
   "name": "julia-1.9"
  },
  "language_info": {
   "file_extension": ".jl",
   "mimetype": "application/julia",
   "name": "julia",
   "version": "1.9.3"
  }
 },
 "nbformat": 4,
 "nbformat_minor": 2
}
